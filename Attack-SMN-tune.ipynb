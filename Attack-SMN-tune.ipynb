{
 "cells": [
  {
   "cell_type": "code",
   "execution_count": 1,
   "metadata": {
    "collapsed": false,
    "deletable": true,
    "editable": true
   },
   "outputs": [
    {
     "name": "stderr",
     "output_type": "stream",
     "text": [
      "Building prefix dict from /Users/sunset/Talk2AI_Contest/datas/dict/dict.txt.big ...\n",
      "Loading model from cache /var/folders/43/l4vp_w_x4wb11mmy_bb1jrkc0000gn/T/jieba.u857f67a870683287981bc6f5b9493ffc.cache\n",
      "Loading model cost 2.067 seconds.\n",
      "Prefix dict has been built succesfully.\n"
     ]
    }
   ],
   "source": [
    "from gensim.models import word2vec\n",
    "import numpy as np\n",
    "from scipy import spatial\n",
    "\n",
    "# Import & Init jieba\n",
    "import jieba\n",
    "jieba.set_dictionary('datas/dict/dict.txt.big')\n",
    "jieba.load_userdict('datas/dict/edu_dict.txt')\n",
    "\n",
    "# Import pandas\n",
    "import pandas as pd\n",
    "from pandas import Series, DataFrame\n",
    "\n",
    "# Import util\n",
    "import os\n",
    "import re\n",
    "import json\n",
    "import time\n",
    "\n",
    "from mini_batch_helper import extractor, MiniBatchCorpus"
   ]
  },
  {
   "cell_type": "code",
   "execution_count": 2,
   "metadata": {
    "collapsed": true,
    "deletable": true,
    "editable": true
   },
   "outputs": [],
   "source": [
    "# Read in  training data\n",
    "word2vec_fname = 'models/word2vec/fine-tuned-2.txt'\n",
    "corpus_fnames = [\n",
    "#     'datas/training_data/下課花路米.txt',\n",
    "#     'datas/training_data/人生劇展.txt',\n",
    "#     'datas/training_data/公視藝文大道.txt',\n",
    "#     'datas/training_data/成語賽恩思.txt',\n",
    "#     'datas/training_data/我的這一班.txt',\n",
    "#     'datas/training_data/流言追追追.txt',\n",
    "#     'datas/training_data/聽聽看.txt',\n",
    "#     'datas/training_data/誰來晚餐.txt',\n",
    "]\n",
    "sample_rate_on_training_datas = 1.0  # 1.0\n",
    "extra_words = ['<pad>']\n",
    "unknown_word = None\n",
    "\n",
    "word2id, id2word, word_p, embedding_matrix, corpus, corpus_id = extractor(word2vec_fname, corpus_fnames, sample_rate_on_training_datas, extra_words, unknown_word)"
   ]
  },
  {
   "cell_type": "code",
   "execution_count": null,
   "metadata": {
    "collapsed": true,
    "deletable": true,
    "editable": true
   },
   "outputs": [],
   "source": [
    "valid_corpus_num = 10\n",
    "\n",
    "train_data_loader = MiniBatchCorpus(corpus_id[valid_corpus_num:], context_len=3, max_len=64)\n",
    "valid_data_loader = MiniBatchCorpus(corpus_id[:valid_corpus_num], context_len=3, max_len=64)\n",
    "print('train datas num:', train_data_loader.data_num, flush=True)\n",
    "print('valid datas num:', valid_data_loader.data_num, flush=True)"
   ]
  },
  {
   "cell_type": "code",
   "execution_count": 5,
   "metadata": {
    "collapsed": false,
    "deletable": true,
    "editable": true
   },
   "outputs": [],
   "source": [
    "exp_name = 'SMN_debug'\n",
    "# HyperParameters\n",
    "# Model Parameters\n",
    "hp = {}\n",
    "\n",
    "hp['word2vec_model_name'] = word2vec_fname\n",
    "hp['word2vec_vocab_size'] = embedding_matrix.shape[0]\n",
    "hp['word2vec_dim'] = embedding_matrix.shape[1]\n",
    "hp['rnn_dim'] = 256  # 200\n",
    "hp['forget_bias'] = 1.0 # 0.0\n",
    "\n",
    "hp['word_len'] = 64\n",
    "hp['filter_size'] = 3\n",
    "hp['stride_size'] = 1\n",
    "hp['fm1_num'] = 4  \n",
    "hp['fm2_num'] = 8\n",
    "hp['cell_type'] = 'gru'  # 'gru' or 'lstm'\n",
    "hp['keep_prob'] = 0.8  # 0.8 , 0.5 !\n",
    "# hp['fm1_size'] = int(hp['word_len']/(2*hp['stride_size']))  # unused ?? \n",
    "# hp['fm2_size'] = int(hp['word_len']/(2*hp['stride_size'])/(2*hp['stride_size']))\n",
    "\n",
    "# Training Parameters\n",
    "hp['learning_rate'] = 1e-3\n",
    "hp['decay_learning_rate'] = 0.8\n",
    "hp['decay_times_no_improve'] = 5\n",
    "hp['clip'] = 15\n",
    "hp['batch_size'] = 256\n",
    "# hp['n_iterations'] = int(20 * train_data_loader.data_num / hp['batch_size'])"
   ]
  },
  {
   "cell_type": "code",
   "execution_count": null,
   "metadata": {
    "collapsed": true,
    "deletable": true,
    "editable": true
   },
   "outputs": [],
   "source": [
    "# Export the hyperparameters as json\n",
    "save_hp_dir = 'models/%s/' %exp_name\n",
    "newest_model_dir = save_hp_dir + 'newest/'\n",
    "best_model_dir = save_hp_dir + 'best/'\n",
    "if not os.path.exists(save_hp_dir):\n",
    "    os.makedirs(save_hp_dir)\n",
    "with open(save_hp_dir+'model_parameters.json', 'w') as f:\n",
    "    json.dump(hp, f, indent=1)"
   ]
  },
  {
   "cell_type": "code",
   "execution_count": 6,
   "metadata": {
    "collapsed": true,
    "deletable": true,
    "editable": true
   },
   "outputs": [],
   "source": [
    "# Load in sample\n",
    "sample = pd.read_csv('datas/sample_test_data.txt')\n",
    "sample_x1 = [[s for s in re.sub('[A-Z]:', '\\t', _).split('\\t') if len(s.strip())] for _ in sample.dialogue.values]\n",
    "sample_x2 = [[s for s in re.sub('[A-Z]:', '\\t', _).split('\\t') if len(s.strip())] for _ in sample.options.values]\n",
    "sample_y = sample.answer.values\n",
    "assert(np.sum([len(_)!=6 for _ in sample_x2]) == 0)\n",
    "sample_len1 = np.array([len(lst) for lst in sample_x1])\n",
    "sample_len2 = np.array([[len(lst) for lst in opt] for opt in sample_x2])\n",
    "sample_x1 = [[word for word in jieba.cut(' '.join(s)) if word != ' '] for s in sample_x1]\n",
    "sample_x2 = [[[word for word in jieba.cut(r) if word != ' '] for r in rs] for rs in sample_x2]\n",
    "\n",
    "test_datas = pd.read_csv('datas/AIFirstProblem.txt')\n",
    "test_x1 = [[s for s in re.sub('[A-Z]:', '\\t', _).split('\\t') if len(s.strip())] for _ in test_datas.dialogue.values]\n",
    "test_x2 = [[s for s in re.sub('[A-Z]:', '\\t', _).split('\\t') if len(s.strip())] for _ in test_datas.options.values]\n",
    "assert(np.sum([len(_)!=6 for _ in test_x2]) == 0)\n",
    "test_len1 = np.array([len(lst) for lst in test_x1])\n",
    "test_len2 = np.array([[len(lst) for lst in opt] for opt in test_x2])\n",
    "test_x1 = [[word for word in jieba.cut(' '.join(s)) if word != ' '] for s in test_x1]\n",
    "test_x2 = [[[word for word in jieba.cut(r) if word != ' '] for r in rs] for rs in test_x2]\n",
    "with open('datas/AIFirst_test_answer.txt', 'r') as f:\n",
    "    f.readline()\n",
    "    test_y = np.array([int(line.strip().split(',')[-1]) for line in f])\n",
    "\n",
    "def word_lst_2_id_lst(lst, pad_to_len=-1):\n",
    "    pad_word_id = word2id['<pad>']\n",
    "    pad_len = max(len(lst), 0)\n",
    "    id_list = [word2id[lst[i]] if i<len(lst) and lst[i] in word2id else pad_word_id for i in range(pad_len)]\n",
    "    pad_len = pad_to_len - len(id_list)\n",
    "    if pad_len > 0:\n",
    "        id_list.extend([pad_word_id] * pad_len)\n",
    "    return id_list\n",
    "\n",
    "pad_to_length = hp['word_len']\n",
    "\n",
    "sample_id1 = np.array([word_lst_2_id_lst(s, pad_to_length) for s in sample_x1])\n",
    "sample_id2 = np.array([[word_lst_2_id_lst(r, pad_to_length) for r in rs] for rs in sample_x2])\n",
    "test_id1 = np.array([word_lst_2_id_lst(s, pad_to_length) for s in test_x1])\n",
    "test_id2 = np.array([[word_lst_2_id_lst(r, pad_to_length) for r in rs] for rs in test_x2])"
   ]
  },
  {
   "cell_type": "code",
   "execution_count": 7,
   "metadata": {
    "collapsed": true,
    "deletable": true,
    "editable": true
   },
   "outputs": [],
   "source": [
    "# Define model\n",
    "import tensorflow as tf\n",
    "\n",
    "def compute_accuracy(next_x1, next_x2, _y, _keep_prob):\n",
    "    global prediction\n",
    "    y_pre = sess.run(prediction, feed_dict={context: next_x1, response: next_x2, keep_prob:_keep_prob})\n",
    "    correct_prediction = tf.equal(tf.argmax(y_pre,1), tf.argmax(_y,1))\n",
    "    accuracy = tf.reduce_mean(tf.cast(correct_prediction, tf.float32))\n",
    "    result = sess.run(accuracy, feed_dict={context: next_x1, response: next_x2, target: _y, keep_prob:_keep_prob})\n",
    "    return result\n",
    " \n",
    "def weight_variable(shape):\n",
    "    initial = tf.random_uniform(shape,-1.0,1.0)\n",
    "    return tf.Variable(initial)\n",
    " \n",
    "def bias_variable(shape):\n",
    "    initial = tf.random_uniform(shape,-1.0,1.0)\n",
    "    return tf.Variable(initial)\n",
    " \n",
    "def conv2d(x, W):\n",
    "    return tf.nn.conv2d(x, W, strides=[1, hp['stride_size'], hp['stride_size'], 1], padding='SAME')\n",
    "\n",
    "def max_pool_2x2(x):\n",
    "    return tf.nn.max_pool(x, ksize=[1,2,2,1], strides=[1,2,2,1], padding='SAME')\n",
    "\n",
    "# Input\n",
    "context = tf.placeholder(dtype=tf.int32, shape=(None, None), name='context')\n",
    "context_len = tf.placeholder(dtype=tf.int32, shape=(None,), name='context_len')\n",
    "response = tf.placeholder(dtype=tf.int32, shape=(None, None), name='response')\n",
    "response_len = tf.placeholder(dtype=tf.int32, shape=(None,), name='response_len')\n",
    "target = tf.placeholder(dtype=tf.int32, shape=(None,), name='target')\n",
    "keep_prob = tf.placeholder(dtype=tf.float32, name='keep_prob')\n",
    "learning_rate = tf.placeholder(dtype=tf.float32, name='learning_rate')"
   ]
  },
  {
   "cell_type": "code",
   "execution_count": 8,
   "metadata": {
    "collapsed": false,
    "deletable": true,
    "editable": true
   },
   "outputs": [],
   "source": [
    "#embedding\n",
    "init_embedding_W = tf.constant_initializer(embedding_matrix)\n",
    "embeddings_W = tf.get_variable('embeddings_W', shape=[embedding_matrix.shape[0], embedding_matrix.shape[1]], initializer=init_embedding_W)\n",
    "context_embedded = tf.nn.embedding_lookup(embeddings_W, context, name=\"embed_context\")\n",
    "response_embedded = tf.nn.embedding_lookup(embeddings_W, response, name=\"embed_response\")\n",
    "# here should pass a gru"
   ]
  },
  {
   "cell_type": "code",
   "execution_count": 9,
   "metadata": {
    "collapsed": true,
    "deletable": true,
    "editable": true
   },
   "outputs": [],
   "source": [
    "# rnn layer\n",
    "assert(hp['cell_type'] == 'gru' or hp['cell_type'] == 'lstm')\n",
    "if hp['cell_type'] == 'gru':\n",
    "    cell = tf.contrib.rnn.GRUCell(num_units=hp['rnn_dim'], reuse=tf.get_variable_scope().reuse)\n",
    "elif hp['cell_type'] == 'lstm':\n",
    "    cell = tf.nn.rnn_cell.LSTMCell(num_units=hp['rnn_dim'], forget_bias=hp['forget_bias'], \n",
    "                                   use_peepholes=True, state_is_tuple=True, \n",
    "                                   reuse=tf.get_variable_scope().reuse)\n",
    "cell = tf.contrib.rnn.DropoutWrapper(cell, input_keep_prob=keep_prob, output_keep_prob=keep_prob)\n",
    "c_outputs, c_states = tf.nn.dynamic_rnn(cell, context_embedded, sequence_length=context_len, dtype=tf.float32)\n",
    "context_rnn = c_outputs\n",
    "r_outputs, r_states = tf.nn.dynamic_rnn(cell, response_embedded, sequence_length=response_len, dtype=tf.float32)\n",
    "response_rnn = r_outputs"
   ]
  },
  {
   "cell_type": "code",
   "execution_count": 10,
   "metadata": {
    "collapsed": true,
    "deletable": true,
    "editable": true
   },
   "outputs": [],
   "source": [
    "# M1 matrix and M2 matrix\n",
    "\n",
    "# M1 word dot matrix\n",
    "word_dot_matrix = tf.matmul(context_embedded, response_embedded, False, True)\n",
    "m1_image = tf.reshape(word_dot_matrix, [-1, hp['word_len'], hp['word_len'], 1])\n",
    "m1_image = tf.divide(m1_image, 1e-9 + tf.reshape(tf.reduce_max(m1_image, axis=[1, 2]), [-1, 1, 1, 1]))\n",
    "\n",
    "# M2 segment dot matrix\n",
    "segment_dot_matrix = tf.matmul(context_rnn, response_rnn, False, True)\n",
    "m2_image = tf.reshape(segment_dot_matrix, [-1, hp['word_len'], hp['word_len'], 1])\n",
    "m2_image = tf.divide(m2_image, 1e-9 + tf.reshape(tf.reduce_max(m2_image, axis=[1, 2]), [-1, 1, 1, 1]))\n",
    "\n",
    "y_label=tf.cast(target, tf.float32)\n",
    "# M1 convolution\n",
    "W_conv1_m1 = weight_variable([hp['filter_size'], hp['filter_size'], 1, hp['fm1_num']])\n",
    "b_conv1_m1 = bias_variable([hp['fm1_num']])\n",
    "h_conv1_m1 = tf.nn.relu(conv2d(m1_image, W_conv1_m1) + b_conv1_m1)\n",
    "h_pool1_m1 = max_pool_2x2(h_conv1_m1)\n",
    "\n",
    "W_conv2_m1 = weight_variable([hp['filter_size'], hp['filter_size'], hp['fm1_num'], hp['fm2_num']])\n",
    "b_conv2_m1 = bias_variable([hp['fm2_num']])\n",
    "h_conv2_m1 = tf.nn.relu(conv2d(h_pool1_m1, W_conv2_m1) + b_conv2_m1)\n",
    "h_pool2_m1 = max_pool_2x2(h_conv2_m1)\n",
    "\n",
    "h_pool2_m1_flat = tf.contrib.layers.flatten(h_pool2_m1)\n",
    "# tf.reshape(, [-1, hp['fm2_size']*hp['fm2_size']*hp['fm2_num']])  # ??\n",
    "\n",
    "# M2 convolution\n",
    "W_conv1_m2 = weight_variable([hp['filter_size'], hp['filter_size'], 1, hp['fm1_num']])\n",
    "b_conv1_m2 = bias_variable([hp['fm1_num']])\n",
    "h_conv1_m2 = tf.nn.relu(conv2d(m2_image, W_conv1_m2) + b_conv1_m2)\n",
    "h_pool1_m2 = max_pool_2x2(h_conv1_m2)\n",
    "\n",
    "W_conv2_m2 = weight_variable([hp['filter_size'], hp['filter_size'], hp['fm1_num'], hp['fm2_num']])\n",
    "b_conv2_m2 = bias_variable([hp['fm2_num']])\n",
    "h_conv2_m2 = tf.nn.relu(conv2d(h_pool1_m2, W_conv2_m2) + b_conv2_m2)\n",
    "h_pool2_m2 = max_pool_2x2(h_conv2_m2)\n",
    "\n",
    "h_pool2_m2_flat = tf.contrib.layers.flatten(h_pool2_m2)\n",
    "# tf.reshape(h_pool2_m2, [-1, hp['fm2_size']*hp['fm2_size']*hp['fm2_num']])\n",
    "\n",
    "# Accumulate M1 and M2\n",
    "matching_accumulation = tf.add(h_pool2_m1_flat, h_pool2_m2_flat)\n",
    "\n",
    "W_fc1 = weight_variable([int(matching_accumulation.shape[1]), hp['word_len']*hp['word_len']])\n",
    "b_fc1 = bias_variable([hp['word_len']*hp['word_len']])\n",
    "h_fc1 = tf.nn.sigmoid(tf.matmul(matching_accumulation, W_fc1) + b_fc1)\n",
    "\n",
    "W_fc2 = weight_variable([hp['word_len']*hp['word_len'], 1])\n",
    "b_fc2 = bias_variable([1])\n",
    "logits = tf.reshape(tf.matmul(h_fc1, W_fc2) + b_fc2, [-1])"
   ]
  },
  {
   "cell_type": "code",
   "execution_count": 11,
   "metadata": {
    "collapsed": true,
    "deletable": true,
    "editable": true
   },
   "outputs": [],
   "source": [
    "# Apply sigmoid to convert logits to probabilities (for prediction, not for loss)\n",
    "probs = tf.sigmoid(logits)\n",
    "correct_prediction = tf.logical_or( tf.logical_and(tf.equal(target,1), tf.greater_equal(probs,0.5)), tf.logical_and(tf.equal(target,0), tf.less(probs,0.5)))\n",
    "accuracy = tf.reduce_mean(tf.cast(correct_prediction, tf.float32))\n",
    "\n",
    "# Optimize\n",
    "cross_entropy = tf.nn.sigmoid_cross_entropy_with_logits(logits=logits, labels=y_label)\n",
    "optimizer = tf.train.AdamOptimizer(learning_rate)\n",
    "gvs = optimizer.compute_gradients(cross_entropy)\n",
    "capped_gvs = [(tf.clip_by_value(grad, -hp['clip'], hp['clip']), var) for grad, var in gvs]\n",
    "train_step = optimizer.apply_gradients(capped_gvs)"
   ]
  },
  {
   "cell_type": "code",
   "execution_count": 12,
   "metadata": {
    "collapsed": true,
    "deletable": true,
    "editable": true
   },
   "outputs": [],
   "source": [
    "def problem_acc(sess, q, q_len, rs, rs_len, ans):\n",
    "    p_prob = sess.run(probs, feed_dict={\n",
    "            context: np.repeat(q, 6, axis=0).reshape(-1, hp['word_len']),\n",
    "            context_len: np.repeat(q_len, 6), \n",
    "            response: rs.reshape(-1, hp['word_len']),\n",
    "            response_len: rs_len.reshape(-1),\n",
    "            keep_prob: 1.0,})\n",
    "    return np.sum(np.argmax(p_prob.reshape(-1, 6), axis=1) == ans) / len(ans)"
   ]
  },
  {
   "cell_type": "code",
   "execution_count": null,
   "metadata": {
    "collapsed": true,
    "deletable": true,
    "editable": true
   },
   "outputs": [],
   "source": [
    "def get_valid_loss_accuracy(sess):\n",
    "    valid_loss = 0\n",
    "    valid_accuracy = 0\n",
    "    n_iter = int(valid_data_loader.data_num/hp['batch_size'])\n",
    "    for it in range(n_iter):\n",
    "        next_x1, next_x2, next_y, x1_len, x2_len = train_data_loader.next_batch(\n",
    "            batch_size=hp['batch_size'], pad_to_length=hp['word_len'], pad_word=word2id['<pad>'], return_len=True)\n",
    "        batch_loss, batch_acc = sess.run([cross_entropy, accuracy], feed_dict={\n",
    "            context: next_x1, response: next_x2, target: next_y,\n",
    "            keep_prob: hp['keep_prob'], context_len: x1_len, response_len:x2_len, learning_rate:lr})\n",
    "        batch_loss = np.mean(batch_loss)\n",
    "        valid_accuracy += batch_acc\n",
    "        valid_loss += batch_loss\n",
    "    valid_loss /= n_iter\n",
    "    valid_accuracy /= n_iter\n",
    "    print('Valid loss = %.5f, accuracy = %.5f' % (valid_loss, valid_accuracy), flush=True)\n",
    "    print('Sample accuracy = %.5f' % problem_acc(sess, sample_id1, sample_len1, sample_id2, sample_len2, sample_y))\n",
    "    return valid_loss"
   ]
  },
  {
   "cell_type": "code",
   "execution_count": null,
   "metadata": {
    "collapsed": true,
    "deletable": true,
    "editable": true
   },
   "outputs": [],
   "source": [
    "saver = tf.train.Saver()\n",
    "sess = tf.Session()\n",
    "sess.run(tf.global_variables_initializer())"
   ]
  },
  {
   "cell_type": "code",
   "execution_count": null,
   "metadata": {
    "collapsed": true,
    "deletable": true,
    "editable": true,
    "scrolled": false
   },
   "outputs": [],
   "source": [
    "start_time = time.time()\n",
    "lr = hp['learning_rate']\n",
    "decay_times_no_improve = hp['decay_times_no_improve']\n",
    "best_valid_loss = 1e9\n",
    "for it in range(hp['n_iterations']):\n",
    "    print('Iterations %4d:\\t' % (it+1) , end='')\n",
    "    next_x1, next_x2, next_y, x1_len, x2_len = train_data_loader.next_batch(\n",
    "        batch_size=hp['batch_size'], pad_to_length=hp['word_len'], pad_word=word2id['<pad>'], return_len=True)\n",
    "    batch_loss, batch_acc, _ = sess.run([cross_entropy, accuracy, train_step], feed_dict={\n",
    "        context: next_x1, response: next_x2, target: next_y,\n",
    "        keep_prob: hp['keep_prob'], context_len: x1_len, response_len: x2_len, learning_rate: lr})\n",
    "    batch_loss = np.mean(batch_loss)\n",
    "    print('Train loss = %.5f, accuracy = %.5f / elapsed time %.f' % (batch_loss, batch_acc, time.time() - start_time), flush=True)\n",
    "#     if it % 1000 == 0:\n",
    "#         # Save the model if has smaller loss\n",
    "#         current_valid_loss = get_valid_loss_accuracy(sess)\n",
    "#         if current_valid_loss < best_valid_loss:\n",
    "#             best_valid_loss = current_valid_loss\n",
    "#             if not os.path.exists(best_model_dir):\n",
    "#                 os.makedirs(best_model_dir)\n",
    "#             save_path = saver.save(sess, best_model_dir+'model.ckpt')\n",
    "#             print('Best model save in %d iteration' % (it+1), flush=True)\n",
    "\n",
    "#         # Decay the learning rate if no improve for 3 times\n",
    "#         if hp['decay_learning_rate'] < 1:\n",
    "#             if current_valid_loss > best_valid_loss:\n",
    "#                 times_no_improve += 1\n",
    "#             else:\n",
    "#                 times_no_improve = 0\n",
    "#                 decay_times_no_improve = max(hp['decay_times_no_improve'], decay_times_no_improve-1)\n",
    "#             if times_no_improve >= decay_times_no_improve:\n",
    "#                 # Decay learning rate\n",
    "#                 times_no_improve = 0\n",
    "#                 decay_times_no_improve *= 2\n",
    "#                 lr *= hp['decay_learning_rate']\n",
    "#                 print('Learning rate decay to %f' % lr, flush=True)\n",
    "#                 # Restrore to the best model\n",
    "#                 saver.restore(sess, best_model_dir+'model.ckpt')\n",
    "#                 # Stop if lr is too small\n",
    "#                 if lr < 1e-9:\n",
    "#                     print('Current_learning_rate is smaller than 1e-9. Stop.', flush=True)\n",
    "#                     break\n",
    "#     if it % 100 == 0:\n",
    "#         if not os.path.exists(newest_model_dir):\n",
    "#             os.makedirs(newest_model_dir)\n",
    "#         save_path = saver.save(sess, newest_model_dir+'model.ckpt')"
   ]
  },
  {
   "cell_type": "markdown",
   "metadata": {
    "collapsed": true,
    "deletable": true,
    "editable": true
   },
   "source": [
    "### Evaluation"
   ]
  },
  {
   "cell_type": "code",
   "execution_count": 20,
   "metadata": {
    "collapsed": false
   },
   "outputs": [
    {
     "name": "stdout",
     "output_type": "stream",
     "text": [
      "INFO:tensorflow:Restoring parameters from models/SMN_1/best/model.ckpt\n"
     ]
    }
   ],
   "source": [
    "saver = tf.train.Saver()\n",
    "sess = tf.Session()\n",
    "saver.restore(sess, 'models/SMN_1/best/model.ckpt')"
   ]
  },
  {
   "cell_type": "code",
   "execution_count": 21,
   "metadata": {
    "collapsed": false
   },
   "outputs": [
    {
     "data": {
      "text/plain": [
       "0.66000000000000003"
      ]
     },
     "execution_count": 21,
     "metadata": {},
     "output_type": "execute_result"
    }
   ],
   "source": [
    "problem_acc(sess, sample_id1, sample_len1, sample_id2, sample_len2, sample_y)"
   ]
  },
  {
   "cell_type": "code",
   "execution_count": 22,
   "metadata": {
    "collapsed": false
   },
   "outputs": [
    {
     "data": {
      "text/plain": [
       "0.61199999999999999"
      ]
     },
     "execution_count": 22,
     "metadata": {},
     "output_type": "execute_result"
    }
   ],
   "source": [
    "problem_acc(sess, test_id1, test_len1, test_id2, test_len2, test_y)"
   ]
  },
  {
   "cell_type": "code",
   "execution_count": null,
   "metadata": {
    "collapsed": true
   },
   "outputs": [],
   "source": [
    "now_emb = sess.run(embeddings_W)\n",
    "with open('models/word2vec/', 'w') as f:\n",
    "    f.write('%d %d\\n' % now_emb.shape)\n",
    "    for word, vec in zip(id2word, now_emb):\n",
    "        f.write('%s %s\\n' % (word, ' '.join([str(f) for f in vec])))"
   ]
  }
 ],
 "metadata": {
  "kernelspec": {
   "display_name": "Python 3",
   "language": "python",
   "name": "python3"
  },
  "language_info": {
   "codemirror_mode": {
    "name": "ipython",
    "version": 3
   },
   "file_extension": ".py",
   "mimetype": "text/x-python",
   "name": "python",
   "nbconvert_exporter": "python",
   "pygments_lexer": "ipython3",
   "version": "3.6.0"
  }
 },
 "nbformat": 4,
 "nbformat_minor": 2
}
