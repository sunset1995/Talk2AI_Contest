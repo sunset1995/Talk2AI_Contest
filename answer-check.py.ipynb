{
 "cells": [
  {
   "cell_type": "code",
   "execution_count": 20,
   "metadata": {
    "collapsed": true
   },
   "outputs": [],
   "source": [
    "import pandas as pd\n",
    "import numpy as np\n",
    "from scipy import stats\n",
    "import os\n",
    "import re"
   ]
  },
  {
   "cell_type": "code",
   "execution_count": 15,
   "metadata": {
    "collapsed": true
   },
   "outputs": [],
   "source": [
    "fnames = [fname for fname in os.listdir('answer/') if fname.endswith('.txt')]"
   ]
  },
  {
   "cell_type": "code",
   "execution_count": 17,
   "metadata": {
    "collapsed": false
   },
   "outputs": [],
   "source": [
    "all_ans = []\n",
    "for fname in fnames:\n",
    "    with open(os.path.join('answer', fname), 'r') as f:\n",
    "        f.readline()\n",
    "        all_ans.append(np.array([int(line.strip().split(',')[1]) for line in f]))\n",
    "all_ans = np.array(all_ans)"
   ]
  },
  {
   "cell_type": "code",
   "execution_count": 26,
   "metadata": {
    "collapsed": false
   },
   "outputs": [],
   "source": [
    "mode_ans = stats.mode(all_ans).mode[0]"
   ]
  },
  {
   "cell_type": "code",
   "execution_count": 29,
   "metadata": {
    "collapsed": false
   },
   "outputs": [
    {
     "name": "stdout",
     "output_type": "stream",
     "text": [
      "Same ans: attack-naive-word2vec-dual-lstm-8.txt <=> attack-naive-no-tc-word2vec-cosine-sim.txt\n"
     ]
    }
   ],
   "source": [
    "for i in range(len(all_ans)):\n",
    "    for j in range(i):\n",
    "        if np.sum(all_ans[i] == all_ans[j]) == mode_ans.shape[0]:\n",
    "            print('Same ans:', fnames[i], '<=>', fnames[j])"
   ]
  },
  {
   "cell_type": "code",
   "execution_count": 27,
   "metadata": {
    "collapsed": true
   },
   "outputs": [],
   "source": [
    "for i in range(len(all_ans)):\n",
    "    if np.sum(all_ans[i] == mode_ans) == mode_ans.shape[0]:\n",
    "        print('Same with mode ans:', fnames[i])"
   ]
  },
  {
   "cell_type": "code",
   "execution_count": null,
   "metadata": {
    "collapsed": true
   },
   "outputs": [],
   "source": []
  }
 ],
 "metadata": {
  "kernelspec": {
   "display_name": "Python 3",
   "language": "python",
   "name": "python3"
  },
  "language_info": {
   "codemirror_mode": {
    "name": "ipython",
    "version": 3
   },
   "file_extension": ".py",
   "mimetype": "text/x-python",
   "name": "python",
   "nbconvert_exporter": "python",
   "pygments_lexer": "ipython3",
   "version": "3.6.0"
  }
 },
 "nbformat": 4,
 "nbformat_minor": 2
}
