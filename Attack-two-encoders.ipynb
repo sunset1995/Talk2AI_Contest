{
 "cells": [
  {
   "cell_type": "code",
   "execution_count": 1,
   "metadata": {},
   "outputs": [
    {
     "name": "stderr",
     "output_type": "stream",
     "text": [
      "Building prefix dict from /home/nctu/Talk2AI_Contest/datas/dict/dict.txt.big ...\n",
      "Loading model from cache /tmp/jieba.uf5db4499c0b7f893953f2b98fec37422.cache\n",
      "Loading model cost 1.311 seconds.\n",
      "Prefix dict has been built succesfully.\n"
     ]
    }
   ],
   "source": [
    "import tensorflow as tf\n",
    "import pandas as pd\n",
    "import numpy as np\n",
    "import re\n",
    "import jieba\n",
    "jieba.set_dictionary('datas/dict/dict.txt.big')\n",
    "jieba.load_userdict('datas/dict/edu_dict.txt')\n",
    "import os\n",
    "import time\n",
    "import gc\n",
    "import json\n",
    "from mini_batch_helper import extractor, MiniBatchCorpus"
   ]
  },
  {
   "cell_type": "code",
   "execution_count": 2,
   "metadata": {},
   "outputs": [],
   "source": [
    "# Read in  training data\n",
    "word2vec_fname = 'models/word2vec/fine-tuned-2.txt'\n",
    "corpus_fnames = [\n",
    "    'datas/training_data/下課花路米.txt',\n",
    "    'datas/training_data/人生劇展.txt',\n",
    "    'datas/training_data/公視藝文大道.txt',\n",
    "    'datas/training_data/成語賽恩思.txt',\n",
    "    'datas/training_data/我的這一班.txt',\n",
    "    'datas/training_data/流言追追追.txt',\n",
    "    'datas/training_data/聽聽看.txt',\n",
    "    'datas/training_data/誰來晚餐.txt',\n",
    "]\n",
    "sample_rate_on_training_datas = 1.0  # 1.0\n",
    "extra_words = ['<pad>']\n",
    "unknown_word = None\n",
    "\n",
    "word2id, id2word, word_p, embedding_matrix, corpus, corpus_id = extractor(word2vec_fname, corpus_fnames, sample_rate_on_training_datas, extra_words, unknown_word)"
   ]
  },
  {
   "cell_type": "code",
   "execution_count": 3,
   "metadata": {},
   "outputs": [
    {
     "name": "stdout",
     "output_type": "stream",
     "text": [
      "train datas num: 5777162\n",
      "valid datas num: 18166\n"
     ]
    }
   ],
   "source": [
    "# Data split\n",
    "rnd_idx = np.arange(len(corpus_id))\n",
    "np.random.shuffle(rnd_idx)\n",
    "corpus_id = corpus_id[rnd_idx[:len(corpus_id)]]\n",
    "valid_corpus_num = 10\n",
    "\n",
    "train_data_loader = MiniBatchCorpus(corpus_id[valid_corpus_num:])\n",
    "valid_data_loader = MiniBatchCorpus(corpus_id[:valid_corpus_num])\n",
    "print('train datas num:', train_data_loader.data_num, flush=True)\n",
    "print('valid datas num:', valid_data_loader.data_num, flush=True)"
   ]
  },
  {
   "cell_type": "code",
   "execution_count": 4,
   "metadata": {},
   "outputs": [
    {
     "data": {
      "text/plain": [
       "0"
      ]
     },
     "execution_count": 4,
     "metadata": {},
     "output_type": "execute_result"
    }
   ],
   "source": [
    "max_seq_len = max([len(sentence) for episode in corpus_id for sentence in episode])\n",
    "max_seq_len\n",
    "\n",
    "del(corpus)\n",
    "gc.collect()"
   ]
  },
  {
   "cell_type": "markdown",
   "metadata": {},
   "source": [
    "## Model"
   ]
  },
  {
   "cell_type": "code",
   "execution_count": null,
   "metadata": {
    "collapsed": true
   },
   "outputs": [],
   "source": [
    "# reference: https://github.com/dennybritz/chatbot-retrieval/blob/8b1be4c2e63631b1180b97ef927dc2c1f7fe9bea/udc_hparams.py\n",
    "exp_name = 'two_encoders_1'\n",
    "# Model Parameters\n",
    "params = {}\n",
    "save_params_dir = 'models/%s/' %exp_name\n",
    "params['word2vec_model_name'] = word2vec_fname\n",
    "params['word2vec_vocab_size'] = embedding_matrix.shape[0]\n",
    "params['word2vec_dim'] = embedding_matrix.shape[1]\n",
    "params['rnn_dim'] = 256  # 256, 384, 512\n",
    "params['n_layers'] = 1\n",
    "\n",
    "# Training Parameters\n",
    "params['learning_rate'] = 1e-4\n",
    "params['keep_prob_train'] = 0.8 # 0.5\n",
    "params['keep_prob_valid'] = 1.0\n",
    "params['l1_loss'] = 1e-4 #1e-6 # regularize M\n",
    "params['clip'] = 1  # 1e-2\n",
    "params['batch_size'] = 256 #512\n",
    "params['eval_batch_size'] = 16\n",
    "params['n_iterations'] = int(20 * train_data_loader.data_num / params['batch_size'])"
   ]
  },
  {
   "cell_type": "code",
   "execution_count": 6,
   "metadata": {
    "collapsed": true
   },
   "outputs": [],
   "source": [
    "if not os.path.exists(save_params_dir):\n",
    "    os.makedirs(save_params_dir)\n",
    "with open(save_params_dir+'model_parameters.json', 'w') as f:\n",
    "    json.dump(params, f, indent=1)"
   ]
  },
  {
   "cell_type": "code",
   "execution_count": 7,
   "metadata": {
    "collapsed": true
   },
   "outputs": [],
   "source": [
    "record = {}\n",
    "save_record_dir = 'models/%s/' %exp_name\n",
    "record['newest_model_dir'] = 'models/' + exp_name +'/newest/'\n",
    "record['best_model_dir'] = 'models/' + exp_name +'/best/'\n",
    "record['loss_train'] = []\n",
    "record['loss_valid'] = []\n",
    "record['accuracy_valid'] = []\n",
    "record['best_iter'] = 0\n",
    "record['sample_correct'] = 0"
   ]
  },
  {
   "cell_type": "code",
   "execution_count": 8,
   "metadata": {},
   "outputs": [],
   "source": [
    "# Define model\n",
    "import tensorflow as tf\n",
    "\n",
    "# Input\n",
    "context = tf.placeholder(dtype=tf.int32, shape=(None, None), name='context')\n",
    "context_len = tf.placeholder(dtype=tf.int32, shape=(None,), name='context_len')\n",
    "response = tf.placeholder(dtype=tf.int32, shape=(None, None), name='response')\n",
    "response_len = tf.placeholder(dtype=tf.int32, shape=(None,), name='response_len')\n",
    "#target = tf.placeholder(dtype=tf.float32, shape=(None, ), name='target')\n",
    "target = tf.placeholder(dtype=tf.int32, shape=(None, ), name='target')\n",
    "keep_prob = tf.placeholder(dtype=tf.float32, name='keep_prob')\n",
    "\n",
    "\n",
    "#with tf.device('/gpu:0'):\n",
    "# Embedding\n",
    "init_embedding_W = tf.constant_initializer(embedding_matrix)\n",
    "embeddings_W = tf.get_variable('embeddings_W', shape=[embedding_matrix.shape[0], embedding_matrix.shape[1]], initializer=init_embedding_W)\n",
    "context_embedded = tf.nn.embedding_lookup(embeddings_W, context, name=\"embed_context\")\n",
    "response_embedded = tf.nn.embedding_lookup(embeddings_W, response, name=\"embed_response\")\n",
    "\n",
    "if params['n_layers'] == 1:\n",
    "    with tf.variable_scope('context'):\n",
    "        c_cell = tf.nn.rnn_cell.LSTMCell(num_units=params['rnn_dim'], forget_bias=2.0, \n",
    "                    use_peepholes=True, state_is_tuple=True)\n",
    "        c_cell = tf.contrib.rnn.DropoutWrapper(c_cell, input_keep_prob=keep_prob, output_keep_prob=keep_prob)\n",
    "        c_outputs, c_states = tf.nn.dynamic_rnn(c_cell, context_embedded, sequence_length=context_len, dtype=tf.float32)\n",
    "        encoding_context = c_states.h\n",
    "    \n",
    "    with tf.variable_scope('response'):\n",
    "        r_cell = tf.nn.rnn_cell.LSTMCell(num_units=params['rnn_dim'], forget_bias=2.0, \n",
    "                    use_peepholes=True, state_is_tuple=True)\n",
    "        r_cell = tf.contrib.rnn.DropoutWrapper(r_cell, input_keep_prob=keep_prob, output_keep_prob=keep_prob)\n",
    "        r_outputs, r_states = tf.nn.dynamic_rnn(r_cell, response_embedded, sequence_length=response_len, dtype=tf.float32)\n",
    "        encoding_response = r_states.h\n",
    "else:\n",
    "    with tf.name_scope('context') as scope:\n",
    "        c_cells = [tf.nn.rnn_cell.LSTMCell(num_units=params['rnn_dim'], forget_bias=2.0, use_peepholes=True, state_is_tuple=False, reuse=tf.get_variable_scope().reuse) \n",
    "                    for _ in range(params['n_layers'])]\n",
    "        c_dropcells = [tf.contrib.rnn.DropoutWrapper(cell,input_keep_prob=keep_prob) for cell in c_cells]\n",
    "        c_multicell = tf.contrib.rnn.MultiRNNCell(c_dropcells, state_is_tuple=False)\n",
    "        c_multicell = tf.contrib.rnn.DropoutWrapper(c_multicell, output_keep_prob=keep_prob)\n",
    "        c_outputs, c_states = tf.nn.dynamic_rnn(c_multicell, context_embedded, sequence_length=context_len, dtype=tf.float32)\n",
    "        encoding_context = c_states.h\n",
    "    \n",
    "    with tf.name_scope('response') as scope:\n",
    "        r_cells = [tf.nn.rnn_cell.LSTMCell(num_units=params['rnn_dim'], forget_bias=2.0, use_peepholes=True, state_is_tuple=False, reuse=tf.get_variable_scope().reuse) \n",
    "                    for _ in range(params['n_layers'])]\n",
    "        r_dropcells = [tf.contrib.rnn.DropoutWrapper(cell,input_keep_prob=keep_prob) for cell in r_cells]\n",
    "        r_multicell = tf.contrib.rnn.MultiRNNCell(r_dropcells, state_is_tuple=False)\n",
    "        r_multicell = tf.contrib.rnn.DropoutWrapper(r_multicell, output_keep_prob=keep_prob)\n",
    "        r_outputs, r_states = tf.nn.dynamic_rnn(r_multicell, response_embedded, sequence_length=response_len, dtype=tf.float32)\n",
    "        encoding_response = r_states.h"
   ]
  },
  {
   "cell_type": "code",
   "execution_count": 9,
   "metadata": {
    "collapsed": true
   },
   "outputs": [],
   "source": [
    "# Cosine Similarity\n",
    "# cos_sim = tf.reduce_sum(tf.multiply(tf.nn.l2_normalize(encoding_context,1), tf.nn.l2_normalize(encoding_response,1)), axis=1)\n",
    "\n",
    "#cos_sim = tf.multiply(encoding_context, encoding_response)  # None, 512\n",
    "#cos_sim = tf.reduce_sum(cos_sim, axis=1)  # None\n",
    "#cos_sim = cos_sim / (tf.norm(encoding_context, axis=1)*tf.norm(encoding_response, axis=1))  # None\n"
   ]
  },
  {
   "cell_type": "code",
   "execution_count": 10,
   "metadata": {},
   "outputs": [
    {
     "data": {
      "text/plain": [
       "'\\n# Sigmoid cross-entropy loss\\ntarget_loss = tf.reduce_mean(tf.nn.sigmoid_cross_entropy_with_logits(logits=cos_sim, labels=tf.to_float(target)))\\nloss = target_loss\\n\\n# Accuracy\\ncorrect_prediction = tf.logical_or( tf.logical_and(tf.equal(target,1), tf.greater_equal(tf.log_sigmoid(cos_sim), 0.5)), tf.logical_and(tf.equal(target, 0), tf.less(tf.log_sigmoid(cos_sim), 0.5)))\\naccuracy = tf.reduce_mean(tf.cast(correct_prediction, tf.float32))\\n'"
      ]
     },
     "execution_count": 10,
     "metadata": {},
     "output_type": "execute_result"
    }
   ],
   "source": [
    "''' Loss: Sigmoid of cosine similarity '''\n",
    "'''\n",
    "# Sigmoid cross-entropy loss\n",
    "target_loss = tf.reduce_mean(tf.nn.sigmoid_cross_entropy_with_logits(logits=cos_sim, labels=tf.to_float(target)))\n",
    "loss = target_loss\n",
    "\n",
    "# Accuracy\n",
    "correct_prediction = tf.logical_or( tf.logical_and(tf.equal(target,1), tf.greater_equal(tf.log_sigmoid(cos_sim), 0.5)), tf.logical_and(tf.equal(target, 0), tf.less(tf.log_sigmoid(cos_sim), 0.5)))\n",
    "accuracy = tf.reduce_mean(tf.cast(correct_prediction, tf.float32))\n",
    "'''"
   ]
  },
  {
   "cell_type": "code",
   "execution_count": 11,
   "metadata": {},
   "outputs": [],
   "source": [
    "''' Loss: cMr '''\n",
    "# σ(cMr)\n",
    "M = tf.get_variable('M', shape=[params['rnn_dim'], params['rnn_dim']], initializer=tf.truncated_normal_initializer(stddev=0.01))\n",
    "\n",
    "# \"Predict\" a  response: c * M\n",
    "generated_response = tf.matmul(encoding_context, M)\n",
    "generated_response = tf.expand_dims(generated_response, 2)\n",
    "encoding_response = tf.expand_dims(encoding_response, 2)\n",
    "\n",
    "# Dot product between generated response and actual response\n",
    "logits = tf.matmul(generated_response, encoding_response, True)\n",
    "logits = tf.reshape(logits, [-1])\n",
    "\n",
    "# Apply sigmoid to convert logits to probabilities (for prediction, not for loss)\n",
    "probs = tf.sigmoid(logits)\n",
    "correct_prediction = tf.logical_or( tf.logical_and(tf.equal(target,1), tf.greater_equal(probs,0.5)), tf.logical_and(tf.equal(target,0), tf.less(probs,0.5)))\n",
    "accuracy = tf.reduce_mean(tf.cast(correct_prediction, tf.float32))\n",
    "# Calculate the binary cross-entropy loss\n",
    "target_loss = tf.reduce_mean(tf.nn.sigmoid_cross_entropy_with_logits(logits=logits, labels=tf.to_float(target)))\n",
    "l1_loss = params['l1_loss'] * tf.reduce_sum(tf.abs(M))\n",
    "loss = target_loss + l1_loss"
   ]
  },
  {
   "cell_type": "code",
   "execution_count": 12,
   "metadata": {},
   "outputs": [
    {
     "data": {
      "text/plain": [
       "'\\n# Accuracy\\ncorrect_prediction = tf.logical_or( tf.logical_and(tf.equal(target,1), tf.greater_equal(cos_sim, 0.5)), tf.logical_and(tf.equal(target, 0), tf.less(cos_sim, 0.5)))\\naccuracy = tf.reduce_mean(tf.cast(correct_prediction, tf.float32))\\n\\n# Cosine Similarity cross-entropy Loss \\ntarget_loss = tf.multiply(tf.to_float(target), -tf.log(cos_sim)) + tf.multiply(1-tf.to_float(target), -tf.log(1-cos_sim))\\ntarget_loss = tf.reduce_mean(target_loss)\\nloss = target_loss\\n'"
      ]
     },
     "execution_count": 12,
     "metadata": {},
     "output_type": "execute_result"
    }
   ],
   "source": [
    "''' Loss: Cosine Similarity '''\n",
    "'''\n",
    "# Accuracy\n",
    "correct_prediction = tf.logical_or( tf.logical_and(tf.equal(target,1), tf.greater_equal(cos_sim, 0.5)), tf.logical_and(tf.equal(target, 0), tf.less(cos_sim, 0.5)))\n",
    "accuracy = tf.reduce_mean(tf.cast(correct_prediction, tf.float32))\n",
    "\n",
    "# Cosine Similarity cross-entropy Loss \n",
    "target_loss = tf.multiply(tf.to_float(target), -tf.log(cos_sim)) + tf.multiply(1-tf.to_float(target), -tf.log(1-cos_sim))\n",
    "target_loss = tf.reduce_mean(target_loss)\n",
    "loss = target_loss\n",
    "'''"
   ]
  },
  {
   "cell_type": "code",
   "execution_count": 13,
   "metadata": {},
   "outputs": [],
   "source": [
    "# Train step\n",
    "optimizer = tf.train.AdamOptimizer(params['learning_rate'])\n",
    "gvs = optimizer.compute_gradients(loss)\n",
    "capped_gvs = [(tf.clip_by_norm(grad, params['clip']), var) for grad, var in gvs]\n",
    "train_step = optimizer.apply_gradients(capped_gvs)"
   ]
  },
  {
   "cell_type": "code",
   "execution_count": null,
   "metadata": {
    "collapsed": true
   },
   "outputs": [],
   "source": [
    "def get_valid_loss_accuracy(sess):\n",
    "    valid_loss = 0\n",
    "    valid_accuracy = 0\n",
    "    n_iter = int(valid_data_loader.data_num/params['batch_size'])\n",
    "    for iter in range(n_iter):\n",
    "        next_x1, next_x2, next_y, x1_len, x2_len = valid_data_loader.next_batch(batch_size=params['batch_size'], pad_to_length=max_seq_len, return_len=True)\n",
    "        new_accuracy, new_loss = sess.run([accuracy, loss], \n",
    "                                    feed_dict={context: next_x1, response: next_x2, target: next_y, \n",
    "                                    keep_prob: params['keep_prob_train'], context_len: x1_len, response_len:x2_len}) \n",
    "        valid_accuracy += new_accuracy\n",
    "        valid_loss += new_loss\n",
    "    valid_loss /= n_iter\n",
    "    valid_accuracy /= n_iter\n",
    "    print('Valid loss = %.5f, accuracy = %.5f' % (valid_loss, valid_accuracy), flush=True)\n",
    "    record['loss_valid'].append( valid_loss.tolist() )\n",
    "    record['accuracy_valid'].append( valid_accuracy.tolist() )\n",
    "    return valid_loss"
   ]
  },
  {
   "cell_type": "code",
   "execution_count": null,
   "metadata": {},
   "outputs": [
    {
     "name": "stdout",
     "output_type": "stream",
     "text": [
      "Iterations    1:\tloss = 0.69621 / L1 = 0.04747 / elapsed time 9\n",
      "Valid loss = 0.74200, accuracy = 0.49643\n",
      "Best model save in 0 iteration\n",
      "Iterations    2:\tloss = 0.69355 / L1 = 0.04743 / elapsed time 18\n",
      "Iterations    3:\tloss = 0.69283 / L1 = 0.04738 / elapsed time 19\n",
      "Iterations    4:\tloss = 0.69816 / L1 = 0.04733 / elapsed time 22\n",
      "Iterations    5:\tloss = 0.69105 / L1 = 0.04729 / elapsed time 24\n",
      "Iterations    6:\tloss = 0.69365 / L1 = 0.04724 / elapsed time 27\n",
      "Iterations    7:\tloss = 0.69485 / L1 = 0.04719 / elapsed time 28\n",
      "Iterations    8:\tloss = 0.69160 / L1 = 0.04714 / elapsed time 30\n",
      "Iterations    9:\tloss = 0.68937 / L1 = 0.04709 / elapsed time 33\n",
      "Iterations   10:\tloss = 0.69722 / L1 = 0.04705 / elapsed time 34\n",
      "Iterations   11:\tloss = 0.69064 / L1 = 0.04700 / elapsed time 37\n",
      "Valid loss = 0.73885, accuracy = 0.51691\n",
      "Iterations   12:\tloss = 0.68945 / L1 = 0.04695 / elapsed time 43\n",
      "Iterations   13:\tloss = 0.69100 / L1 = 0.04690 / elapsed time 46\n",
      "Iterations   14:\tloss = 0.68884 / L1 = 0.04685 / elapsed time 47\n",
      "Iterations   15:\tloss = 0.69276 / L1 = 0.04681 / elapsed time 49\n",
      "Iterations   16:\tloss = 0.68890 / L1 = 0.04676 / elapsed time 52\n",
      "Iterations   17:\tloss = 0.69094 / L1 = 0.04671 / elapsed time 55\n",
      "Iterations   18:\tloss = 0.68832 / L1 = 0.04667 / elapsed time 56\n",
      "Iterations   19:\tloss = 0.69187 / L1 = 0.04662 / elapsed time 58\n",
      "Iterations   20:\tloss = 0.69174 / L1 = 0.04657 / elapsed time 61\n",
      "Iterations   21:\tloss = 0.68937 / L1 = 0.04653 / elapsed time 62\n",
      "Valid loss = 0.73604, accuracy = 0.53672\n",
      "Iterations   22:\tloss = 0.69192 / L1 = 0.04648 / elapsed time 69\n",
      "Iterations   23:\tloss = 0.69051 / L1 = 0.04644 / elapsed time 72\n",
      "Iterations   24:\tloss = 0.69238 / L1 = 0.04639 / elapsed time 73\n",
      "Iterations   25:\tloss = 0.69144 / L1 = 0.04635 / elapsed time 75\n",
      "Iterations   26:\tloss = 0.68638 / L1 = 0.04630 / elapsed time 79\n",
      "Iterations   27:\tloss = 0.69122 / L1 = 0.04625 / elapsed time 80\n",
      "Iterations   28:\tloss = 0.68846 / L1 = 0.04621 / elapsed time 84\n",
      "Iterations   29:\tloss = 0.69183 / L1 = 0.04616 / elapsed time 86\n",
      "Iterations   30:\tloss = 0.68205 / L1 = 0.04612 / elapsed time 88\n",
      "Iterations   31:\tloss = 0.68707 / L1 = 0.04607 / elapsed time 90\n",
      "Valid loss = 0.73257, accuracy = 0.55960\n",
      "Iterations   32:\tloss = 0.68798 / L1 = 0.04603 / elapsed time 98\n",
      "Iterations   33:\tloss = 0.69021 / L1 = 0.04598 / elapsed time 101\n",
      "Iterations   34:\tloss = 0.68392 / L1 = 0.04594 / elapsed time 103\n",
      "Iterations   35:\tloss = 0.69293 / L1 = 0.04589 / elapsed time 104\n",
      "Iterations   36:\tloss = 0.68673 / L1 = 0.04585 / elapsed time 108\n",
      "Iterations   37:\tloss = 0.68739 / L1 = 0.04581 / elapsed time 111\n",
      "Iterations   38:\tloss = 0.68284 / L1 = 0.04576 / elapsed time 113\n",
      "Iterations   39:\tloss = 0.68116 / L1 = 0.04572 / elapsed time 114\n",
      "Iterations   40:\tloss = 0.68708 / L1 = 0.04568 / elapsed time 117\n",
      "Iterations   41:\tloss = 0.68366 / L1 = 0.04563 / elapsed time 119\n",
      "Valid loss = 0.72937, accuracy = 0.56663\n",
      "Iterations   42:\tloss = 0.68153 / L1 = 0.04559 / elapsed time 126\n"
     ]
    }
   ],
   "source": [
    "# Train\n",
    "start_time = time.time()\n",
    "saver = tf.train.Saver()\n",
    "with tf.Session() as sess:\n",
    "    init = tf.global_variables_initializer()\n",
    "    sess.run(init)\n",
    "    \n",
    "    # Restore model\n",
    "    # saver.restore(sess, record['best_model_dir']+'model.ckpt')\n",
    "    # print('Retrain model: %s' %record['best_model_dir'], flush=True)\n",
    "    best_valid_loss = 0\n",
    "    for it in range(params['n_iterations']):\n",
    "        print('Iterations %4d:\\t' %(it+1) , end='', flush=True)\n",
    "        # Train next batch\n",
    "        next_x1, next_x2, next_y, x1_len, x2_len = train_data_loader.next_batch(batch_size=params['batch_size'], pad_to_length=max_seq_len, return_len=True)\n",
    "        batch_loss, batch_l1_loss, _ = sess.run([target_loss, l1_loss, train_step], \n",
    "                            feed_dict={context: next_x1, response: next_x2, target: next_y, \n",
    "                            keep_prob: params['keep_prob_train'], context_len: x1_len, response_len:x2_len}) \n",
    "        print('loss = %.5f / L1 = %.5f / elapsed time %.f' % (batch_loss, batch_l1_loss, time.time() - start_time), flush=True)\n",
    "        record['loss_train'].append( batch_loss.tolist() )\n",
    "        if it % 10 == 0:\n",
    "            # Save the model if has smaller loss\n",
    "            current_valid_loss = get_valid_loss_accuracy(sess)\n",
    "            if current_valid_loss >= best_valid_loss:\n",
    "                best_valid_loss = current_valid_loss\n",
    "                if not os.path.exists(record['best_model_dir']):\n",
    "                    os.makedirs(record['best_model_dir'])\n",
    "                save_path = saver.save(sess, record['best_model_dir']+'model.ckpt')\n",
    "                record['best_iter'] = it\n",
    "                print('Best model save in %d iteration' %it, flush=True)\n",
    "        if not os.path.exists(record['newest_model_dir']):\n",
    "            os.makedirs(record['newest_model_dir'])\n",
    "        save_path = saver.save(sess, record['newest_model_dir']+'model.ckpt')"
   ]
  },
  {
   "cell_type": "code",
   "execution_count": null,
   "metadata": {
    "collapsed": true
   },
   "outputs": [],
   "source": [
    "# Dump record file as .json\n",
    "if not os.path.exists(save_record_dir):\n",
    "    os.makedirs(save_record_dir)\n",
    "with open(save_record_dir+'%d.json' %params['n_iterations'], 'w') as f:\n",
    "    json.dump(record, f, indent=1)"
   ]
  }
 ],
 "metadata": {
  "kernelspec": {
   "display_name": "Python 3",
   "language": "python",
   "name": "python3"
  },
  "language_info": {
   "codemirror_mode": {
    "name": "ipython",
    "version": 3
   },
   "file_extension": ".py",
   "mimetype": "text/x-python",
   "name": "python",
   "nbconvert_exporter": "python",
   "pygments_lexer": "ipython3",
   "version": "3.5.2"
  }
 },
 "nbformat": 4,
 "nbformat_minor": 2
}
