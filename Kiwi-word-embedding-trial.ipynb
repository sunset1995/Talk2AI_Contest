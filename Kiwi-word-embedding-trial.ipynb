{
 "cells": [
  {
   "cell_type": "markdown",
   "metadata": {},
   "source": [
    "下載示範資料，解壓"
   ]
  },
  {
   "cell_type": "code",
   "execution_count": null,
   "metadata": {
    "collapsed": true
   },
   "outputs": [],
   "source": [
    "wget http://140.112.41.98:7000/word_emb_tutorial.tar.gz\n",
    "tar zxvf word_emb_tutorial.tar.gz"
   ]
  },
  {
   "cell_type": "markdown",
   "metadata": {},
   "source": [
    "進入本次教學的資料夾\n",
    "### 內有\n",
    "* pre_subtitle/: 語料資料\n",
    "* word2vec/: 套件"
   ]
  },
  {
   "cell_type": "code",
   "execution_count": 1,
   "metadata": {},
   "outputs": [
    {
     "name": "stdout",
     "output_type": "stream",
     "text": [
      "corpus.txt\t\tpreprocess.py*\t     sample_test_data.txt\n",
      "find_with_word_sim.py*\tpre_subtitle/\t     word2vec/\n",
      "my.cbow.200d.txt\tRNN-language-model/\n"
     ]
    }
   ],
   "source": [
    "cd word_emb_tutorial\n",
    "ls"
   ]
  },
  {
   "cell_type": "markdown",
   "metadata": {},
   "source": [
    "## Section1: Word Embedding"
   ]
  },
  {
   "cell_type": "markdown",
   "metadata": {},
   "source": [
    "### 處理斷詞\n",
    "- 將檔案輸出到 'corpus.txt'"
   ]
  },
  {
   "cell_type": "code",
   "execution_count": null,
   "metadata": {
    "collapsed": true
   },
   "outputs": [],
   "source": [
    "python3 preprocess.py"
   ]
  },
  {
   "cell_type": "code",
   "execution_count": 3,
   "metadata": {},
   "outputs": [
    {
     "name": "stdout",
     "output_type": "stream",
     "text": [
      "compute-accuracy*\t     demo-word.sh*\t    word2phrase*\n",
      "compute-accuracy.c\t     distance*\t\t    word2phrase.c\n",
      "demo-analogy.sh*\t     distance.c\t\t    word2vec*\n",
      "demo-classes.sh*\t     LICENSE\t\t    word2vec.c\n",
      "demo-phrase-accuracy.sh*     makefile\t\t    word-analogy*\n",
      "demo-phrases.sh*\t     questions-phrases.txt  word-analogy.c\n",
      "demo-train-big-model-v1.sh*  questions-words.txt\n",
      "demo-word-accuracy.sh*\t     README.txt\n"
     ]
    }
   ],
   "source": [
    "cd word2vec/trunk\n",
    "ls\n",
    "make"
   ]
  },
  {
   "cell_type": "markdown",
   "metadata": {},
   "source": [
    "- [官網](https://fgc.stpi.narl.org.tw/activity/videoDetail/4b1141305ddf5522015de5479f4701b1)上有教學文件可以看看其它套件"
   ]
  },
  {
   "cell_type": "code",
   "execution_count": null,
   "metadata": {
    "collapsed": true
   },
   "outputs": [],
   "source": [
    "-./word2vec/trunk/word2vec -train corpus.txt -output my.cbow.200d.txt -size 200 -windows 5 sample 1e-4 -negative 10 -hs 0 -cbow 1 -iter 15 -threads 8 -min - count 5"
   ]
  },
  {
   "cell_type": "markdown",
   "metadata": {},
   "source": [
    "- 執行 'find_with_word_sim.py' 會判斷兩個詞間的相似度\n",
    "    - 正確率有 0.5 \\OwO/"
   ]
  },
  {
   "cell_type": "code",
   "execution_count": 10,
   "metadata": {
    "scrolled": true
   },
   "outputs": [
    {
     "name": "stdout",
     "output_type": "stream",
     "text": [
      "Building prefix dict from the default dictionary ...\n",
      "Loading model from cache /tmp/jieba.cache\n",
      "Loading model cost 0.673 seconds.\n",
      "Prefix dict has been built succesfully.\n",
      "0.5\n"
     ]
    }
   ],
   "source": [
    "python3 find_with_word_sim.py my.cbow.200d.txt"
   ]
  },
  {
   "cell_type": "markdown",
   "metadata": {},
   "source": [
    "## Section2: RNN\n",
    "- 據說用 embedding + RNN 可以有 7x% 正確率\n",
    "- [投影片連結](https://docs.google.com/presentation/d/13mzQZexNrSEhlGwkWexoDMGrPMJUUXPaC7OeQjf8W60/edit#slide=id.p)\n",
    "- pytorch\n",
    "- character base"
   ]
  },
  {
   "cell_type": "markdown",
   "metadata": {},
   "source": [
    "### 以下教學為用 RNN 產生句子"
   ]
  },
  {
   "cell_type": "code",
   "execution_count": 10,
   "metadata": {},
   "outputs": [
    {
     "name": "stdout",
     "output_type": "stream",
     "text": [
      "all_data_model.pt  data.py\tmain.py   __pycache__/\tsave_model.pt\n",
      "data/\t\t   generate.py\tmodel.py  README.md\tsmall_model.pt\n"
     ]
    }
   ],
   "source": [
    "cd RNN-language-model\n",
    "ls"
   ]
  },
  {
   "cell_type": "markdown",
   "metadata": {},
   "source": [
    "#### 內容\n",
    "- data.py\n",
    "    - 對每一個 sentense\n",
    "    - 前加 'bos', 後加 'eos'\n",
    "    - 將每一個 word 轉成一個 id\n",
    "- model.py：定義 pytorch model\n",
    "    - gradient_clipping\n",
    "- main.py: 目前只用 1/10 的資料\n",
    "- all_data_model.pt: 已經 train 好的資料"
   ]
  },
  {
   "cell_type": "code",
   "execution_count": 5,
   "metadata": {},
   "outputs": [
    {
     "name": "stdout",
     "output_type": "stream",
     "text": [
      "all_data_model.pt  data.py\tmain.py   __pycache__/\tsave_model.pt\n",
      "data/\t\t   generate.py\tmodel.py  README.md\tsmall_model.pt\n"
     ]
    }
   ],
   "source": [
    "ls"
   ]
  },
  {
   "cell_type": "markdown",
   "metadata": {},
   "source": [
    "## 其他：用 RNN Language Model 比較 句子的相似度\n",
    "* [TA's Repo](https://github.com/willywsm1013/RNN-language-model)\n",
    "- 句一 -> 重點一\n",
    "- 句二 -> 重點二\n",
    "- 衡量兩項量相似度\n",
    "    - __cosine similarity__: $\\frac{A\\cdot B}{||A||||B||}$\n",
    "    \n",
    "### 問題\n",
    "- 只 train 相關性的話，機器會傾向於讓所有 vec 都長得一樣\n",
    "- sol: 同時 train 不相關性\n",
    "    - 相關的內容: cos 接近 1\n",
    "    - 不相關的內容: cos 接近 0"
   ]
  },
  {
   "cell_type": "markdown",
   "metadata": {},
   "source": [
    "## Section3: Seq2seq\n",
    "* Attention-based model\n",
    "* 可能不一定對比賽有幫助，但 seq2seq 就4潮\n",
    "* [助教的 Repo - pytorch](https://github.com/ywk991112/FSGC-pytorch-tutorial)\n",
    "    * Encoder:\n",
    "        * pack_padded_sequence: pytorch 的功能，把不同長度的 sequence 補成相同長度\n",
    "    * Attention:\n",
    "        * 計算 score 的方式目前每有最佳解，可以自己定義各種方式\n",
    "* corpus 資料擺在 branch 'practice', 抓到 main 來用"
   ]
  },
  {
   "cell_type": "markdown",
   "metadata": {},
   "source": [
    "input -> embedding -> dropout\n"
   ]
  },
  {
   "cell_type": "code",
   "execution_count": null,
   "metadata": {
    "collapsed": true
   },
   "outputs": [],
   "source": []
  }
 ],
 "metadata": {
  "kernelspec": {
   "display_name": "Bash",
   "language": "bash",
   "name": "bash"
  },
  "language_info": {
   "codemirror_mode": "shell",
   "file_extension": ".sh",
   "mimetype": "text/x-sh",
   "name": "bash"
  }
 },
 "nbformat": 4,
 "nbformat_minor": 2
}
