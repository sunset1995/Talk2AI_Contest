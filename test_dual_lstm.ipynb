{
 "cells": [
  {
   "cell_type": "code",
   "execution_count": 1,
   "metadata": {
    "collapsed": false,
    "deletable": true,
    "editable": true
   },
   "outputs": [
    {
     "name": "stderr",
     "output_type": "stream",
     "text": [
      "Building prefix dict from /Users/sunset/Talk2AI_Contest/datas/dict/dict.txt.big ...\n",
      "Loading model from cache /var/folders/43/l4vp_w_x4wb11mmy_bb1jrkc0000gn/T/jieba.u857f67a870683287981bc6f5b9493ffc.cache\n",
      "Loading model cost 1.879 seconds.\n",
      "Prefix dict has been built succesfully.\n"
     ]
    }
   ],
   "source": [
    "import pandas as pd\n",
    "import numpy as np\n",
    "import re\n",
    "import jieba\n",
    "jieba.set_dictionary('datas/dict/dict.txt.big')\n",
    "jieba.load_userdict('datas/dict/edu_dict.txt')\n",
    "import os\n",
    "import time\n",
    "import gc\n",
    "import json\n",
    "from mini_batch_helper import extractor, MiniBatchCorpus"
   ]
  },
  {
   "cell_type": "code",
   "execution_count": 2,
   "metadata": {
    "collapsed": false,
    "deletable": true,
    "editable": true
   },
   "outputs": [],
   "source": [
    "# reference: https://github.com/dennybritz/chatbot-retrieval/blob/8b1be4c2e63631b1180b97ef927dc2c1f7fe9bea/udc_hparams.py\n",
    "exp_name = 'dual_lstm_8'\n",
    "with open('models/%s/model_parameters.json' %exp_name) as json_data:\n",
    "    params = json.load(json_data)\n",
    "    json_data.close()"
   ]
  },
  {
   "cell_type": "code",
   "execution_count": 3,
   "metadata": {
    "collapsed": true,
    "deletable": true,
    "editable": true
   },
   "outputs": [],
   "source": [
    "# Read in  training data\n",
    "word2vec_fname = params['word2vec_model_name']\n",
    "extra_words = ['<pad>']\n",
    "unknown_word = None\n",
    "\n",
    "word2id, id2word, word_p, embedding_matrix, corpus, corpus_id = extractor(word2vec_fname, [], 0, extra_words, unknown_word)"
   ]
  },
  {
   "cell_type": "code",
   "execution_count": 4,
   "metadata": {
    "collapsed": true,
    "deletable": true,
    "editable": true
   },
   "outputs": [],
   "source": [
    "record = {}\n",
    "save_record_dir = 'models/%s/' %exp_name\n",
    "record['newest_model_dir'] = 'models/' + exp_name +'/newest/'\n",
    "record['best_model_dir'] = 'models/' + exp_name +'/best/'\n",
    "record['loss_train'] = []\n",
    "record['loss_valid'] = []\n",
    "record['accuracy_valid'] = []\n",
    "record['best_iter'] = 0\n",
    "record['sample_correct'] = 0"
   ]
  },
  {
   "cell_type": "code",
   "execution_count": 5,
   "metadata": {
    "collapsed": false,
    "deletable": true,
    "editable": true
   },
   "outputs": [
    {
     "name": "stdout",
     "output_type": "stream",
     "text": [
      "WARNING:tensorflow:<tensorflow.python.ops.rnn_cell_impl.LSTMCell object at 0x1130f3908>: Using a concatenated state is slower and will soon be deprecated.  Use state_is_tuple=True.\n",
      "WARNING:tensorflow:<tensorflow.python.ops.rnn_cell_impl.LSTMCell object at 0x1130f3940>: Using a concatenated state is slower and will soon be deprecated.  Use state_is_tuple=True.\n"
     ]
    }
   ],
   "source": [
    "# Define model\n",
    "import tensorflow as tf\n",
    "\n",
    "# Input\n",
    "context = tf.placeholder(dtype=tf.int32, shape=(None, None), name='context')\n",
    "context_len = tf.placeholder(dtype=tf.int32, shape=(None,), name='context_len')\n",
    "response = tf.placeholder(dtype=tf.int32, shape=(None, None), name='response')\n",
    "response_len = tf.placeholder(dtype=tf.int32, shape=(None,), name='response_len')\n",
    "target = tf.placeholder(dtype=tf.int32, shape=(None, ), name='target')\n",
    "keep_prob = tf.placeholder(dtype=tf.float32, name='keep_prob')\n",
    "\n",
    "\n",
    "#with tf.device('/gpu:0'):\n",
    "# Embedding\n",
    "init_embedding_W = tf.constant_initializer(embedding_matrix)\n",
    "embeddings_W = tf.get_variable('embeddings_W', shape=[embedding_matrix.shape[0], embedding_matrix.shape[1]], initializer=init_embedding_W)\n",
    "context_embedded = tf.nn.embedding_lookup(embeddings_W, context, name=\"embed_context\")\n",
    "response_embedded = tf.nn.embedding_lookup(embeddings_W, response, name=\"embed_response\")\n",
    "\n",
    "if params['n_layers'] == 1:\n",
    "# shared LSTM encoder\n",
    "    cell = tf.nn.rnn_cell.LSTMCell(num_units=params['rnn_dim'], forget_bias=2.0, \n",
    "                use_peepholes=True, state_is_tuple=True, reuse=tf.get_variable_scope().reuse)\n",
    "    cell = tf.contrib.rnn.DropoutWrapper(cell, input_keep_prob=keep_prob, output_keep_prob=keep_prob)\n",
    "    c_outputs, c_states = tf.nn.dynamic_rnn(cell, context_embedded, dtype=tf.float32)\n",
    "    mask = tf.expand_dims(tf.one_hot(context_len, depth=tf.shape(context)[1]), 1)\n",
    "    encoding_context = tf.squeeze(tf.matmul(mask, c_outputs), 1)   # c_states.h\n",
    "    r_outputs, r_states = tf.nn.dynamic_rnn(cell, response_embedded, dtype=tf.float32)\n",
    "    mask = tf.expand_dims(tf.one_hot(response_len, depth=tf.shape(response)[1]), 1)\n",
    "    encoding_response =  tf.squeeze(tf.matmul(mask, r_outputs), 1)  # r_states.h\n",
    "else:\n",
    "    cells = [tf.nn.rnn_cell.LSTMCell(num_units=params['rnn_dim'], forget_bias=2.0, use_peepholes=True, state_is_tuple=False, reuse=tf.get_variable_scope().reuse) \n",
    "                for _ in range(params['n_layers'])]\n",
    "    dropcells = [tf.contrib.rnn.DropoutWrapper(cell,input_keep_prob=keep_prob) for cell in cells]\n",
    "    multicell = tf.contrib.rnn.MultiRNNCell(dropcells, state_is_tuple=False)\n",
    "    multicell = tf.contrib.rnn.DropoutWrapper(multicell, output_keep_prob=keep_prob)\n",
    "    c_outputs, c_states = tf.nn.dynamic_rnn(multicell, context_embedded, dtype=tf.float32)\n",
    "    mask = tf.expand_dims(tf.one_hot(context_len, depth=tf.shape(context)[1]), 1)\n",
    "    encoding_context = tf.squeeze(tf.matmul(mask, c_outputs), 1)   # c_states.h\n",
    "    r_outputs, r_states = tf.nn.dynamic_rnn(multicell, response_embedded, dtype=tf.float32)\n",
    "    mask = tf.expand_dims(tf.one_hot(response_len, depth=tf.shape(response)[1]), 1)\n",
    "    encoding_response =  tf.squeeze(tf.matmul(mask, r_outputs), 1)  # r_states.h\n",
    "\n",
    "# σ(cMr)\n",
    "M = tf.get_variable('M', shape=[params['rnn_dim'], params['rnn_dim']], initializer=tf.truncated_normal_initializer(stddev=0.01))\n",
    "\n",
    "# \"Predict\" a  response: c * M\n",
    "generated_response = tf.matmul(encoding_context, M)\n",
    "generated_response = tf.expand_dims(generated_response, 2)\n",
    "encoding_response = tf.expand_dims(encoding_response, 2)\n",
    "\n",
    "# Dot product between generated response and actual response\n",
    "logits = tf.matmul(generated_response, encoding_response, True)\n",
    "logits = tf.reshape(logits, [-1])\n",
    "\n",
    "# Apply sigmoid to convert logits to probabilities (for prediction, not for loss)\n",
    "probs = tf.sigmoid(logits)\n",
    "correct_prediction = tf.logical_or( tf.logical_and(tf.equal(target,1), tf.greater_equal(probs,0.5)), tf.logical_and(tf.equal(target,0), tf.less(probs,0.5)))\n",
    "accuracy = tf.reduce_mean(tf.cast(correct_prediction, tf.float32))\n",
    "# Calculate the binary cross-entropy loss\n",
    "loss = tf.reduce_mean(tf.nn.sigmoid_cross_entropy_with_logits(logits=logits, labels=tf.to_float(target)))\n",
    "loss = loss + params['l1_loss'] * tf.reduce_sum(tf.abs(M))\n",
    "\n",
    "#train_step = tf.train.AdamOptimizer(params['learning_rate']).minimize(loss)\n",
    "optimizer = tf.train.AdamOptimizer(params['learning_rate'])\n",
    "gvs = optimizer.compute_gradients(loss)\n",
    "capped_gvs = [(tf.clip_by_norm(grad, params['clip']), var) for grad, var in gvs]\n",
    "train_step = optimizer.apply_gradients(capped_gvs)"
   ]
  },
  {
   "cell_type": "code",
   "execution_count": 6,
   "metadata": {
    "collapsed": true,
    "deletable": true,
    "editable": true
   },
   "outputs": [],
   "source": [
    "# Load in sample and test\n",
    "sample = pd.read_csv('datas/sample_test_data.txt')\n",
    "sample_x1 = [[s for s in re.sub('[A-Z]:', '\\t', _).split('\\t') if len(s.strip())] for _ in sample.dialogue.values]\n",
    "sample_x2 = [[s for s in re.sub('[A-Z]:', '\\t', _).split('\\t') if len(s.strip())] for _ in sample.options.values]\n",
    "sample_y = sample.answer.values\n",
    "assert(np.sum([len(_)!=6 for _ in sample_x2]) == 0)\n",
    "sample_x1 = [[word for word in jieba.cut(' '.join(s)) if word != ' '] for s in sample_x1]\n",
    "sample_x2 = [[[word for word in jieba.cut(r) if word != ' '] for r in rs] for rs in sample_x2]\n",
    "\n",
    "\n",
    "test_datas = pd.read_csv('datas/AIFirstProblem.txt')\n",
    "test_x1 = [[s for s in re.sub('[A-Z]:', '\\t', _).split('\\t') if len(s.strip())] for _ in test_datas.dialogue.values]\n",
    "test_x2 = [[s for s in re.sub('[A-Z]:', '\\t', _).split('\\t') if len(s.strip())] for _ in test_datas.options.values]\n",
    "assert(np.sum([len(_)!=6 for _ in test_x2]) == 0)\n",
    "test_x1 = [[word for word in jieba.cut(' '.join(s)) if word != ' '] for s in test_x1]\n",
    "test_x2 = [[[word for word in jieba.cut(r) if word != ' '] for r in rs] for rs in test_x2]"
   ]
  },
  {
   "cell_type": "code",
   "execution_count": 7,
   "metadata": {
    "collapsed": true,
    "deletable": true,
    "editable": true
   },
   "outputs": [],
   "source": [
    "def word_lst_2_id_lst(lst, pad_to_len=-1):\n",
    "    pad_word_id = word2id['<pad>']\n",
    "    pad_len = max(len(lst), 0)\n",
    "    id_list = [word2id[lst[i]] if i<len(lst) and lst[i] in word2id else pad_word_id for i in range(pad_len)]\n",
    "    pad_len = pad_to_len - len(id_list)\n",
    "    if pad_len > 0:\n",
    "        id_list.extend([pad_word_id] * pad_len)\n",
    "    return id_list"
   ]
  },
  {
   "cell_type": "code",
   "execution_count": 8,
   "metadata": {
    "collapsed": true,
    "deletable": true,
    "editable": true
   },
   "outputs": [],
   "source": [
    "pad_to_length = -1"
   ]
  },
  {
   "cell_type": "code",
   "execution_count": 9,
   "metadata": {
    "collapsed": true,
    "deletable": true,
    "editable": true
   },
   "outputs": [],
   "source": [
    "sample_id1 = np.array([word_lst_2_id_lst(s, pad_to_length) for s in sample_x1])\n",
    "sample_id2 = np.array([[word_lst_2_id_lst(r, pad_to_length) for r in rs] for rs in sample_x2])\n",
    "test_id1 = np.array([word_lst_2_id_lst(s, pad_to_length) for s in test_x1])\n",
    "test_id2 = np.array([[word_lst_2_id_lst(r, pad_to_length) for r in rs] for rs in test_x2])"
   ]
  },
  {
   "cell_type": "code",
   "execution_count": 10,
   "metadata": {
    "collapsed": false,
    "deletable": true,
    "editable": true
   },
   "outputs": [
    {
     "name": "stdout",
     "output_type": "stream",
     "text": [
      "INFO:tensorflow:Restoring parameters from models/dual_lstm_8/best/model.ckpt\n"
     ]
    }
   ],
   "source": [
    "saver = tf.train.Saver()\n",
    "sess = tf.Session()\n",
    "saver.restore(sess, record['best_model_dir']+'model.ckpt')"
   ]
  },
  {
   "cell_type": "code",
   "execution_count": 11,
   "metadata": {
    "collapsed": false,
    "deletable": true,
    "editable": true
   },
   "outputs": [
    {
     "name": "stdout",
     "output_type": "stream",
     "text": [
      "sample correct    8\n"
     ]
    }
   ],
   "source": [
    "score = []\n",
    "for q, rs in zip(sample_id1, sample_id2):\n",
    "    for r in rs:\n",
    "        now_score = sess.run(probs, {\n",
    "            context: [q],\n",
    "            response: [r],\n",
    "            keep_prob: params['keep_prob_valid'],\n",
    "            context_len:[len(q)-1],\n",
    "            response_len:[len(r)-1]})[0]\n",
    "        score.append(now_score)\n",
    "#             print(now_score, [id2word[idx] for idx in q], [id2word[idx] for idx in r])\n",
    "score = np.array(score).reshape(-1, 6)\n",
    "my_ans = np.argmax(score, axis=1)\n",
    "sample_correct = np.sum(my_ans == sample_y)\n",
    "print('sample correct %4d' % (sample_correct), flush=True)\n",
    "record['sample_correct'] = sample_correct.tolist()"
   ]
  },
  {
   "cell_type": "code",
   "execution_count": null,
   "metadata": {
    "collapsed": true,
    "deletable": true,
    "editable": true
   },
   "outputs": [],
   "source": [
    "# # Export embedding layer for naive method to use\n",
    "# now_emb_w = sess.run(embeddings_W)\n",
    "# with open('./models/word2vec/word2vec-dual-lstm-8.txt', 'w') as f:\n",
    "#     assert(len(id2word) == now_emb_w.shape[0])\n",
    "#     f.write('%d %d\\n' % now_emb_w.shape)\n",
    "#     for word, vec in zip(id2word, now_emb_w):\n",
    "#         f.write('%s %s\\n' % (word, ' '.join([str(f) for f in vec])))"
   ]
  },
  {
   "cell_type": "code",
   "execution_count": 31,
   "metadata": {
    "collapsed": false,
    "deletable": true,
    "editable": true
   },
   "outputs": [
    {
     "data": {
      "text/plain": [
       "((50, 1024), (50, 6, 1024))"
      ]
     },
     "execution_count": 31,
     "metadata": {},
     "output_type": "execute_result"
    }
   ],
   "source": [
    "qq = []\n",
    "rr = []\n",
    "for q, rs in zip(sample_id1, sample_id2):\n",
    "    q_state = sess.run(c_states, {\n",
    "        context: [q],\n",
    "        keep_prob: params['keep_prob_valid'],\n",
    "        context_len: [len(q)-1]\n",
    "    })[0]\n",
    "    qq.append(q_state)\n",
    "    for r in rs:\n",
    "        r_state = sess.run(c_states, {\n",
    "            context: [r],\n",
    "            keep_prob: params['keep_prob_valid'],\n",
    "            context_len: [len(r)-1]\n",
    "        })[0]\n",
    "        rr.append(r_state)\n",
    "qq = np.array(qq)\n",
    "rr = np.array(rr).reshape(-1, 6, qq.shape[-1])\n",
    "qq.shape, rr.shape"
   ]
  },
  {
   "cell_type": "code",
   "execution_count": 33,
   "metadata": {
    "collapsed": false
   },
   "outputs": [
    {
     "name": "stdout",
     "output_type": "stream",
     "text": [
      "sample correct   27\n"
     ]
    }
   ],
   "source": [
    "state_dotsim = []\n",
    "for q, rs in zip(qq, rr):\n",
    "    for r in rs:\n",
    "        state_dotsim.append(np.dot(q, r))\n",
    "state_dotsim = np.array(state_dotsim).reshape(-1, 6)\n",
    "my_ans = np.argmax(state_dotsim, axis=1)\n",
    "sample_correct = np.sum(my_ans == sample_y)\n",
    "print('sample correct %4d' % (sample_correct), flush=True)"
   ]
  },
  {
   "cell_type": "code",
   "execution_count": 35,
   "metadata": {
    "collapsed": false
   },
   "outputs": [
    {
     "name": "stdout",
     "output_type": "stream",
     "text": [
      "sample correct   30\n"
     ]
    }
   ],
   "source": [
    "state_cossim = []\n",
    "for q, rs in zip(qq, rr):\n",
    "    for r in rs:\n",
    "        state_cossim.append(np.dot(q, r) / np.linalg.norm(q) / np.linalg.norm(r))\n",
    "state_cossim = np.array(state_cossim).reshape(-1, 6)\n",
    "my_ans = np.argmax(state_cossim, axis=1)\n",
    "sample_correct = np.sum(my_ans == sample_y)\n",
    "print('sample correct %4d' % (sample_correct), flush=True)"
   ]
  },
  {
   "cell_type": "code",
   "execution_count": 40,
   "metadata": {
    "collapsed": false
   },
   "outputs": [
    {
     "data": {
      "text/plain": [
       "((50, 256), (50, 6, 256))"
      ]
     },
     "execution_count": 40,
     "metadata": {},
     "output_type": "execute_result"
    }
   ],
   "source": [
    "qq = []\n",
    "rr = []\n",
    "for q, rs in zip(sample_id1, sample_id2):\n",
    "    q_state = sess.run(encoding_context, {\n",
    "        context: [q],\n",
    "        keep_prob: params['keep_prob_valid'],\n",
    "        context_len: [len(q)-1]\n",
    "    })[0]\n",
    "    qq.append(q_state)\n",
    "    for r in rs:\n",
    "        r_state = sess.run(encoding_context, {\n",
    "            context: [r],\n",
    "            keep_prob: params['keep_prob_valid'],\n",
    "            context_len: [len(r)-1]\n",
    "        })[0]\n",
    "        rr.append(r_state)\n",
    "qq = np.array(qq)\n",
    "rr = np.array(rr).reshape(-1, 6, qq.shape[-1])\n",
    "qq.shape, rr.shape"
   ]
  },
  {
   "cell_type": "code",
   "execution_count": 41,
   "metadata": {
    "collapsed": false
   },
   "outputs": [
    {
     "name": "stdout",
     "output_type": "stream",
     "text": [
      "sample correct   29\n"
     ]
    }
   ],
   "source": [
    "state_dotsim = []\n",
    "for q, rs in zip(qq, rr):\n",
    "    for r in rs:\n",
    "        state_dotsim.append(np.dot(q, r))\n",
    "state_dotsim = np.array(state_dotsim).reshape(-1, 6)\n",
    "my_ans = np.argmax(state_dotsim, axis=1)\n",
    "sample_correct = np.sum(my_ans == sample_y)\n",
    "print('sample correct %4d' % (sample_correct), flush=True)"
   ]
  },
  {
   "cell_type": "code",
   "execution_count": 42,
   "metadata": {
    "collapsed": false
   },
   "outputs": [
    {
     "name": "stdout",
     "output_type": "stream",
     "text": [
      "sample correct   26\n"
     ]
    }
   ],
   "source": [
    "state_cossim = []\n",
    "for q, rs in zip(qq, rr):\n",
    "    for r in rs:\n",
    "        state_cossim.append(np.dot(q, r) / np.linalg.norm(q) / np.linalg.norm(r))\n",
    "state_cossim = np.array(state_cossim).reshape(-1, 6)\n",
    "my_ans = np.argmax(state_cossim, axis=1)\n",
    "sample_correct = np.sum(my_ans == sample_y)\n",
    "print('sample correct %4d' % (sample_correct), flush=True)"
   ]
  },
  {
   "cell_type": "code",
   "execution_count": null,
   "metadata": {
    "collapsed": true
   },
   "outputs": [],
   "source": []
  },
  {
   "cell_type": "code",
   "execution_count": null,
   "metadata": {
    "collapsed": true
   },
   "outputs": [],
   "source": []
  },
  {
   "cell_type": "code",
   "execution_count": 47,
   "metadata": {
    "collapsed": false
   },
   "outputs": [
    {
     "data": {
      "text/plain": [
       "((500, 1024), (500, 6, 1024))"
      ]
     },
     "execution_count": 47,
     "metadata": {},
     "output_type": "execute_result"
    }
   ],
   "source": [
    "qq = []\n",
    "rr = []\n",
    "for q, rs in zip(test_id1, test_id2):\n",
    "    q_state = sess.run(c_states, {\n",
    "        context: [q],\n",
    "        keep_prob: params['keep_prob_valid'],\n",
    "        context_len: [len(q)-1]\n",
    "    })[0]\n",
    "    qq.append(q_state)\n",
    "    for r in rs:\n",
    "        r_state = sess.run(c_states, {\n",
    "            context: [r],\n",
    "            keep_prob: params['keep_prob_valid'],\n",
    "            context_len: [len(r)-1]\n",
    "        })[0]\n",
    "        rr.append(r_state)\n",
    "qq = np.array(qq)\n",
    "rr = np.array(rr).reshape(-1, 6, qq.shape[-1])\n",
    "qq.shape, rr.shape"
   ]
  },
  {
   "cell_type": "code",
   "execution_count": 48,
   "metadata": {
    "collapsed": true
   },
   "outputs": [],
   "source": [
    "state_cossim = []\n",
    "for q, rs in zip(qq, rr):\n",
    "    for r in rs:\n",
    "        state_cossim.append(np.dot(q, r) / np.linalg.norm(q) / np.linalg.norm(r))\n",
    "state_cossim = np.array(state_cossim).reshape(-1, 6)"
   ]
  },
  {
   "cell_type": "code",
   "execution_count": 50,
   "metadata": {
    "collapsed": false
   },
   "outputs": [],
   "source": [
    "my_test_ans = np.argmax(state_cossim, axis=1)"
   ]
  },
  {
   "cell_type": "code",
   "execution_count": 53,
   "metadata": {
    "collapsed": true
   },
   "outputs": [],
   "source": [
    "with open('answer/attack-dual-lstm-8-rnn-state-cos-sim.txt', 'w') as fo:\n",
    "    fo.write('id,ans\\n')\n",
    "    fo.write('\\n'.join(['%d,%s' % (i+1, ans) for i, ans in enumerate(my_test_ans)]))\n",
    "    fo.write('\\n')"
   ]
  },
  {
   "cell_type": "code",
   "execution_count": null,
   "metadata": {
    "collapsed": true
   },
   "outputs": [],
   "source": []
  }
 ],
 "metadata": {
  "kernelspec": {
   "display_name": "Python 3",
   "language": "python",
   "name": "python3"
  },
  "language_info": {
   "codemirror_mode": {
    "name": "ipython",
    "version": 3
   },
   "file_extension": ".py",
   "mimetype": "text/x-python",
   "name": "python",
   "nbconvert_exporter": "python",
   "pygments_lexer": "ipython3",
   "version": "3.6.0"
  }
 },
 "nbformat": 4,
 "nbformat_minor": 2
}
