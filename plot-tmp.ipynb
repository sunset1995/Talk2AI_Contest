{
 "cells": [
  {
   "cell_type": "code",
   "execution_count": 33,
   "metadata": {
    "collapsed": true,
    "deletable": true,
    "editable": true
   },
   "outputs": [],
   "source": [
    "import numpy as np\n",
    "import matplotlib.pyplot as plt\n",
    "import matplotlib.patches as mpatches\n",
    "%matplotlib inline"
   ]
  },
  {
   "cell_type": "code",
   "execution_count": 34,
   "metadata": {
    "collapsed": false,
    "deletable": true,
    "editable": true
   },
   "outputs": [],
   "source": [
    "fnames = [\n",
    "    'record/exp_12',\n",
    "    'record/exp_13',\n",
    "    'record/exp_14',\n",
    "    'record/exp_15',\n",
    "    'record/exp_16',\n",
    "    'record/exp_17',\n",
    "    'record/exp_18',\n",
    "]\n",
    "\n",
    "exps = []\n",
    "for fname in fnames:\n",
    "    with open(fname, 'r') as f:\n",
    "        exps.append([float(line.split('=')[-1].strip()) for line in f.read().strip().split('\\n')])"
   ]
  },
  {
   "cell_type": "code",
   "execution_count": 35,
   "metadata": {
    "collapsed": false,
    "deletable": true,
    "editable": true
   },
   "outputs": [
    {
     "data": {
      "text/plain": [
       "(7,\n",
       " [(0, 'record/exp_12', 452),\n",
       "  (1, 'record/exp_13', 378),\n",
       "  (2, 'record/exp_14', 92),\n",
       "  (3, 'record/exp_15', 142),\n",
       "  (4, 'record/exp_16', 81),\n",
       "  (5, 'record/exp_17', 80),\n",
       "  (6, 'record/exp_18', 149)])"
      ]
     },
     "execution_count": 35,
     "metadata": {},
     "output_type": "execute_result"
    }
   ],
   "source": [
    "len(exps), [(i, fnames[i], len(e)) for i, e in enumerate(exps)]"
   ]
  },
  {
   "cell_type": "code",
   "execution_count": 44,
   "metadata": {
    "collapsed": false,
    "deletable": true,
    "editable": true
   },
   "outputs": [],
   "source": [
    "care_lst = [3, 6]\n",
    "x_s = 10\n",
    "x_rng = min([len(exps[i]) for i in care_lst])"
   ]
  },
  {
   "cell_type": "code",
   "execution_count": 45,
   "metadata": {
    "collapsed": false,
    "deletable": true,
    "editable": true
   },
   "outputs": [
    {
     "data": {
      "image/png": "[encoded data removed]",
      "text/plain": [
       "<matplotlib.figure.Figure at 0x110a7c780>"
      ]
     },
     "metadata": {},
     "output_type": "display_data"
    }
   ],
   "source": [
    "fig, ax = plt.subplots(1, figsize=(15, 5))\n",
    "colors = plt.get_cmap('Set2', 9)\n",
    "l_patches = []\n",
    "for i in care_lst:\n",
    "    l_patches.append(mpatches.Patch(color=colors(i), label=fnames[i][8:]))\n",
    "ax.legend(handles=l_patches)\n",
    "for i in care_lst:\n",
    "    ax.scatter(x=list(range(x_s, x_rng)), y=exps[i][x_s:x_rng], color=colors(i), marker='o')"
   ]
  },
  {
   "cell_type": "code",
   "execution_count": null,
   "metadata": {
    "collapsed": true,
    "deletable": true,
    "editable": true
   },
   "outputs": [],
   "source": []
  },
  {
   "cell_type": "code",
   "execution_count": null,
   "metadata": {
    "collapsed": true,
    "deletable": true,
    "editable": true
   },
   "outputs": [],
   "source": []
  }
 ],
 "metadata": {
  "kernelspec": {
   "display_name": "Python 3",
   "language": "python",
   "name": "python3"
  },
  "language_info": {
   "codemirror_mode": {
    "name": "ipython",
    "version": 3
   },
   "file_extension": ".py",
   "mimetype": "text/x-python",
   "name": "python",
   "nbconvert_exporter": "python",
   "pygments_lexer": "ipython3",
   "version": "3.6.0"
  }
 },
 "nbformat": 4,
 "nbformat_minor": 2
}
