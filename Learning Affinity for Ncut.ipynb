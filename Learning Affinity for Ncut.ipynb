{
 "cells": [
  {
   "cell_type": "code",
   "execution_count": 1,
   "metadata": {
    "collapsed": true
   },
   "outputs": [],
   "source": [
    "import tensorflow as tf\n",
    "import numpy as np\n",
    "dim1 = 10\n",
    "dim2 = 10"
   ]
  },
  {
   "cell_type": "code",
   "execution_count": 21,
   "metadata": {
    "collapsed": true
   },
   "outputs": [],
   "source": [
    "# Graph input\n",
    "x = tf.Variable(tf.random_uniform([dim1, dim2],minval=0,maxval=1))\n",
    "#W = tf.Variable(tf.random_normal([dim1, dim2])\n",
    "# Cost Function\n",
    "cost = x**2 + tf.norm(tf.reshape(x, [dim1*dim2]), ord=1)\n",
    "train_step = tf.train.GradientDescentOptimizer(0.1).minimize(cost)"
   ]
  },
  {
   "cell_type": "code",
   "execution_count": 22,
   "metadata": {},
   "outputs": [
    {
     "name": "stdout",
     "output_type": "stream",
     "text": [
      "[[ 0.34248435  0.63899708  0.03831005  0.77378333  0.68065238  0.76118958\n",
      "   0.56000412  0.32329774  0.18420804  0.49959528]]\n",
      "[[-9.72601223 -9.48880196 -9.96935272 -9.38097382 -9.45547867 -9.39104843\n",
      "  -9.55199718 -9.74136257 -9.85263348 -9.60032368]]\n",
      "[[ 2.2191906   2.40895891  2.02451801  2.49522114  2.43561721  2.4871614\n",
      "   2.35840273  2.20691037  2.1178937   2.31974101]]\n",
      "[[-8.22464848 -8.07283306 -8.3803854  -8.00382328 -8.05150604 -8.01027107\n",
      "  -8.11327744 -8.23447132 -8.30568504 -8.144207  ]]\n",
      "[[ 3.42028117  3.54173398  3.29569197  3.59694147  3.55879545  3.59178305\n",
      "   3.50937819  3.4124229   3.35545254  3.48463464]]\n",
      "[[-7.26377487 -7.16661263 -7.36344671 -7.12244749 -7.15296412 -7.12657356\n",
      "  -7.19249725 -7.27006149 -7.31563854 -7.21229219]]\n"
     ]
    }
   ],
   "source": [
    "with tf.Session() as sess:\n",
    "    sess.run(tf.global_variables_initializer())\n",
    "    print(x.eval()[0:1])\n",
    "    iters = 5\n",
    "    for i in range(5):\n",
    "        sess.run(train_step)\n",
    "        print(x.eval()[0:1])\n",
    "    "
   ]
  }
 ],
 "metadata": {
  "kernelspec": {
   "display_name": "Python 3",
   "language": "python",
   "name": "python3"
  },
  "language_info": {
   "codemirror_mode": {
    "name": "ipython",
    "version": 3
   },
   "file_extension": ".py",
   "mimetype": "text/x-python",
   "name": "python",
   "nbconvert_exporter": "python",
   "pygments_lexer": "ipython3",
   "version": "3.5.2"
  }
 },
 "nbformat": 4,
 "nbformat_minor": 2
}
