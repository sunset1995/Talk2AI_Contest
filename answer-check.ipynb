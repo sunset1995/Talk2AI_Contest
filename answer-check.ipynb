{
 "cells": [
  {
   "cell_type": "code",
   "execution_count": 1,
   "metadata": {
    "collapsed": true,
    "deletable": true,
    "editable": true
   },
   "outputs": [],
   "source": [
    "import pandas as pd\n",
    "import numpy as np\n",
    "from scipy import stats\n",
    "import os\n",
    "import re"
   ]
  },
  {
   "cell_type": "code",
   "execution_count": 2,
   "metadata": {
    "collapsed": true,
    "deletable": true,
    "editable": true
   },
   "outputs": [],
   "source": [
    "with open('datas/AIFirst_test_answer.txt', 'r') as f:\n",
    "    f.readline()\n",
    "    test_y = np.array([int(line.strip().split(',')[-1]) for line in f])"
   ]
  },
  {
   "cell_type": "code",
   "execution_count": 29,
   "metadata": {
    "collapsed": false,
    "deletable": true,
    "editable": true
   },
   "outputs": [],
   "source": [
    "dirname = 'answer/exp/'\n",
    "fnames = [dirname + fname for fname in os.listdir(dirname) if fname.endswith('.txt')]\n",
    "fnames += [\n",
    "    'answer/dual-lstm-best.txt',\n",
    "    'answer/dual-lstm-newest.txt',\n",
    "    'answer/two-encoder-3-best.txt',\n",
    "    'answer/attack-naive-word2vec-fine-tune-2.txt',\n",
    "    'answer/attack-naive-word2vec-fine-tune-3.txt',\n",
    "    'answer/attack-naive-word2vec-fine-tune-5.txt',\n",
    "    'answer/attack-naive-word2vec-fine-tune-6.txt',\n",
    "]"
   ]
  },
  {
   "cell_type": "code",
   "execution_count": 49,
   "metadata": {
    "collapsed": false
   },
   "outputs": [
    {
     "data": {
      "text/plain": [
       "array([ 0, 19, 19,  4,  0, 16,  5, 15,  3, 19, 14,  2, 19, 19,  0, 19, 12,\n",
       "       19,  3,  9,  2, 17,  0,  8, 19, 19, 19, 19, 19,  4,  1, 17, 19, 15,\n",
       "       15,  4,  2, 13, 19, 19, 10, 19,  3, 19,  6, 19, 13, 18,  0,  3, 11,\n",
       "       11, 19,  2, 14, 13, 19,  0, 19, 15,  7, 19, 16, 19, 19, 15,  0,  8,\n",
       "        8, 12, 11, 19, 19,  0,  9,  0,  4, 19, 19,  2,  3, 19, 19,  5, 17,\n",
       "       19, 19,  0, 15, 15, 19, 19,  5, 19, 19, 12, 19, 17, 12, 19,  4, 17,\n",
       "       19, 19,  0, 19, 16, 19, 17,  8, 19, 19, 19, 19, 19, 19,  0, 19,  0,\n",
       "       19, 19, 13,  2, 19,  0, 16, 11, 13, 19, 19, 16,  7, 19,  6, 19, 19,\n",
       "       19, 11, 19, 11,  9,  4,  0, 12, 19,  4,  3, 19, 17,  0, 15, 15, 19,\n",
       "       11, 19, 16,  1, 15, 19, 17, 19,  7, 19, 19,  0,  0, 19,  8,  0, 14,\n",
       "       19,  0,  0, 19,  0, 19, 17, 19,  4,  0, 13,  4, 18,  8,  4, 19,  5,\n",
       "       19, 17, 15,  8, 15, 18, 10,  0, 16,  6,  8, 17,  1,  0, 19,  4, 19,\n",
       "       19,  4, 18, 19, 19, 15, 19, 15, 19,  0, 19,  6, 19, 19, 19, 11,  3,\n",
       "       15,  6, 19, 16, 17, 17,  0, 19, 19, 19, 19, 18, 13,  8, 13, 19, 19,\n",
       "       19, 15, 12, 11, 19,  0, 15, 19, 19, 19, 19,  5, 16, 14,  0,  3,  2,\n",
       "        2,  4, 18, 14, 16, 19, 18,  9, 19, 19, 18, 19, 19, 11, 19, 13, 19,\n",
       "       17,  9,  4, 19, 18, 19, 14, 19,  8,  4, 19, 19,  9, 14,  4, 19,  0,\n",
       "       19, 19, 19,  0, 19, 19, 13, 19, 19, 19, 18, 11,  8, 19, 19,  0,  0,\n",
       "        5, 19,  0, 14, 19,  0,  9,  0, 19,  4,  1, 10,  7, 19, 13, 19, 19,\n",
       "       19, 19, 19, 11,  9, 17, 19, 19,  0,  4, 19, 19,  7,  7, 19, 19, 19,\n",
       "       19, 19, 19,  0,  5, 14,  4, 11,  4,  4, 13, 19, 19, 17,  0, 19, 19,\n",
       "       19, 19,  0, 19, 19, 10,  8,  2, 19, 19,  4, 19, 19, 19, 19,  0, 19,\n",
       "       19, 19, 11, 15,  0, 19, 19, 15, 18,  4, 19, 15, 17, 13, 15, 19,  8,\n",
       "        3, 15, 19,  8,  0,  4, 19, 19,  8, 15,  0, 18,  3,  4,  4, 19, 11,\n",
       "       19, 19,  8,  1, 19, 19,  3, 13, 19,  4, 11, 12, 17, 14, 19,  0,  0,\n",
       "        6,  8, 19, 19, 19, 15, 18, 16,  8, 19,  1, 19,  0,  4,  5, 19, 17,\n",
       "       19,  4, 19, 11, 19, 19, 19,  0, 19, 19, 11, 15, 15, 19, 19, 11,  0,\n",
       "       19,  5, 19, 13, 19, 19, 19, 16, 19,  0,  0, 19,  6,  0, 18, 19, 19,\n",
       "       18,  8, 19, 19, 19, 19, 13, 18,  0, 18,  4, 19,  4,  0,  2,  2, 14,\n",
       "        9, 15, 19, 19, 19,  8, 13])"
      ]
     },
     "execution_count": 49,
     "metadata": {},
     "output_type": "execute_result"
    }
   ],
   "source": [
    "np.sum(all_ans == test_y, axis=0)"
   ]
  },
  {
   "cell_type": "code",
   "execution_count": 48,
   "metadata": {
    "collapsed": false
   },
   "outputs": [
    {
     "data": {
      "text/plain": [
       "54"
      ]
     },
     "execution_count": 48,
     "metadata": {},
     "output_type": "execute_result"
    }
   ],
   "source": [
    "np.sum(np.sum(all_ans == test_y, axis=0) == 0)"
   ]
  },
  {
   "cell_type": "code",
   "execution_count": 37,
   "metadata": {
    "collapsed": false,
    "deletable": true,
    "editable": true
   },
   "outputs": [
    {
     "name": "stdout",
     "output_type": "stream",
     "text": [
      "answer/exp/exp_13_best_cossim_cMr.txt\n",
      "answer/exp/exp_13_best_naive.txt\n",
      "answer/exp/exp_13_best_sigmoid_cMr.txt\n",
      "answer/exp/exp_13_newest_cossim_cMr.txt\n",
      "answer/exp/exp_13_newest_naive.txt\n",
      "answer/exp/exp_13_newest_sigmoid_cMr.txt\n",
      "answer/exp/exp_14_best_cossim_cMr.txt\n",
      "answer/exp/exp_14_best_naive.txt\n",
      "answer/exp/exp_14_best_sigmoid_cMr.txt\n",
      "answer/exp/exp_14_newest_cossim_cMr.txt\n",
      "answer/exp/exp_14_newest_naive.txt\n",
      "answer/exp/exp_14_newest_sigmoid_cMr.txt\n",
      "answer/dual-lstm-best.txt\n",
      "answer/dual-lstm-newest.txt\n",
      "answer/two-encoder-3-best.txt\n",
      "answer/attack-naive-word2vec-fine-tune-2.txt\n",
      "answer/attack-naive-word2vec-fine-tune-3.txt\n",
      "answer/attack-naive-word2vec-fine-tune-5.txt\n",
      "answer/attack-naive-word2vec-fine-tune-6.txt\n"
     ]
    }
   ],
   "source": [
    "all_ans = []\n",
    "for fname in fnames:\n",
    "    with open(fname, 'r') as f:\n",
    "        print(fname)\n",
    "        f.readline()\n",
    "        all_ans.append(np.array([int(line.strip().split(',')[1]) for line in f]))\n",
    "all_ans = np.array(all_ans)\n",
    "mode_ans = stats.mode(all_ans).mode[0]"
   ]
  },
  {
   "cell_type": "code",
   "execution_count": 31,
   "metadata": {
    "collapsed": false,
    "deletable": true,
    "editable": true
   },
   "outputs": [
    {
     "name": "stdout",
     "output_type": "stream",
     "text": [
      "No two answer totally the same\n"
     ]
    }
   ],
   "source": [
    "n_same = 0\n",
    "for i in range(len(all_ans)):\n",
    "    for j in range(i):\n",
    "        if np.sum(all_ans[i] == all_ans[j]) == mode_ans.shape[0]:\n",
    "            print('Same ans:', fnames[i], '<=>', fnames[j])\n",
    "            n_same += 1\n",
    "if n_same == 0:\n",
    "    print('No two answer totally the same')"
   ]
  },
  {
   "cell_type": "code",
   "execution_count": 32,
   "metadata": {
    "collapsed": false,
    "deletable": true,
    "editable": true
   },
   "outputs": [
    {
     "name": "stdout",
     "output_type": "stream",
     "text": [
      "answer/exp/exp_13_best_cossim_cMr.txt              325  0.6360\n",
      "answer/exp/exp_13_best_naive.txt                   479  0.6860\n",
      "answer/exp/exp_13_best_sigmoid_cMr.txt             329  0.6400\n",
      "answer/exp/exp_13_newest_cossim_cMr.txt            320  0.6360\n",
      "answer/exp/exp_13_newest_naive.txt                 478  0.6900\n",
      "answer/exp/exp_13_newest_sigmoid_cMr.txt           327  0.6580\n",
      "answer/exp/exp_14_best_cossim_cMr.txt              359  0.6560\n",
      "answer/exp/exp_14_best_naive.txt                   490  0.6760\n",
      "answer/exp/exp_14_best_sigmoid_cMr.txt             358  0.6620\n",
      "answer/exp/exp_14_newest_cossim_cMr.txt            359  0.6740\n",
      "answer/exp/exp_14_newest_naive.txt                 489  0.6740\n",
      "answer/exp/exp_14_newest_sigmoid_cMr.txt           350  0.6640\n",
      "answer/dual-lstm-best.txt                          487  0.6800\n",
      "answer/dual-lstm-newest.txt                        487  0.6800\n",
      "answer/two-encoder-3-best.txt                      486  0.6780\n",
      "answer/attack-naive-word2vec-fine-tune-2.txt       484  0.6840\n",
      "answer/attack-naive-word2vec-fine-tune-3.txt       471  0.6680\n",
      "answer/attack-naive-word2vec-fine-tune-5.txt       437  0.6700\n",
      "answer/attack-naive-word2vec-fine-tune-6.txt       460  0.6800\n"
     ]
    }
   ],
   "source": [
    "for i in range(len(all_ans)):\n",
    "    print('%-50s %d  %.4f' % (fnames[i], np.sum(all_ans[i] == mode_ans), np.sum(all_ans[i]==test_y) / len(test_y)))\n",
    "    if np.sum(all_ans[i] == mode_ans) == mode_ans.shape[0]:\n",
    "        print('Same with mode ans:', fnames[i])"
   ]
  },
  {
   "cell_type": "code",
   "execution_count": 33,
   "metadata": {
    "collapsed": false,
    "deletable": true,
    "editable": true
   },
   "outputs": [
    {
     "name": "stdout",
     "output_type": "stream",
     "text": [
      "                        voting: 0.6800\n"
     ]
    }
   ],
   "source": [
    "print('%30s: %.4f' % ('voting', np.sum(mode_ans == test_y) / len(test_y)))"
   ]
  },
  {
   "cell_type": "code",
   "execution_count": null,
   "metadata": {
    "collapsed": true,
    "deletable": true,
    "editable": true
   },
   "outputs": [],
   "source": [
    "# with open('answer/attack-bagging-fuck-2.txt', 'w') as fo:\n",
    "#     fo.write('id,ans\\n')\n",
    "#     fo.write('\\n'.join(['%d,%s' % (i+1, ans) for i, ans in enumerate(mode_ans)]))\n",
    "#     fo.write('\\n')"
   ]
  },
  {
   "cell_type": "code",
   "execution_count": null,
   "metadata": {
    "collapsed": true,
    "deletable": true,
    "editable": true
   },
   "outputs": [],
   "source": []
  }
 ],
 "metadata": {
  "kernelspec": {
   "display_name": "Python 3",
   "language": "python",
   "name": "python3"
  },
  "language_info": {
   "codemirror_mode": {
    "name": "ipython",
    "version": 3
   },
   "file_extension": ".py",
   "mimetype": "text/x-python",
   "name": "python",
   "nbconvert_exporter": "python",
   "pygments_lexer": "ipython3",
   "version": "3.6.0"
  }
 },
 "nbformat": 4,
 "nbformat_minor": 2
}
