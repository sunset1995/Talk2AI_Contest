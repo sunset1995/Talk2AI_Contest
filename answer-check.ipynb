{
 "cells": [
  {
   "cell_type": "code",
   "execution_count": 2,
   "metadata": {
    "collapsed": true,
    "deletable": true,
    "editable": true
   },
   "outputs": [],
   "source": [
    "import pandas as pd\n",
    "import numpy as np\n",
    "from scipy import stats\n",
    "import os\n",
    "import re"
   ]
  },
  {
   "cell_type": "code",
   "execution_count": 3,
   "metadata": {
    "collapsed": false,
    "deletable": true,
    "editable": true
   },
   "outputs": [],
   "source": [
    "dirname = 'answer/'\n",
    "# fnames = [fname for fname in os.listdir(dirname) if fname.endswith('.txt')]\n",
    "fnames = [\n",
    "    \n",
    "]\n",
    "# fnames = [\n",
    "#     'dual-lstm-best.txt',\n",
    "#     'dual-lstm-newest.txt',\n",
    "#     'two-encoder-3-best.txt',\n",
    "#     'attack-naive-word2vec-fine-tune-2.txt',\n",
    "#     'attack-naive-word2vec-fine-tune-2.txt',\n",
    "#     'attack-naive-word2vec-fine-tune-2.txt',\n",
    "#     'attack-naive-word2vec-fine-tune-3.txt',\n",
    "#     'attack-naive-word2vec-fine-tune-5.txt',\n",
    "#     'attack-naive-word2vec-fine-tune-6-not-yet.txt',\n",
    "#     'attack-naive-word2vec-fine-tune-6.txt',\n",
    "# ]"
   ]
  },
  {
   "cell_type": "code",
   "execution_count": 6,
   "metadata": {
    "collapsed": false,
    "deletable": true,
    "editable": true
   },
   "outputs": [
    {
     "name": "stdout",
     "output_type": "stream",
     "text": [
      "22-attack-bagging-naive-only.txt\n",
      "23-attack-naive-=w=.txt\n",
      "24-attack-bagging-=w=.txt\n",
      "25-attack-naive-fine-tune2-with-la.txt\n",
      "attack-bagging-fuck-1.txt\n",
      "attack-bagging-fuck-2.txt\n",
      "attack-dual-lstm-12-cossim-c-Mr.txt\n",
      "attack-dual-lstm-8-rnn-state-cos-sim.txt\n",
      "attack-naive-no-tc-word2vec-cosine-sim.txt\n",
      "attack-naive-word2vec-bagging.txt\n",
      "attack-naive-word2vec-dual-lstm-8.txt\n",
      "attack-naive-word2vec-fine-tune-2.txt\n",
      "attack-naive-word2vec-fine-tune-3.txt\n",
      "attack-naive-word2vec-fine-tune-5.txt\n",
      "attack-naive-word2vec-fine-tune-6-not-yet.txt\n",
      "attack-naive-word2vec-fine-tune-6.txt\n",
      "attack-naive-word2vec-fine-tune.txt\n",
      "attack-naive-word2vec-not-fine-tune.txt\n",
      "attack-naive-word2vec-QAQ.txt\n",
      "attack-naive-word2vec.txt\n",
      "attack-sentence-embedding-2.txt\n",
      "attack-sentence-embedding-5.txt\n",
      "attack-sentence-embedding-6-not-yet.txt\n",
      "attack-sentence-embedding-6.txt\n",
      "attack-sentence-embedding.txt\n",
      "attack-tfidf.txt\n",
      "dual-lstm-best.txt\n",
      "dual-lstm-newest.txt\n",
      "two-encoder-3-best.txt\n"
     ]
    }
   ],
   "source": [
    "all_ans = []\n",
    "for fname in fnames:\n",
    "    with open(os.path.join(dirname, fname), 'r') as f:\n",
    "        print(fname)\n",
    "        f.readline()\n",
    "        all_ans.append(np.array([int(line.strip().split(',')[1]) for line in f]))\n",
    "all_ans = np.array(all_ans)\n",
    "mode_ans = stats.mode(all_ans).mode[0]"
   ]
  },
  {
   "cell_type": "code",
   "execution_count": 7,
   "metadata": {
    "collapsed": false,
    "deletable": true,
    "editable": true
   },
   "outputs": [
    {
     "name": "stdout",
     "output_type": "stream",
     "text": [
      "Same ans: attack-naive-word2vec-dual-lstm-8.txt <=> attack-naive-no-tc-word2vec-cosine-sim.txt\n"
     ]
    }
   ],
   "source": [
    "for i in range(len(all_ans)):\n",
    "    for j in range(i):\n",
    "        if np.sum(all_ans[i] == all_ans[j]) == mode_ans.shape[0]:\n",
    "            print('Same ans:', fnames[i], '<=>', fnames[j])"
   ]
  },
  {
   "cell_type": "code",
   "execution_count": 8,
   "metadata": {
    "collapsed": false,
    "deletable": true,
    "editable": true
   },
   "outputs": [
    {
     "name": "stdout",
     "output_type": "stream",
     "text": [
      "22-attack-bagging-naive-only.txt                   487\n",
      "23-attack-naive-=w=.txt                            492\n",
      "24-attack-bagging-=w=.txt                          491\n",
      "25-attack-naive-fine-tune2-with-la.txt             357\n",
      "attack-bagging-fuck-1.txt                          493\n",
      "attack-bagging-fuck-2.txt                          494\n",
      "attack-dual-lstm-12-cossim-c-Mr.txt                344\n",
      "attack-dual-lstm-8-rnn-state-cos-sim.txt           327\n",
      "attack-naive-no-tc-word2vec-cosine-sim.txt         362\n",
      "attack-naive-word2vec-bagging.txt                  407\n",
      "attack-naive-word2vec-dual-lstm-8.txt              362\n",
      "attack-naive-word2vec-fine-tune-2.txt              489\n",
      "attack-naive-word2vec-fine-tune-3.txt              468\n",
      "attack-naive-word2vec-fine-tune-5.txt              438\n",
      "attack-naive-word2vec-fine-tune-6-not-yet.txt      458\n",
      "attack-naive-word2vec-fine-tune-6.txt              454\n",
      "attack-naive-word2vec-fine-tune.txt                427\n",
      "attack-naive-word2vec-not-fine-tune.txt            399\n",
      "attack-naive-word2vec-QAQ.txt                      395\n",
      "attack-naive-word2vec.txt                          341\n",
      "attack-sentence-embedding-2.txt                    348\n",
      "attack-sentence-embedding-5.txt                    358\n",
      "attack-sentence-embedding-6-not-yet.txt            384\n",
      "attack-sentence-embedding-6.txt                    380\n",
      "attack-sentence-embedding.txt                      366\n",
      "attack-tfidf.txt                                   278\n",
      "dual-lstm-best.txt                                 489\n",
      "dual-lstm-newest.txt                               489\n",
      "two-encoder-3-best.txt                             488\n"
     ]
    }
   ],
   "source": [
    "for i in range(len(all_ans)):\n",
    "    print('%-50s %d' % (fnames[i], np.sum(all_ans[i] == mode_ans)))\n",
    "    if np.sum(all_ans[i] == mode_ans) == mode_ans.shape[0]:\n",
    "        print('Same with mode ans:', fnames[i])"
   ]
  },
  {
   "cell_type": "code",
   "execution_count": 87,
   "metadata": {
    "collapsed": true,
    "deletable": true,
    "editable": true
   },
   "outputs": [],
   "source": [
    "# with open('answer/attack-bagging-fuck-2.txt', 'w') as fo:\n",
    "#     fo.write('id,ans\\n')\n",
    "#     fo.write('\\n'.join(['%d,%s' % (i+1, ans) for i, ans in enumerate(mode_ans)]))\n",
    "#     fo.write('\\n')"
   ]
  },
  {
   "cell_type": "code",
   "execution_count": null,
   "metadata": {
    "collapsed": true,
    "deletable": true,
    "editable": true
   },
   "outputs": [],
   "source": []
  }
 ],
 "metadata": {
  "kernelspec": {
   "display_name": "Python 3",
   "language": "python",
   "name": "python3"
  },
  "language_info": {
   "codemirror_mode": {
    "name": "ipython",
    "version": 3
   },
   "file_extension": ".py",
   "mimetype": "text/x-python",
   "name": "python",
   "nbconvert_exporter": "python",
   "pygments_lexer": "ipython3",
   "version": "3.6.0"
  }
 },
 "nbformat": 4,
 "nbformat_minor": 2
}
