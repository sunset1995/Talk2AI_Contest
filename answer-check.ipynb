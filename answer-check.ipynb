{
 "cells": [
  {
   "cell_type": "code",
   "execution_count": 2,
   "metadata": {
    "collapsed": true,
    "deletable": true,
    "editable": true
   },
   "outputs": [],
   "source": [
    "import pandas as pd\n",
    "import numpy as np\n",
    "from scipy import stats\n",
    "import os\n",
    "import re"
   ]
  },
  {
   "cell_type": "code",
   "execution_count": 3,
   "metadata": {
    "collapsed": true,
    "deletable": true,
    "editable": true
   },
   "outputs": [],
   "source": [
    "with open('datas/AIFirst_test_answer.txt', 'r') as f:\n",
    "    f.readline()\n",
    "    test_y = np.array([int(line.strip().split(',')[-1]) for line in f])"
   ]
  },
  {
   "cell_type": "code",
   "execution_count": 9,
   "metadata": {
    "collapsed": false,
    "deletable": true,
    "editable": true
   },
   "outputs": [],
   "source": [
    "dirname = 'answer/exp/'\n",
    "fnames = [dirname + fname for fname in os.listdir(dirname) if fname.endswith('.txt')]\n",
    "\n",
    "# Remove duplicated answer\n",
    "fnames.remove('answer/exp/exp_13_best_naive.txt')\n",
    "fnames.remove('answer/exp/exp_13_newest_naive.txt')\n",
    "fnames.remove('answer/exp/exp_22_best_cossim_cMr.txt')\n",
    "fnames.remove('answer/exp/exp_22_best_sigmoid_cMr.txt')\n",
    "fnames.remove('answer/exp/naive-dual-lstm-14-best.txt')\n",
    "fnames.remove('answer/exp/naive-dual-lstm-22-best.txt')\n",
    "\n",
    "# fnames += [\n",
    "#     'answer/dual-lstm-best.txt',\n",
    "#     'answer/dual-lstm-newest.txt',\n",
    "#     'answer/two-encoder-3-best.txt',\n",
    "#     'answer/attack-naive-word2vec-fine-tune-2.txt',\n",
    "#     'answer/attack-naive-word2vec-fine-tune-3.txt',\n",
    "#     'answer/attack-naive-word2vec-fine-tune-5.txt',\n",
    "#     'answer/attack-naive-word2vec-fine-tune-6.txt',\n",
    "# ]"
   ]
  },
  {
   "cell_type": "code",
   "execution_count": 10,
   "metadata": {
    "collapsed": false,
    "deletable": true,
    "editable": true
   },
   "outputs": [
    {
     "name": "stdout",
     "output_type": "stream",
     "text": [
      "answer/exp/exp_13_best_cossim_cMr.txt\n",
      "answer/exp/exp_13_best_naive.txt\n",
      "answer/exp/exp_13_best_sigmoid_cMr.txt\n",
      "answer/exp/exp_13_newest_cossim_cMr.txt\n",
      "answer/exp/exp_13_newest_naive.txt\n",
      "answer/exp/exp_13_newest_sigmoid_cMr.txt\n",
      "answer/exp/exp_14_best_cossim_cMr.txt\n",
      "answer/exp/exp_14_best_naive.txt\n",
      "answer/exp/exp_14_best_sigmoid_cMr.txt\n",
      "answer/exp/exp_14_newest_cossim_cMr.txt\n",
      "answer/exp/exp_14_newest_naive.txt\n",
      "answer/exp/exp_14_newest_sigmoid_cMr.txt\n",
      "answer/exp/exp_15_best_cossim_cMr.txt\n",
      "answer/exp/exp_15_best_sigmoid_cMr.txt\n",
      "answer/exp/exp_15_newest_cossim_cMr.txt\n",
      "answer/exp/exp_15_newest_sigmoid_cMr.txt\n",
      "answer/exp/exp_16_best_cossim_cMr.txt\n",
      "answer/exp/exp_16_best_sigmoid_cMr.txt\n",
      "answer/exp/exp_16_newest_cossim_cMr.txt\n",
      "answer/exp/exp_16_newest_sigmoid_cMr.txt\n",
      "answer/exp/exp_17_best_cossim_cMr.txt\n",
      "answer/exp/exp_17_best_sigmoid_cMr.txt\n",
      "answer/exp/exp_17_newest_cossim_cMr.txt\n",
      "answer/exp/exp_17_newest_sigmoid_cMr.txt\n",
      "answer/exp/exp_18_best_cossim_cMr.txt\n",
      "answer/exp/exp_18_best_sigmoid_cMr.txt\n",
      "answer/exp/exp_18_newest_cossim_cMr.txt\n",
      "answer/exp/exp_18_newest_sigmoid_cMr.txt\n",
      "answer/exp/exp_22_newest_cossim_cMr.txt\n",
      "answer/exp/exp_22_newest_sigmoid_cMr.txt\n",
      "answer/exp/exp_24_best_cossim_cMr.txt\n",
      "answer/exp/exp_24_best_sigmoid_cMr.txt\n",
      "answer/exp/exp_24_newest_cossim_cMr.txt\n",
      "answer/exp/exp_24_newest_sigmoid_cMr.txt\n",
      "answer/exp/naive-dual-lstm-12-best.txt\n",
      "answer/exp/naive-dual-lstm-12-newest.txt\n",
      "answer/exp/naive-dual-lstm-13-best.txt\n",
      "answer/exp/naive-dual-lstm-13-newest.txt\n",
      "answer/exp/naive-dual-lstm-14-newest.txt\n",
      "answer/exp/naive-dual-lstm-15-best.txt\n",
      "answer/exp/naive-dual-lstm-15-newest.txt\n",
      "answer/exp/naive-dual-lstm-16-best.txt\n",
      "answer/exp/naive-dual-lstm-16-newest.txt\n",
      "answer/exp/naive-dual-lstm-17-best.txt\n",
      "answer/exp/naive-dual-lstm-17-newest.txt\n",
      "answer/exp/naive-dual-lstm-18-best.txt\n",
      "answer/exp/naive-dual-lstm-18-newest.txt\n",
      "answer/exp/naive-dual-lstm-22-newest.txt\n",
      "answer/exp/naive-dual-lstm-24-best.txt\n",
      "answer/exp/naive-dual-lstm-24-newest.txt\n",
      "answer/exp/naive-smn-1-best.txt\n",
      "answer/exp/naive-smn-1-newest.txt\n"
     ]
    }
   ],
   "source": [
    "all_ans = []\n",
    "for fname in fnames:\n",
    "    with open(fname, 'r') as f:\n",
    "        print(fname)\n",
    "        f.readline()\n",
    "        all_ans.append(np.array([int(line.strip().split(',')[1]) for line in f]))\n",
    "all_ans = np.array(all_ans)\n",
    "mode_ans = stats.mode(all_ans).mode[0]"
   ]
  },
  {
   "cell_type": "code",
   "execution_count": 11,
   "metadata": {
    "collapsed": false,
    "deletable": true,
    "editable": true
   },
   "outputs": [
    {
     "name": "stdout",
     "output_type": "stream",
     "text": [
      "No two answer totally the same\n"
     ]
    }
   ],
   "source": [
    "n_same = 0\n",
    "for i in range(len(all_ans)):\n",
    "    for j in range(i):\n",
    "        if np.sum(all_ans[i] == all_ans[j]) == mode_ans.shape[0]:\n",
    "            print('Same ans:', fnames[i], '<=>', fnames[j])\n",
    "            n_same += 1\n",
    "if n_same == 0:\n",
    "    print('No two answer totally the same')"
   ]
  },
  {
   "cell_type": "code",
   "execution_count": 12,
   "metadata": {
    "collapsed": false,
    "deletable": true,
    "editable": true
   },
   "outputs": [
    {
     "name": "stdout",
     "output_type": "stream",
     "text": [
      "answer/exp/exp_13_best_cossim_cMr.txt              349  0.6360\n",
      "answer/exp/exp_13_best_naive.txt                   448  0.6860\n",
      "answer/exp/exp_13_best_sigmoid_cMr.txt             350  0.6400\n",
      "answer/exp/exp_13_newest_cossim_cMr.txt            343  0.6360\n",
      "answer/exp/exp_13_newest_naive.txt                 449  0.6900\n",
      "answer/exp/exp_13_newest_sigmoid_cMr.txt           351  0.6580\n",
      "answer/exp/exp_14_best_cossim_cMr.txt              381  0.6560\n",
      "answer/exp/exp_14_best_naive.txt                   453  0.6760\n",
      "answer/exp/exp_14_best_sigmoid_cMr.txt             383  0.6620\n",
      "answer/exp/exp_14_newest_cossim_cMr.txt            386  0.6740\n",
      "answer/exp/exp_14_newest_naive.txt                 452  0.6740\n",
      "answer/exp/exp_14_newest_sigmoid_cMr.txt           378  0.6640\n",
      "answer/exp/exp_15_best_cossim_cMr.txt              386  0.6740\n",
      "answer/exp/exp_15_best_sigmoid_cMr.txt             385  0.6700\n",
      "answer/exp/exp_15_newest_cossim_cMr.txt            380  0.6780\n",
      "answer/exp/exp_15_newest_sigmoid_cMr.txt           378  0.6680\n",
      "answer/exp/exp_16_best_cossim_cMr.txt              393  0.6760\n",
      "answer/exp/exp_16_best_sigmoid_cMr.txt             386  0.6720\n",
      "answer/exp/exp_16_newest_cossim_cMr.txt            394  0.6700\n",
      "answer/exp/exp_16_newest_sigmoid_cMr.txt           392  0.6540\n",
      "answer/exp/exp_17_best_cossim_cMr.txt              393  0.6620\n",
      "answer/exp/exp_17_best_sigmoid_cMr.txt             392  0.6640\n",
      "answer/exp/exp_17_newest_cossim_cMr.txt            396  0.6700\n",
      "answer/exp/exp_17_newest_sigmoid_cMr.txt           393  0.6740\n",
      "answer/exp/exp_18_best_cossim_cMr.txt              377  0.6840\n",
      "answer/exp/exp_18_best_sigmoid_cMr.txt             372  0.6800\n",
      "answer/exp/exp_18_newest_cossim_cMr.txt            374  0.6800\n",
      "answer/exp/exp_18_newest_sigmoid_cMr.txt           372  0.6800\n",
      "answer/exp/exp_22_newest_cossim_cMr.txt            358  0.6380\n",
      "answer/exp/exp_22_newest_sigmoid_cMr.txt           365  0.6380\n",
      "answer/exp/exp_24_best_cossim_cMr.txt              352  0.6680\n",
      "answer/exp/exp_24_best_sigmoid_cMr.txt             348  0.6560\n",
      "answer/exp/exp_24_newest_cossim_cMr.txt            361  0.6620\n",
      "answer/exp/exp_24_newest_sigmoid_cMr.txt           361  0.6600\n",
      "answer/exp/naive-dual-lstm-12-best.txt             443  0.6900\n",
      "answer/exp/naive-dual-lstm-12-newest.txt           445  0.6940\n",
      "answer/exp/naive-dual-lstm-13-best.txt             449  0.6900\n",
      "answer/exp/naive-dual-lstm-13-newest.txt           448  0.6980\n",
      "answer/exp/naive-dual-lstm-14-newest.txt           452  0.6780\n",
      "answer/exp/naive-dual-lstm-15-best.txt             447  0.6880\n",
      "answer/exp/naive-dual-lstm-15-newest.txt           446  0.6940\n",
      "answer/exp/naive-dual-lstm-16-best.txt             450  0.6880\n",
      "answer/exp/naive-dual-lstm-16-newest.txt           448  0.6840\n",
      "answer/exp/naive-dual-lstm-17-best.txt             450  0.6920\n",
      "answer/exp/naive-dual-lstm-17-newest.txt           449  0.6940\n",
      "answer/exp/naive-dual-lstm-18-best.txt             445  0.6740\n",
      "answer/exp/naive-dual-lstm-18-newest.txt           444  0.6780\n",
      "answer/exp/naive-dual-lstm-22-newest.txt           442  0.6900\n",
      "answer/exp/naive-dual-lstm-24-best.txt             425  0.6660\n",
      "answer/exp/naive-dual-lstm-24-newest.txt           426  0.6640\n",
      "answer/exp/naive-smn-1-best.txt                    436  0.6920\n",
      "answer/exp/naive-smn-1-newest.txt                  435  0.6900\n"
     ]
    }
   ],
   "source": [
    "for i in range(len(all_ans)):\n",
    "    print('%-50s %d  %.4f' % (fnames[i], np.sum(all_ans[i] == mode_ans), np.sum(all_ans[i]==test_y) / len(test_y)))\n",
    "    if np.sum(all_ans[i] == mode_ans) == mode_ans.shape[0]:\n",
    "        print('Same with mode ans:', fnames[i])"
   ]
  },
  {
   "cell_type": "code",
   "execution_count": 13,
   "metadata": {
    "collapsed": false,
    "deletable": true,
    "editable": true
   },
   "outputs": [
    {
     "name": "stdout",
     "output_type": "stream",
     "text": [
      "                        voting: 0.7200\n"
     ]
    }
   ],
   "source": [
    "print('%30s: %.4f' % ('voting', np.sum(mode_ans == test_y) / len(test_y)))"
   ]
  },
  {
   "cell_type": "code",
   "execution_count": 14,
   "metadata": {
    "collapsed": true,
    "deletable": true,
    "editable": true
   },
   "outputs": [],
   "source": [
    "with open('answer/attack-voting-final.txt', 'w') as fo:\n",
    "    fo.write('id,ans\\n')\n",
    "    fo.write('\\n'.join(['%d,%s' % (i+1, ans) for i, ans in enumerate(mode_ans)]))\n",
    "    fo.write('\\n')"
   ]
  },
  {
   "cell_type": "code",
   "execution_count": null,
   "metadata": {
    "collapsed": true,
    "deletable": true,
    "editable": true
   },
   "outputs": [],
   "source": []
  }
 ],
 "metadata": {
  "kernelspec": {
   "display_name": "Python 3",
   "language": "python",
   "name": "python3"
  },
  "language_info": {
   "codemirror_mode": {
    "name": "ipython",
    "version": 3
   },
   "file_extension": ".py",
   "mimetype": "text/x-python",
   "name": "python",
   "nbconvert_exporter": "python",
   "pygments_lexer": "ipython3",
   "version": "3.6.0"
  }
 },
 "nbformat": 4,
 "nbformat_minor": 2
}
