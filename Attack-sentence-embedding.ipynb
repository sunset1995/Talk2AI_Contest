{
 "cells": [
  {
   "cell_type": "code",
   "execution_count": 1,
   "metadata": {
    "collapsed": true,
    "deletable": true,
    "editable": true
   },
   "outputs": [],
   "source": [
    "import numpy as np\n",
    "import tensorflow as tf\n",
    "from scipy import spatial\n",
    "from scipy import stats\n",
    "from gensim.models import word2vec\n",
    "\n",
    "# Import pandas\n",
    "import pandas as pd\n",
    "from pandas import Series, DataFrame\n",
    "\n",
    "# Import util\n",
    "import time\n",
    "import re\n",
    "import sys\n",
    "import gc\n",
    "\n",
    "# Self define module\n",
    "from mini_batch_helper import extractor\n",
    "from mini_batch_helper import MiniBatchCorpus"
   ]
  },
  {
   "cell_type": "markdown",
   "metadata": {
    "deletable": true,
    "editable": true
   },
   "source": [
    "### Loading corpus and forming dict"
   ]
  },
  {
   "cell_type": "code",
   "execution_count": 9,
   "metadata": {
    "collapsed": false,
    "deletable": true,
    "editable": true
   },
   "outputs": [],
   "source": [
    "word2vec_fname = 'models/word2vec/fine-tuned-6.txt'\n",
    "corpus_fnames = [\n",
    "    'datas/training_data/下課花路米.txt',\n",
    "    'datas/training_data/人生劇展.txt',\n",
    "    'datas/training_data/公視藝文大道.txt',\n",
    "    'datas/training_data/成語賽恩思.txt',\n",
    "    'datas/training_data/我的這一班.txt',\n",
    "    'datas/training_data/流言追追追.txt',\n",
    "    'datas/training_data/聽聽看.txt',\n",
    "    'datas/training_data/誰來晚餐.txt',\n",
    "]\n",
    "sample_rate_on_training_datas = 1\n",
    "extra_words = ['<pad>']\n",
    "unknown_word = None\n",
    "\n",
    "word2id, id2word, word_p, embedding_matrix, corpus, corpus_id = extractor(word2vec_fname, corpus_fnames, sample_rate_on_training_datas, extra_words, unknown_word)"
   ]
  },
  {
   "cell_type": "code",
   "execution_count": 10,
   "metadata": {
    "collapsed": false,
    "deletable": true,
    "editable": true
   },
   "outputs": [
    {
     "name": "stdout",
     "output_type": "stream",
     "text": [
      "            voc_size: 65865\n",
      "            emb_size: 200\n",
      "         pad_word_id: 65864\n",
      "         max_seq_len: 76\n",
      "train datas num: 5776640\n",
      "valid datas num: 18688\n"
     ]
    }
   ],
   "source": [
    "voc_size = embedding_matrix.shape[0]\n",
    "emb_size = embedding_matrix.shape[1]\n",
    "pad_word_id = word2id['<pad>']\n",
    "max_seq_len = np.max([len(s) for cp in corpus_id for s in cp])\n",
    "\n",
    "print('%20s: %d' % ('voc_size', voc_size))\n",
    "print('%20s: %d' % ('emb_size', emb_size))\n",
    "print('%20s: %d' % ('pad_word_id', pad_word_id))\n",
    "print('%20s: %d' % ('max_seq_len', max_seq_len))\n",
    "\n",
    "# Data split\n",
    "rnd_idx = np.arange(len(corpus_id))\n",
    "np.random.shuffle(rnd_idx)\n",
    "corpus_id = corpus_id[rnd_idx]\n",
    "valid_corpus_num = 10\n",
    "\n",
    "train_data_loader = MiniBatchCorpus(corpus_id[valid_corpus_num:])\n",
    "valid_data_loader = MiniBatchCorpus(corpus_id[:valid_corpus_num])\n",
    "print('train datas num:', train_data_loader.data_num)\n",
    "print('valid datas num:', valid_data_loader.data_num)"
   ]
  },
  {
   "cell_type": "markdown",
   "metadata": {
    "deletable": true,
    "editable": true
   },
   "source": [
    "### Define model"
   ]
  },
  {
   "cell_type": "code",
   "execution_count": 4,
   "metadata": {
    "collapsed": false,
    "deletable": true,
    "editable": true
   },
   "outputs": [],
   "source": [
    "# Word embedding model\n",
    "embeddings_W = tf.Variable(embedding_matrix)\n",
    "\n",
    "# Input\n",
    "x1 = tf.placeholder(tf.int32, [None, None])\n",
    "x2 = tf.placeholder(tf.int32, [None, None])\n",
    "y = tf.placeholder(tf.int32, [None])\n",
    "lr = tf.placeholder(tf.float64)\n",
    "\n",
    "# Sentence embedding\n",
    "x1_mask = tf.to_double(tf.not_equal(x1, pad_word_id))\n",
    "x2_mask = tf.to_double(tf.not_equal(x2, pad_word_id))\n",
    "x1_len = tf.reduce_sum(x1_mask, axis=1)\n",
    "x2_len = tf.reduce_sum(x2_mask, axis=1)\n",
    "x1_embedded = tf.gather(embeddings_W, x1) * tf.reshape(x1_mask, [-1, tf.shape(x1)[1], 1])\n",
    "x2_embedded = tf.gather(embeddings_W, x2) * tf.reshape(x2_mask, [-1, tf.shape(x2)[1], 1])\n",
    "x1_center = tf.reduce_sum(x1_embedded, axis=1) / tf.reshape(tf.to_double(x1_len)+1e-6, [-1, 1])\n",
    "x2_center = tf.reduce_sum(x2_embedded, axis=1) / tf.reshape(tf.to_double(x2_len)+1e-6, [-1, 1])\n",
    "\n",
    "W = tf.Variable(tf.truncated_normal([emb_size, emb_size], stddev=0.01, dtype=tf.float64))\n",
    "tf_score = tf.reduce_sum((x2_center * (x1_center @ W)), axis=1)\n",
    "\n",
    "tf_prob = tf.sigmoid(tf_score)\n",
    "tf_guess = tf.cast(tf.greater_equal(tf_prob, 0.5), tf.int32)\n",
    "tf_correct = tf.reduce_sum(tf.cast(tf.equal(y, tf_guess), tf.int32))"
   ]
  },
  {
   "cell_type": "code",
   "execution_count": null,
   "metadata": {
    "collapsed": false,
    "deletable": true,
    "editable": true
   },
   "outputs": [],
   "source": [
    "# Export embedding layer for naive method to use\n",
    "# saver = tf.train.Saver()\n",
    "# sess = tf.Session()\n",
    "# saver.restore(sess, './models/Attack-sentence-5/bes')\n",
    "# now_emb_w = sess.run(embeddings_W)\n",
    "# with open('./models/word2vec/fine-tuned-6-not-yet.txt', 'w') as f:\n",
    "#     assert(len(id2word) == now_emb_w.shape[0])\n",
    "#     f.write('%d %d\\n' % (voc_size, emb_size))\n",
    "#     for word, vec in zip(id2word, now_emb_w):\n",
    "#         f.write('%s %s\\n' % (word, ' '.join([str(f) for f in vec])))"
   ]
  },
  {
   "cell_type": "code",
   "execution_count": 6,
   "metadata": {
    "collapsed": true
   },
   "outputs": [],
   "source": [
    "now_emb_w = sess.run(embeddings_W)"
   ]
  },
  {
   "cell_type": "code",
   "execution_count": 11,
   "metadata": {
    "collapsed": false
   },
   "outputs": [
    {
     "data": {
      "text/plain": [
       "2000"
      ]
     },
     "execution_count": 11,
     "metadata": {},
     "output_type": "execute_result"
    }
   ],
   "source": [
    "np.sum(now_emb_w == embedding_matrix)"
   ]
  },
  {
   "cell_type": "code",
   "execution_count": null,
   "metadata": {
    "collapsed": true,
    "deletable": true,
    "editable": true
   },
   "outputs": [],
   "source": [
    "# now_emb_w = sess.run(embeddings_W)\n",
    "# with open('./models/word2vec/fine-tuned-6.txt', 'w') as f:\n",
    "#     assert(len(id2word) == now_emb_w.shape[0])\n",
    "#     f.write('%d %d\\n' % (voc_size, emb_size))\n",
    "#     for word, vec in zip(id2word, now_emb_w):\n",
    "#         f.write('%s %s\\n' % (word, ' '.join([str(f) for f in vec])))"
   ]
  },
  {
   "cell_type": "markdown",
   "metadata": {
    "deletable": true,
    "editable": true
   },
   "source": [
    "----------------------------------\n",
    "## Training"
   ]
  },
  {
   "cell_type": "code",
   "execution_count": null,
   "metadata": {
    "collapsed": false,
    "deletable": true,
    "editable": true
   },
   "outputs": [],
   "source": [
    "reg = tf.nn.l2_loss(W) * 1e-2\n",
    "cost = tf.reduce_mean(tf.nn.sigmoid_cross_entropy_with_logits(labels=tf.cast(y, tf.float64), logits=tf_score))\n",
    "cost_reg = cost + reg\n",
    "optimizer = tf.train.AdamOptimizer(lr)\n",
    "gvs = optimizer.compute_gradients(cost_reg)\n",
    "capped_gvs = [(tf.clip_by_norm(grad, 20), var) for grad, var in gvs]\n",
    "train_step = optimizer.apply_gradients(capped_gvs)"
   ]
  },
  {
   "cell_type": "code",
   "execution_count": null,
   "metadata": {
    "collapsed": true,
    "deletable": true,
    "editable": true
   },
   "outputs": [],
   "source": [
    "saver = tf.train.Saver()\n",
    "sess = tf.Session()\n",
    "sess.run(tf.global_variables_initializer())"
   ]
  },
  {
   "cell_type": "code",
   "execution_count": null,
   "metadata": {
    "collapsed": true,
    "deletable": true,
    "editable": true
   },
   "outputs": [],
   "source": [
    "def eval_valid_loss():\n",
    "    valid_loss = 0\n",
    "    reg_loss = 0\n",
    "    valid_acc = 0\n",
    "    valid_batch = 2048\n",
    "    num = [0, 0]\n",
    "    correct = [0, 0]\n",
    "    batch_num = valid_data_loader.data_num // valid_batch\n",
    "    for i in range(batch_num):\n",
    "        b_x1, b_x2, b_y = valid_data_loader.next_batch(valid_batch, max_seq_len, pad_word_id)\n",
    "        now_loss, now_reg_loss, now_correct, now_guess = sess.run([cost, reg, tf_correct, tf_guess], {x1: b_x1, x2: b_x2, y: b_y})\n",
    "        assert(now_correct == np.sum(now_guess == b_y))\n",
    "        valid_loss += now_loss / batch_num\n",
    "        reg_loss += now_reg_loss / batch_num\n",
    "        valid_acc += now_correct / (batch_num * valid_batch)\n",
    "        num[0] += np.sum(b_y == 0)\n",
    "        num[1] += np.sum(b_y == 1)\n",
    "        correct[0] += np.sum((b_y == 0) & (now_guess == b_y))\n",
    "        correct[1] += np.sum((b_y == 1) & (now_guess == b_y))\n",
    "    recall_0 = correct[0] / num[0] if num[0] else 0\n",
    "    recall_1 = correct[1] / num[1] if num[1] else 0\n",
    "    return valid_loss, reg_loss, valid_acc, recall_0, recall_1"
   ]
  },
  {
   "cell_type": "code",
   "execution_count": null,
   "metadata": {
    "collapsed": false,
    "deletable": true,
    "editable": true,
    "scrolled": true
   },
   "outputs": [],
   "source": [
    "learning_rate = 1e-3\n",
    "batch_size = 256\n",
    "epoch_num = 40\n",
    "log_interval = 500\n",
    "save_interval = 10000\n",
    "\n",
    "last_epoch = None\n",
    "train_batch_loss = 0\n",
    "start_time = time.time()\n",
    "best_loss = None\n",
    "for i_batch in range(epoch_num * train_data_loader.data_num // batch_size):\n",
    "    epoch = i_batch // (train_data_loader.data_num // batch_size)\n",
    "    if last_epoch is None or last_epoch != epoch:\n",
    "        last_epoch = epoch\n",
    "        print('Start epoch %d' % (epoch))\n",
    "\n",
    "    epoch = i_batch // (train_data_loader.data_num // batch_size)\n",
    "    b_x1, b_x2, b_y = train_data_loader.next_batch(batch_size, max_seq_len, pad_word_id)\n",
    "    _, now_loss = sess.run([train_step, cost], {x1: b_x1, x2: b_x2, y: b_y, lr: learning_rate})\n",
    "    train_batch_loss += now_loss / log_interval\n",
    "    if (i_batch+1) % log_interval == 0:\n",
    "        valid_loss, reg_loss, valid_acc, recall_0, recall_1 = eval_valid_loss()\n",
    "        print('train batch loss %8f / valid loss %8f / valid reg loss %8f / valid acc %8f / recall_0 %8f / recall_1 %8f / elapsed time %.f' % (\n",
    "            train_batch_loss, valid_loss, reg_loss, valid_acc, recall_0, recall_1, time.time()-start_time), flush=True)\n",
    "        train_batch_loss = 0\n",
    "        if best_loss is None or valid_loss < best_loss:\n",
    "            best_loss = valid_loss\n",
    "            print('model saved (best)', flush=True)\n",
    "            saver.save(sess, 'models/Attack-sentence-embedding/best')\n",
    "        else:\n",
    "            learning_rate /= 1.01\n",
    "            print('Decay learing rate -> %10f' % (learning_rate))\n",
    "    if save_interval is not None and (i_batch+1) % save_interval == 0:\n",
    "        saver.save(sess, 'models/Attack-sentence-embedding/latest')\n",
    "        print('model saved (latest)', flush=True)\n",
    "\n",
    "saver.save(sess, 'models/Attack-sentence-embedding/final')"
   ]
  },
  {
   "cell_type": "markdown",
   "metadata": {
    "collapsed": true,
    "deletable": true,
    "editable": true
   },
   "source": [
    "------------------------------\n",
    "## Evaluating"
   ]
  },
  {
   "cell_type": "code",
   "execution_count": null,
   "metadata": {
    "collapsed": true,
    "deletable": true,
    "editable": true
   },
   "outputs": [],
   "source": [
    "eval_max_seq_len = 100"
   ]
  },
  {
   "cell_type": "code",
   "execution_count": null,
   "metadata": {
    "collapsed": false,
    "deletable": true,
    "editable": true
   },
   "outputs": [],
   "source": [
    "import jieba\n",
    "jieba.set_dictionary('datas/dict/dict.txt.big')\n",
    "jieba.load_userdict('datas/dict/edu_dict.txt')"
   ]
  },
  {
   "cell_type": "code",
   "execution_count": null,
   "metadata": {
    "collapsed": true,
    "deletable": true,
    "editable": true
   },
   "outputs": [],
   "source": [
    "sample = pd.read_csv('datas/sample_test_data.txt')\n",
    "\n",
    "sample_x1 = [[s for s in re.sub('[A-Z]:', '\\t', _).split('\\t') if len(s.strip())] for _ in sample.dialogue.values]\n",
    "sample_x2 = [[s for s in re.sub('[A-Z]:', '\\t', _).split('\\t') if len(s.strip())] for _ in sample.options.values]\n",
    "sample_y = sample.answer.values\n",
    "assert(np.sum([len(_)!=6 for _ in sample_x2]) == 0)\n",
    "\n",
    "sample_x1 = [[word for word in jieba.cut(' '.join(s)) if word != ' '] for s in sample_x1]\n",
    "sample_x2 = [[[word for word in jieba.cut(r) if word != ' '] for r in rs] for rs in sample_x2]\n",
    "\n",
    "test_datas = pd.read_csv('datas/AIFirstProblem.txt')\n",
    "\n",
    "test_x1 = [[s for s in re.sub('[A-Z]:', '\\t', _).split('\\t') if len(s.strip())] for _ in test_datas.dialogue.values]\n",
    "test_x2 = [[s for s in re.sub('[A-Z]:', '\\t', _).split('\\t') if len(s.strip())] for _ in test_datas.options.values]\n",
    "assert(np.sum([len(_)!=6 for _ in test_x2]) == 0)\n",
    "\n",
    "test_x1 = [[word for word in jieba.cut(' '.join(s)) if word != ' '] for s in test_x1]\n",
    "test_x2 = [[[word for word in jieba.cut(r) if word != ' '] for r in rs] for rs in test_x2]"
   ]
  },
  {
   "cell_type": "code",
   "execution_count": null,
   "metadata": {
    "collapsed": true,
    "deletable": true,
    "editable": true
   },
   "outputs": [],
   "source": [
    "def word_lst_2_id_lst(lst):\n",
    "    return [word2id[lst[i]] if i<len(lst) and lst[i] in word2id else pad_word_id for i in range(eval_max_seq_len)]"
   ]
  },
  {
   "cell_type": "code",
   "execution_count": null,
   "metadata": {
    "collapsed": true,
    "deletable": true,
    "editable": true
   },
   "outputs": [],
   "source": [
    "sample_id1 = np.array([word_lst_2_id_lst(s) for s in sample_x1])\n",
    "sample_id2 = np.array([[word_lst_2_id_lst(r) for r in rs] for rs in sample_x2])\n",
    "test_id1 = np.array([word_lst_2_id_lst(s) for s in test_x1])\n",
    "test_id2 = np.array([[word_lst_2_id_lst(r) for r in rs] for rs in test_x2])"
   ]
  },
  {
   "cell_type": "code",
   "execution_count": 5,
   "metadata": {
    "collapsed": false,
    "deletable": true,
    "editable": true
   },
   "outputs": [
    {
     "name": "stdout",
     "output_type": "stream",
     "text": [
      "INFO:tensorflow:Restoring parameters from models/Attack-sentence-embedding-6/final\n"
     ]
    }
   ],
   "source": [
    "saver = tf.train.Saver()\n",
    "sess = tf.Session()\n",
    "saver.restore(sess, 'models/Attack-sentence-embedding-6/final')"
   ]
  },
  {
   "cell_type": "markdown",
   "metadata": {
    "deletable": true,
    "editable": true
   },
   "source": [
    "#### Generate sample answer by $\\sigma(c^TMr)$"
   ]
  },
  {
   "cell_type": "code",
   "execution_count": null,
   "metadata": {
    "collapsed": false,
    "deletable": true,
    "editable": true
   },
   "outputs": [],
   "source": [
    "probs = sess.run(tf_prob, {\n",
    "    x1: np.repeat(sample_id1, 6, axis=0),\n",
    "    x2: sample_id2.reshape(-1, eval_max_seq_len),\n",
    "})\n",
    "probs = probs.reshape(-1, 6)\n",
    "probs_ans = np.argmax(probs, axis=1)\n",
    "np.sum(probs_ans == sample_y)"
   ]
  },
  {
   "cell_type": "markdown",
   "metadata": {
    "deletable": true,
    "editable": true
   },
   "source": [
    "#### Generate sample answer by $cosine\\_similarity(c, Mr)$"
   ]
  },
  {
   "cell_type": "code",
   "execution_count": null,
   "metadata": {
    "collapsed": true,
    "deletable": true,
    "editable": true
   },
   "outputs": [],
   "source": [
    "def unitvec(vec):\n",
    "    l = np.linalg.norm(vec)\n",
    "    return vec / l if l != 0 else vec"
   ]
  },
  {
   "cell_type": "code",
   "execution_count": null,
   "metadata": {
    "collapsed": true,
    "deletable": true,
    "editable": true
   },
   "outputs": [],
   "source": [
    "# Generate test answer\n",
    "my_r_vec = sess.run((x1_center @ W), {x1: sample_id1})\n",
    "opt_r_vec = sess.run(x2_center, {x2: sample_id2.reshape(-1, eval_max_seq_len)})\n",
    "opt_r_vec = opt_r_vec.reshape(-1, 6, opt_r_vec.shape[-1])"
   ]
  },
  {
   "cell_type": "code",
   "execution_count": null,
   "metadata": {
    "collapsed": false,
    "deletable": true,
    "editable": true
   },
   "outputs": [],
   "source": [
    "cossim_score = []\n",
    "for my_r, opt_rs in zip(my_r_vec, opt_r_vec):\n",
    "    cossim_score.extend([np.dot(unitvec(my_r), unitvec(opt_r)) for opt_r in opt_rs])\n",
    "cossim_score = np.array(cossim_score).reshape(-1, 6)\n",
    "cossim_ans = np.argmax(cossim_score, axis=1)\n",
    "np.sum(cossim_ans == sample_y)"
   ]
  },
  {
   "cell_type": "markdown",
   "metadata": {
    "deletable": true,
    "editable": true
   },
   "source": [
    "#### Generate test answer & Output"
   ]
  },
  {
   "cell_type": "code",
   "execution_count": null,
   "metadata": {
    "collapsed": true,
    "deletable": true,
    "editable": true
   },
   "outputs": [],
   "source": [
    "# Generate test answer\n",
    "probs = sess.run(tf_prob, {\n",
    "    x1: np.repeat(test_id1, 6, axis=0),\n",
    "    x2: test_id2.reshape(-1, eval_max_seq_len),\n",
    "})\n",
    "probs = probs.reshape(-1, 6)\n",
    "my_test_ans = np.argmax(probs, axis=1)"
   ]
  },
  {
   "cell_type": "code",
   "execution_count": null,
   "metadata": {
    "collapsed": true,
    "deletable": true,
    "editable": true
   },
   "outputs": [],
   "source": [
    "# with open('answer/attack-sentence-embedding-6.txt', 'w') as f:\n",
    "#     f.write('id,ans\\n')\n",
    "#     f.write('\\n'.join(['%d,%d' % (i+1, a) for i, a in enumerate(my_test_ans)]))\n",
    "#     f.write('\\n')"
   ]
  },
  {
   "cell_type": "code",
   "execution_count": null,
   "metadata": {
    "collapsed": true,
    "deletable": true,
    "editable": true
   },
   "outputs": [],
   "source": []
  }
 ],
 "metadata": {
  "kernelspec": {
   "display_name": "Python 3",
   "language": "python",
   "name": "python3"
  },
  "language_info": {
   "codemirror_mode": {
    "name": "ipython",
    "version": 3
   },
   "file_extension": ".py",
   "mimetype": "text/x-python",
   "name": "python",
   "nbconvert_exporter": "python",
   "pygments_lexer": "ipython3",
   "version": "3.6.0"
  }
 },
 "nbformat": 4,
 "nbformat_minor": 2
}
