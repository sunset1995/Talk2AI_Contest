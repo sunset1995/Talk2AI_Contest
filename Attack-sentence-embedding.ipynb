{
 "cells": [
  {
   "cell_type": "code",
   "execution_count": 1,
   "metadata": {
    "collapsed": true,
    "deletable": true,
    "editable": true
   },
   "outputs": [],
   "source": [
    "import numpy as np\n",
    "import tensorflow as tf\n",
    "from scipy import spatial\n",
    "from scipy import stats\n",
    "from gensim.models import word2vec\n",
    "\n",
    "# Import pandas\n",
    "import pandas as pd\n",
    "from pandas import Series, DataFrame\n",
    "\n",
    "# Import util\n",
    "import time\n",
    "import re\n",
    "import sys\n",
    "import gc\n",
    "\n",
    "# Self define module\n",
    "from mini_batch_helper import extractor\n",
    "from mini_batch_helper import MiniBatchCorpus"
   ]
  },
  {
   "cell_type": "markdown",
   "metadata": {
    "deletable": true,
    "editable": true
   },
   "source": [
    "### Loading corpus and forming dict"
   ]
  },
  {
   "cell_type": "code",
   "execution_count": 2,
   "metadata": {
    "collapsed": false,
    "deletable": true,
    "editable": true
   },
   "outputs": [],
   "source": [
    "word2vec_fname = 'models/word2vec/fine-tuned-2.txt'\n",
    "corpus_fnames = [\n",
    "    'datas/training_data/下課花路米.txt',\n",
    "    'datas/training_data/人生劇展.txt',\n",
    "    'datas/training_data/公視藝文大道.txt',\n",
    "    'datas/training_data/成語賽恩思.txt',\n",
    "    'datas/training_data/我的這一班.txt',\n",
    "    'datas/training_data/流言追追追.txt',\n",
    "    'datas/training_data/聽聽看.txt',\n",
    "    'datas/training_data/誰來晚餐.txt',\n",
    "]\n",
    "sample_rate_on_training_datas = 1\n",
    "extra_words = ['<pad>']\n",
    "unknown_word = None\n",
    "\n",
    "word2id, id2word, word_p, embedding_matrix, corpus, corpus_id = extractor(word2vec_fname, corpus_fnames, sample_rate_on_training_datas, extra_words, unknown_word)"
   ]
  },
  {
   "cell_type": "code",
   "execution_count": 3,
   "metadata": {
    "collapsed": false,
    "deletable": true,
    "editable": true
   },
   "outputs": [
    {
     "name": "stdout",
     "output_type": "stream",
     "text": [
      "            voc_size: 65865\n",
      "            emb_size: 200\n",
      "         pad_word_id: 65864\n",
      "         max_seq_len: 76\n",
      "train datas num: 5778570\n",
      "valid datas num: 16758\n"
     ]
    }
   ],
   "source": [
    "voc_size = embedding_matrix.shape[0]\n",
    "emb_size = embedding_matrix.shape[1]\n",
    "pad_word_id = word2id['<pad>']\n",
    "max_seq_len = np.max([len(s) for cp in corpus_id for s in cp])\n",
    "\n",
    "print('%20s: %d' % ('voc_size', voc_size))\n",
    "print('%20s: %d' % ('emb_size', emb_size))\n",
    "print('%20s: %d' % ('pad_word_id', pad_word_id))\n",
    "print('%20s: %d' % ('max_seq_len', max_seq_len))\n",
    "\n",
    "# Data split\n",
    "rnd_idx = np.arange(len(corpus_id))\n",
    "np.random.shuffle(rnd_idx)\n",
    "corpus_id = corpus_id[rnd_idx]\n",
    "valid_corpus_num = 10\n",
    "\n",
    "train_data_loader = MiniBatchCorpus(corpus_id[valid_corpus_num:])\n",
    "valid_data_loader = MiniBatchCorpus(corpus_id[:valid_corpus_num])\n",
    "print('train datas num:', train_data_loader.data_num)\n",
    "print('valid datas num:', valid_data_loader.data_num)"
   ]
  },
  {
   "cell_type": "markdown",
   "metadata": {
    "deletable": true,
    "editable": true
   },
   "source": [
    "### Define model"
   ]
  },
  {
   "cell_type": "code",
   "execution_count": 4,
   "metadata": {
    "collapsed": false,
    "deletable": true,
    "editable": true
   },
   "outputs": [],
   "source": [
    "# Word embedding model\n",
    "embeddings_W = tf.Variable(embedding_matrix)\n",
    "\n",
    "# Input\n",
    "x1 = tf.placeholder(tf.int32, [None, None])\n",
    "x2 = tf.placeholder(tf.int32, [None, None])\n",
    "y = tf.placeholder(tf.int32, [None])\n",
    "lr = tf.placeholder(tf.float64)\n",
    "\n",
    "# Sentence embedding\n",
    "x1_mask = tf.to_double(tf.not_equal(x1, pad_word_id))\n",
    "x2_mask = tf.to_double(tf.not_equal(x2, pad_word_id))\n",
    "x1_len = tf.reduce_sum(x1_mask, axis=1)\n",
    "x2_len = tf.reduce_sum(x2_mask, axis=1)\n",
    "x1_embedded = tf.gather(embeddings_W, x1) * tf.reshape(x1_mask, [-1, tf.shape(x1)[1], 1])\n",
    "x2_embedded = tf.gather(embeddings_W, x2) * tf.reshape(x2_mask, [-1, tf.shape(x2)[1], 1])\n",
    "x1_center = tf.reduce_sum(x1_embedded, axis=1) / tf.reshape(tf.to_double(x1_len)+1e-6, [-1, 1])\n",
    "x2_center = tf.reduce_sum(x2_embedded, axis=1) / tf.reshape(tf.to_double(x2_len)+1e-6, [-1, 1])\n",
    "\n",
    "W = tf.Variable(tf.truncated_normal([emb_size, emb_size], stddev=0.01, dtype=tf.float64))\n",
    "tf_score = tf.reduce_sum((x2_center * (x1_center @ W)), axis=1)\n",
    "\n",
    "tf_prob = tf.sigmoid(tf_score)\n",
    "tf_guess = tf.cast(tf.greater_equal(tf_prob, 0.5), tf.int32)\n",
    "tf_correct = tf.reduce_sum(tf.cast(tf.equal(y, tf_guess), tf.int32))"
   ]
  },
  {
   "cell_type": "code",
   "execution_count": null,
   "metadata": {
    "collapsed": false,
    "deletable": true,
    "editable": true
   },
   "outputs": [],
   "source": [
    "# # Export embedding layer for naive method to use\n",
    "# saver = tf.train.Saver()\n",
    "# sess = tf.Session()\n",
    "# saver.restore(sess, './models/Attack-sentence-5/bes')\n",
    "# now_emb_w = sess.run(embeddings_W)\n",
    "# with open('./models/word2vec/fine-tuned-3.txt', 'w') as f:\n",
    "#     assert(len(id2word) == now_emb_w.shape[0])\n",
    "#     f.write('%d %d\\n' % (voc_size, emb_size))\n",
    "#     for word, vec in zip(id2word, now_emb_w):\n",
    "#         f.write('%s %s\\n' % (word, ' '.join([str(f) for f in vec])))"
   ]
  },
  {
   "cell_type": "markdown",
   "metadata": {
    "deletable": true,
    "editable": true
   },
   "source": [
    "----------------------------------\n",
    "## Training"
   ]
  },
  {
   "cell_type": "code",
   "execution_count": 5,
   "metadata": {
    "collapsed": false,
    "deletable": true,
    "editable": true
   },
   "outputs": [],
   "source": [
    "reg = tf.nn.l2_loss(W) * 1e-2\n",
    "cost = tf.reduce_mean(tf.nn.sigmoid_cross_entropy_with_logits(labels=tf.cast(y, tf.float64), logits=tf_score))\n",
    "cost_reg = cost + reg\n",
    "optimizer = tf.train.AdamOptimizer(lr)\n",
    "gvs = optimizer.compute_gradients(cost_reg)\n",
    "capped_gvs = [(tf.clip_by_norm(grad, 20), var) for grad, var in gvs]\n",
    "train_step = optimizer.apply_gradients(capped_gvs)"
   ]
  },
  {
   "cell_type": "code",
   "execution_count": 6,
   "metadata": {
    "collapsed": true,
    "deletable": true,
    "editable": true
   },
   "outputs": [],
   "source": [
    "saver = tf.train.Saver()\n",
    "sess = tf.Session()\n",
    "sess.run(tf.global_variables_initializer())"
   ]
  },
  {
   "cell_type": "code",
   "execution_count": 7,
   "metadata": {
    "collapsed": true,
    "deletable": true,
    "editable": true
   },
   "outputs": [],
   "source": [
    "def eval_valid_loss():\n",
    "    valid_loss = 0\n",
    "    reg_loss = 0\n",
    "    valid_acc = 0\n",
    "    valid_batch = 2048\n",
    "    num = [0, 0]\n",
    "    correct = [0, 0]\n",
    "    batch_num = valid_data_loader.data_num // valid_batch\n",
    "    for i in range(batch_num):\n",
    "        b_x1, b_x2, b_y = valid_data_loader.next_batch(valid_batch, max_seq_len, pad_word_id)\n",
    "        now_loss, now_reg_loss, now_correct, now_guess = sess.run([cost, reg, tf_correct, tf_guess], {x1: b_x1, x2: b_x2, y: b_y})\n",
    "        assert(now_correct == np.sum(now_guess == b_y))\n",
    "        valid_loss += now_loss / batch_num\n",
    "        reg_loss += now_reg_loss / batch_num\n",
    "        valid_acc += now_correct / (batch_num * valid_batch)\n",
    "        num[0] += np.sum(b_y == 0)\n",
    "        num[1] += np.sum(b_y == 1)\n",
    "        correct[0] += np.sum((b_y == 0) & (now_guess == b_y))\n",
    "        correct[1] += np.sum((b_y == 1) & (now_guess == b_y))\n",
    "    recall_0 = correct[0] / num[0] if num[0] else 0\n",
    "    recall_1 = correct[1] / num[1] if num[1] else 0\n",
    "    return valid_loss, reg_loss, valid_acc, recall_0, recall_1"
   ]
  },
  {
   "cell_type": "code",
   "execution_count": 8,
   "metadata": {
    "collapsed": false,
    "deletable": true,
    "editable": true,
    "scrolled": true
   },
   "outputs": [
    {
     "name": "stdout",
     "output_type": "stream",
     "text": [
      "Start epoch 0\n",
      "train batch loss 0.873330 / valid loss 0.814698 / valid reg loss 0.015583 / valid acc 0.535461 / recall_0 0.510454 / recall_1 0.560390 / elapsed time 13\n",
      "model saved (best)\n",
      "train batch loss 0.806520 / valid loss 0.787793 / valid reg loss 0.015781 / valid acc 0.564514 / recall_0 0.510249 / recall_1 0.618832 / elapsed time 28\n",
      "model saved (best)\n",
      "train batch loss 0.848198 / valid loss 0.768746 / valid reg loss 0.015989 / valid acc 0.583740 / recall_0 0.504947 / recall_1 0.662437 / elapsed time 43\n",
      "model saved (best)\n",
      "train batch loss 0.850452 / valid loss 0.759443 / valid reg loss 0.016198 / valid acc 0.595581 / recall_0 0.501466 / recall_1 0.689558 / elapsed time 60\n",
      "model saved (best)\n",
      "train batch loss 0.761419 / valid loss 0.755913 / valid reg loss 0.016416 / valid acc 0.607361 / recall_0 0.504036 / recall_1 0.710283 / elapsed time 74\n",
      "model saved (best)\n",
      "train batch loss 0.763355 / valid loss 0.753617 / valid reg loss 0.016637 / valid acc 0.613098 / recall_0 0.503783 / recall_1 0.722466 / elapsed time 89\n",
      "model saved (best)\n",
      "train batch loss 0.694107 / valid loss 0.754494 / valid reg loss 0.016865 / valid acc 0.617798 / recall_0 0.500549 / recall_1 0.735018 / elapsed time 103\n",
      "model saved (best)\n",
      "train batch loss 0.706186 / valid loss 0.753760 / valid reg loss 0.017091 / valid acc 0.620728 / recall_0 0.500000 / recall_1 0.741455 / elapsed time 117\n",
      "model saved (best)\n",
      "train batch loss 0.792913 / valid loss 0.754816 / valid reg loss 0.017303 / valid acc 0.625854 / recall_0 0.503785 / recall_1 0.747864 / elapsed time 131\n",
      "model saved (best)\n",
      "train batch loss 0.692286 / valid loss 0.755110 / valid reg loss 0.017511 / valid acc 0.628601 / recall_0 0.504638 / recall_1 0.752625 / elapsed time 146\n",
      "model saved (best)\n",
      "train batch loss 0.790339 / valid loss 0.754449 / valid reg loss 0.017703 / valid acc 0.631165 / recall_0 0.506298 / recall_1 0.755575 / elapsed time 163\n",
      "model saved (best)\n",
      "train batch loss 0.797110 / valid loss 0.755061 / valid reg loss 0.017885 / valid acc 0.631714 / recall_0 0.507324 / recall_1 0.756104 / elapsed time 179\n",
      "model saved (best)\n",
      "train batch loss 0.780188 / valid loss 0.754439 / valid reg loss 0.018058 / valid acc 0.632812 / recall_0 0.506341 / recall_1 0.759531 / elapsed time 194\n",
      "model saved (best)\n",
      "train batch loss 0.661005 / valid loss 0.755386 / valid reg loss 0.018230 / valid acc 0.634766 / recall_0 0.507987 / recall_1 0.761823 / elapsed time 211\n",
      "model saved (best)\n",
      "train batch loss 0.723628 / valid loss 0.755956 / valid reg loss 0.018396 / valid acc 0.636719 / recall_0 0.509280 / recall_1 0.764096 / elapsed time 227\n",
      "model saved (best)\n",
      "train batch loss 0.701514 / valid loss 0.756953 / valid reg loss 0.018555 / valid acc 0.636353 / recall_0 0.509195 / recall_1 0.764101 / elapsed time 243\n",
      "Decay learing rate ->   0.000990\n"
     ]
    },
    {
     "name": "stderr",
     "output_type": "stream",
     "text": [
      "ERROR:root:Internal Python error in the inspect module.\n",
      "Below is the traceback from this internal error.\n",
      "\n"
     ]
    },
    {
     "name": "stdout",
     "output_type": "stream",
     "text": [
      "Traceback (most recent call last):\n",
      "  File \"/usr/local/lib/python3.6/site-packages/IPython/core/interactiveshell.py\", line 2881, in run_code\n",
      "    exec(code_obj, self.user_global_ns, self.user_ns)\n",
      "  File \"<ipython-input-8-4dde1d2282be>\", line 22, in <module>\n",
      "    valid_loss, reg_loss, valid_acc, recall_0, recall_1 = eval_valid_loss()\n",
      "  File \"<ipython-input-7-66059b4743df>\", line 11, in eval_valid_loss\n",
      "    now_loss, now_reg_loss, now_correct, now_guess = sess.run([cost, reg, tf_correct, tf_guess], {x1: b_x1, x2: b_x2, y: b_y})\n",
      "  File \"/usr/local/lib/python3.6/site-packages/tensorflow/python/client/session.py\", line 789, in run\n",
      "    run_metadata_ptr)\n",
      "  File \"/usr/local/lib/python3.6/site-packages/tensorflow/python/client/session.py\", line 997, in _run\n",
      "    feed_dict_string, options, run_metadata)\n",
      "  File \"/usr/local/lib/python3.6/site-packages/tensorflow/python/client/session.py\", line 1132, in _do_run\n",
      "    target_list, options, run_metadata)\n",
      "  File \"/usr/local/lib/python3.6/site-packages/tensorflow/python/client/session.py\", line 1139, in _do_call\n",
      "    return fn(*args)\n",
      "  File \"/usr/local/lib/python3.6/site-packages/tensorflow/python/client/session.py\", line 1121, in _run_fn\n",
      "    status, run_metadata)\n",
      "KeyboardInterrupt\n",
      "\n",
      "During handling of the above exception, another exception occurred:\n",
      "\n",
      "Traceback (most recent call last):\n",
      "  File \"/usr/local/lib/python3.6/site-packages/IPython/core/interactiveshell.py\", line 1821, in showtraceback\n",
      "    stb = value._render_traceback_()\n",
      "AttributeError: 'KeyboardInterrupt' object has no attribute '_render_traceback_'\n",
      "\n",
      "During handling of the above exception, another exception occurred:\n",
      "\n",
      "Traceback (most recent call last):\n",
      "  File \"/usr/local/lib/python3.6/site-packages/IPython/core/ultratb.py\", line 1132, in get_records\n",
      "    return _fixed_getinnerframes(etb, number_of_lines_of_context, tb_offset)\n",
      "  File \"/usr/local/lib/python3.6/site-packages/IPython/core/ultratb.py\", line 313, in wrapped\n",
      "    return f(*args, **kwargs)\n",
      "  File \"/usr/local/lib/python3.6/site-packages/IPython/core/ultratb.py\", line 358, in _fixed_getinnerframes\n",
      "    records = fix_frame_records_filenames(inspect.getinnerframes(etb, context))\n",
      "  File \"/usr/local/Cellar/python3/3.6.0/Frameworks/Python.framework/Versions/3.6/lib/python3.6/inspect.py\", line 1454, in getinnerframes\n",
      "    frameinfo = (tb.tb_frame,) + getframeinfo(tb, context)\n",
      "  File \"/usr/local/Cellar/python3/3.6.0/Frameworks/Python.framework/Versions/3.6/lib/python3.6/inspect.py\", line 1411, in getframeinfo\n",
      "    filename = getsourcefile(frame) or getfile(frame)\n",
      "  File \"/usr/local/Cellar/python3/3.6.0/Frameworks/Python.framework/Versions/3.6/lib/python3.6/inspect.py\", line 666, in getsourcefile\n",
      "    if getattr(getmodule(object, filename), '__loader__', None) is not None:\n",
      "  File \"/usr/local/Cellar/python3/3.6.0/Frameworks/Python.framework/Versions/3.6/lib/python3.6/inspect.py\", line 712, in getmodule\n",
      "    os.path.realpath(f)] = module.__name__\n",
      "  File \"/usr/local/Cellar/python3/3.6.0/Frameworks/Python.framework/Versions/3.6/lib/python3.6/posixpath.py\", line 386, in realpath\n",
      "    path, ok = _joinrealpath(filename[:0], filename, {})\n",
      "  File \"/usr/local/Cellar/python3/3.6.0/Frameworks/Python.framework/Versions/3.6/lib/python3.6/posixpath.py\", line 420, in _joinrealpath\n",
      "    if not islink(newpath):\n",
      "  File \"/usr/local/Cellar/python3/3.6.0/Frameworks/Python.framework/Versions/3.6/lib/python3.6/posixpath.py\", line 169, in islink\n",
      "    st = os.lstat(path)\n",
      "KeyboardInterrupt\n"
     ]
    },
    {
     "ename": "KeyboardInterrupt",
     "evalue": "",
     "output_type": "error",
     "traceback": [
      "\u001b[0;31m---------------------------------------------------------------------------\u001b[0m"
     ]
    }
   ],
   "source": [
    "learning_rate = 1e-3\n",
    "batch_size = 256\n",
    "epoch_num = 40\n",
    "log_interval = 1\n",
    "save_interval = 10000\n",
    "\n",
    "last_epoch = None\n",
    "train_batch_loss = 0\n",
    "start_time = time.time()\n",
    "best_acc = None\n",
    "for i_batch in range(epoch_num * train_data_loader.data_num // batch_size):\n",
    "    epoch = i_batch // (train_data_loader.data_num // batch_size)\n",
    "    if last_epoch is None or last_epoch != epoch:\n",
    "        last_epoch = epoch\n",
    "        print('Start epoch %d' % (epoch))\n",
    "\n",
    "    epoch = i_batch // (train_data_loader.data_num // batch_size)\n",
    "    b_x1, b_x2, b_y = train_data_loader.next_batch(batch_size, max_seq_len, pad_word_id)\n",
    "    _, now_loss = sess.run([train_step, cost], {x1: b_x1, x2: b_x2, y: b_y, lr: learning_rate})\n",
    "    train_batch_loss += now_loss / log_interval\n",
    "    if (i_batch+1) % log_interval == 0:\n",
    "        valid_loss, reg_loss, valid_acc, recall_0, recall_1 = eval_valid_loss()\n",
    "        print('train batch loss %8f / valid loss %8f / valid reg loss %8f / valid acc %8f / recall_0 %8f / recall_1 %8f / elapsed time %.f' % (\n",
    "            train_batch_loss, valid_loss, reg_loss, valid_acc, recall_0, recall_1, time.time()-start_time), flush=True)\n",
    "        train_batch_loss = 0\n",
    "        if best_acc is None or best_acc < valid_acc:\n",
    "            best_acc = valid_acc\n",
    "            print('model saved (best)', flush=True)\n",
    "            saver.save(sess, 'models/Attack-sentence-embedding-6/best')\n",
    "        else:\n",
    "            learning_rate /= 1.01\n",
    "            print('Decay learing rate -> %10f' % (learning_rate))\n",
    "    if save_interval is not None and (i_batch+1) % save_interval == 0:\n",
    "        saver.save(sess, 'models/Attack-sentence-embedding-6/latest')\n",
    "        print('model saved (latest)', flush=True)\n",
    "\n",
    "saver.save(sess, 'models/Attack-sentence-embedding-6/final')"
   ]
  },
  {
   "cell_type": "markdown",
   "metadata": {
    "collapsed": true,
    "deletable": true,
    "editable": true
   },
   "source": [
    "------------------------------\n",
    "## Evaluating"
   ]
  },
  {
   "cell_type": "code",
   "execution_count": null,
   "metadata": {
    "collapsed": true,
    "deletable": true,
    "editable": true
   },
   "outputs": [],
   "source": [
    "eval_max_seq_len = 100"
   ]
  },
  {
   "cell_type": "code",
   "execution_count": null,
   "metadata": {
    "collapsed": false,
    "deletable": true,
    "editable": true
   },
   "outputs": [],
   "source": [
    "import jieba\n",
    "jieba.set_dictionary('datas/dict/dict.txt.big')\n",
    "jieba.load_userdict('datas/dict/edu_dict.txt')"
   ]
  },
  {
   "cell_type": "code",
   "execution_count": null,
   "metadata": {
    "collapsed": true,
    "deletable": true,
    "editable": true
   },
   "outputs": [],
   "source": [
    "sample = pd.read_csv('datas/sample_test_data.txt')\n",
    "\n",
    "sample_x1 = [[s for s in re.sub('[A-Z]:', '\\t', _).split('\\t') if len(s.strip())] for _ in sample.dialogue.values]\n",
    "sample_x2 = [[s for s in re.sub('[A-Z]:', '\\t', _).split('\\t') if len(s.strip())] for _ in sample.options.values]\n",
    "sample_y = sample.answer.values\n",
    "assert(np.sum([len(_)!=6 for _ in sample_x2]) == 0)\n",
    "\n",
    "sample_x1 = [[word for word in jieba.cut(' '.join(s)) if word != ' '] for s in sample_x1]\n",
    "sample_x2 = [[[word for word in jieba.cut(r) if word != ' '] for r in rs] for rs in sample_x2]\n",
    "\n",
    "test_datas = pd.read_csv('datas/AIFirstProblem.txt')\n",
    "\n",
    "test_x1 = [[s for s in re.sub('[A-Z]:', '\\t', _).split('\\t') if len(s.strip())] for _ in test_datas.dialogue.values]\n",
    "test_x2 = [[s for s in re.sub('[A-Z]:', '\\t', _).split('\\t') if len(s.strip())] for _ in test_datas.options.values]\n",
    "assert(np.sum([len(_)!=6 for _ in test_x2]) == 0)\n",
    "\n",
    "test_x1 = [[word for word in jieba.cut(' '.join(s)) if word != ' '] for s in test_x1]\n",
    "test_x2 = [[[word for word in jieba.cut(r) if word != ' '] for r in rs] for rs in test_x2]"
   ]
  },
  {
   "cell_type": "code",
   "execution_count": null,
   "metadata": {
    "collapsed": true,
    "deletable": true,
    "editable": true
   },
   "outputs": [],
   "source": [
    "def word_lst_2_id_lst(lst):\n",
    "    return [word2id[lst[i]] if i<len(lst) and lst[i] in word2id else pad_word_id for i in range(eval_max_seq_len)]"
   ]
  },
  {
   "cell_type": "code",
   "execution_count": null,
   "metadata": {
    "collapsed": true,
    "deletable": true,
    "editable": true
   },
   "outputs": [],
   "source": [
    "sample_id1 = np.array([word_lst_2_id_lst(s) for s in sample_x1])\n",
    "sample_id2 = np.array([[word_lst_2_id_lst(r) for r in rs] for rs in sample_x2])\n",
    "test_id1 = np.array([word_lst_2_id_lst(s) for s in test_x1])\n",
    "test_id2 = np.array([[word_lst_2_id_lst(r) for r in rs] for rs in test_x2])"
   ]
  },
  {
   "cell_type": "code",
   "execution_count": null,
   "metadata": {
    "collapsed": false
   },
   "outputs": [],
   "source": [
    "embedding_matrix.shape[0] * embedding_matrix.shape[1]"
   ]
  },
  {
   "cell_type": "code",
   "execution_count": null,
   "metadata": {
    "collapsed": false
   },
   "outputs": [],
   "source": [
    "sess.run(embeddings_W).shape"
   ]
  },
  {
   "cell_type": "code",
   "execution_count": null,
   "metadata": {
    "collapsed": false
   },
   "outputs": [],
   "source": [
    "np.sum(np.abs(embedding_matrix - sess.run(embeddings_W)) < 1e-9)"
   ]
  },
  {
   "cell_type": "code",
   "execution_count": null,
   "metadata": {
    "collapsed": false,
    "deletable": true,
    "editable": true
   },
   "outputs": [],
   "source": [
    "saver = tf.train.Saver()\n",
    "sess = tf.Session()\n",
    "saver.restore(sess, 'models/Attack-sentence-embedding-1/final')"
   ]
  },
  {
   "cell_type": "markdown",
   "metadata": {
    "deletable": true,
    "editable": true
   },
   "source": [
    "#### Generate sample answer by $\\sigma(c^TMr)$"
   ]
  },
  {
   "cell_type": "code",
   "execution_count": null,
   "metadata": {
    "collapsed": false,
    "deletable": true,
    "editable": true
   },
   "outputs": [],
   "source": [
    "probs = sess.run(tf_prob, {\n",
    "    x1: np.repeat(sample_id1, 6, axis=0),\n",
    "    x2: sample_id2.reshape(-1, eval_max_seq_len),\n",
    "})\n",
    "probs = probs.reshape(-1, 6)\n",
    "probs_ans = np.argmax(probs, axis=1)\n",
    "np.sum(probs_ans == sample_y)"
   ]
  },
  {
   "cell_type": "markdown",
   "metadata": {
    "deletable": true,
    "editable": true
   },
   "source": [
    "#### Generate sample answer by $cosine\\_similarity(c, Mr)$"
   ]
  },
  {
   "cell_type": "code",
   "execution_count": null,
   "metadata": {
    "collapsed": true,
    "deletable": true,
    "editable": true
   },
   "outputs": [],
   "source": [
    "def unitvec(vec):\n",
    "    l = np.linalg.norm(vec)\n",
    "    return vec / l if l != 0 else vec"
   ]
  },
  {
   "cell_type": "code",
   "execution_count": null,
   "metadata": {
    "collapsed": true,
    "deletable": true,
    "editable": true
   },
   "outputs": [],
   "source": [
    "# Generate test answer\n",
    "my_r_vec = sess.run((x1_center @ W), {x1: sample_id1})\n",
    "opt_r_vec = sess.run(x2_center, {x2: sample_id2.reshape(-1, eval_max_seq_len)})\n",
    "opt_r_vec = opt_r_vec.reshape(-1, 6, opt_r_vec.shape[-1])"
   ]
  },
  {
   "cell_type": "code",
   "execution_count": null,
   "metadata": {
    "collapsed": false,
    "deletable": true,
    "editable": true
   },
   "outputs": [],
   "source": [
    "cossim_score = []\n",
    "for my_r, opt_rs in zip(my_r_vec, opt_r_vec):\n",
    "    cossim_score.extend([np.dot(unitvec(my_r), unitvec(opt_r)) for opt_r in opt_rs])\n",
    "cossim_score = np.array(cossim_score).reshape(-1, 6)\n",
    "cossim_ans = np.argmax(cossim_score, axis=1)\n",
    "np.sum(cossim_ans == sample_y)"
   ]
  },
  {
   "cell_type": "markdown",
   "metadata": {
    "deletable": true,
    "editable": true
   },
   "source": [
    "#### Generate test answer & Output"
   ]
  },
  {
   "cell_type": "code",
   "execution_count": null,
   "metadata": {
    "collapsed": true,
    "deletable": true,
    "editable": true
   },
   "outputs": [],
   "source": [
    "# Generate test answer\n",
    "probs = sess.run(tf_prob, {\n",
    "    x1: np.repeat(test_id1, 6, axis=0),\n",
    "    x2: test_id2.reshape(-1, eval_max_seq_len),\n",
    "})\n",
    "probs = probs.reshape(-1, 6)\n",
    "my_test_ans = np.argmax(probs, axis=1)"
   ]
  },
  {
   "cell_type": "code",
   "execution_count": null,
   "metadata": {
    "collapsed": true,
    "deletable": true,
    "editable": true
   },
   "outputs": [],
   "source": [
    "# with open('answer/attack-sentence-embedding-5.txt', 'w') as f:\n",
    "#     f.write('id,ans\\n')\n",
    "#     f.write('\\n'.join(['%d,%d' % (i+1, a) for i, a in enumerate(my_test_ans)]))\n",
    "#     f.write('\\n')"
   ]
  },
  {
   "cell_type": "code",
   "execution_count": null,
   "metadata": {
    "collapsed": true,
    "deletable": true,
    "editable": true
   },
   "outputs": [],
   "source": []
  }
 ],
 "metadata": {
  "kernelspec": {
   "display_name": "Python 3",
   "language": "python",
   "name": "python3"
  },
  "language_info": {
   "codemirror_mode": {
    "name": "ipython",
    "version": 3
   },
   "file_extension": ".py",
   "mimetype": "text/x-python",
   "name": "python",
   "nbconvert_exporter": "python",
   "pygments_lexer": "ipython3",
   "version": "3.6.0"
  }
 },
 "nbformat": 4,
 "nbformat_minor": 2
}
