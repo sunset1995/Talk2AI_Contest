{
 "cells": [
  {
   "cell_type": "code",
   "execution_count": null,
   "metadata": {},
   "outputs": [],
   "source": [
    "import numpy as np\n",
    "import tensorflow as tf\n",
    "from scipy import spatial\n",
    "from scipy import stats\n",
    "from gensim.models import word2vec\n",
    "\n",
    "# Import pandas\n",
    "import pandas as pd\n",
    "from pandas import Series, DataFrame\n",
    "\n",
    "# Import util\n",
    "import time\n",
    "import re\n",
    "import sys\n",
    "import gc\n",
    "\n",
    "# Self define module\n",
    "from mini_batch_helper import extractor\n",
    "from mini_batch_helper import MiniBatchCorpus"
   ]
  },
  {
   "cell_type": "markdown",
   "metadata": {},
   "source": [
    "### Loading corpus and forming dict"
   ]
  },
  {
   "cell_type": "code",
   "execution_count": null,
   "metadata": {
    "collapsed": true
   },
   "outputs": [],
   "source": [
    "word2vec_fname = 'models/word2vec_no_tc_offitial_200.model.bin'\n",
    "corpus_fnames = [\n",
    "    'datas/training_data/no_TC_下課花路米.txt',\n",
    "    'datas/training_data/no_TC_人生劇展.txt',\n",
    "    'datas/training_data/no_TC_公視藝文大道.txt',\n",
    "    'datas/training_data/no_TC_成語賽恩思.txt',\n",
    "    'datas/training_data/no_TC_我的這一班.txt',\n",
    "    'datas/training_data/no_TC_流言追追追.txt',\n",
    "    'datas/training_data/no_TC_聽聽看.txt',\n",
    "    'datas/training_data/no_TC_誰來晚餐.txt',\n",
    "]\n",
    "extra_words = ['<pad>']\n",
    "unknown_word = '<pad>'\n",
    "\n",
    "word2id, id2word, word_p, embedding_matrix, corpus, corpus_id = extractor(word2vec_fname, corpus_fnames, extra_words, unknown_word)"
   ]
  },
  {
   "cell_type": "code",
   "execution_count": null,
   "metadata": {},
   "outputs": [],
   "source": [
    "# Statistic sentence length\n",
    "Series([len(s) for cp in corpus_id for s in cp]).describe()"
   ]
  },
  {
   "cell_type": "code",
   "execution_count": null,
   "metadata": {},
   "outputs": [],
   "source": [
    "voc_size = embedding_matrix.shape[0]\n",
    "emb_size = embedding_matrix.shape[1]\n",
    "unknown_word_id = word2id['<pad>']\n",
    "pad_word_id = word2id['<pad>']\n",
    "max_seq_len = np.max([len(s) for cp in corpus_id for s in cp])\n",
    "\n",
    "print('%20s: %d' % ('unknown_word_id', unknown_word_id))\n",
    "print('%20s: %d' % ('pad_word_id', pad_word_id))\n",
    "print('%20s: %d' % ('max_seq_len', max_seq_len))"
   ]
  },
  {
   "cell_type": "code",
   "execution_count": null,
   "metadata": {},
   "outputs": [],
   "source": [
    "# Data split\n",
    "rnd_idx = np.arange(len(corpus_id))\n",
    "np.random.shuffle(rnd_idx)\n",
    "corpus_id = corpus_id[rnd_idx[:len(corpus_id)//2]]\n",
    "valid_corpus_num = 10\n",
    "\n",
    "train_data_loader = MiniBatchCorpus(corpus_id[valid_corpus_num:])\n",
    "valid_data_loader = MiniBatchCorpus(corpus_id[:valid_corpus_num])\n",
    "print('train datas num:', train_data_loader.data_num)\n",
    "print('valid datas num:', valid_data_loader.data_num)"
   ]
  },
  {
   "cell_type": "markdown",
   "metadata": {},
   "source": [
    "### Define model"
   ]
  },
  {
   "cell_type": "code",
   "execution_count": null,
   "metadata": {},
   "outputs": [],
   "source": [
    "# Word embedding model\n",
    "tf_word_p = tf.constant(word_p, dtype=tf.float64)\n",
    "embeddings_W = tf.Variable(embedding_matrix)\n",
    "del(embedding_matrix)\n",
    "gc.collect()"
   ]
  },
  {
   "cell_type": "code",
   "execution_count": null,
   "metadata": {
    "collapsed": true
   },
   "outputs": [],
   "source": [
    "# Input\n",
    "wa = tf.placeholder(tf.float64, [1])\n",
    "x1 = tf.placeholder(tf.int32, [None, max_seq_len])\n",
    "x2 = tf.placeholder(tf.int32, [None, max_seq_len])\n",
    "y = tf.placeholder(tf.float64, [None])"
   ]
  },
  {
   "cell_type": "code",
   "execution_count": null,
   "metadata": {
    "collapsed": true
   },
   "outputs": [],
   "source": [
    "def sentence_embedding(xs):\n",
    "    xs_mask = 1 - tf.to_double(tf.equal(xs, pad_word_id))\n",
    "    xs_len = tf.reduce_sum(xs_mask, axis=1)\n",
    "    xs_embedded = tf.gather(embeddings_W, xs) * tf.reshape(xs_mask, [-1, max_seq_len, 1])\n",
    "    xs_word_p = tf.gather(tf_word_p, xs)\n",
    "    xs_weighted = tf.reshape(wa / (wa + xs_word_p), [-1, max_seq_len, 1]) * xs_embedded\n",
    "    xs_center = tf.reduce_sum(xs_weighted, axis=1) / tf.reshape(tf.to_double(xs_len)+1e-6, [-1, 1])\n",
    "    return xs_center"
   ]
  },
  {
   "cell_type": "code",
   "execution_count": null,
   "metadata": {
    "collapsed": true
   },
   "outputs": [],
   "source": [
    "x1_center = sentence_embedding(x1)\n",
    "x2_center = sentence_embedding(x2)\n",
    "W = tf.Variable(tf.truncated_normal([emb_size, emb_size], stddev=1e-6, dtype=tf.float64))\n",
    "tf_score = tf.reduce_sum((x2_center * (x1_center @ W)), axis=1)"
   ]
  },
  {
   "cell_type": "markdown",
   "metadata": {},
   "source": [
    "----------------------------------\n",
    "## Training"
   ]
  },
  {
   "cell_type": "code",
   "execution_count": null,
   "metadata": {
    "collapsed": true
   },
   "outputs": [],
   "source": [
    "cost = tf.reduce_sum(tf.nn.sigmoid_cross_entropy_with_logits(labels=y, logits=tf_score))\n",
    "optimizer = tf.train.AdamOptimizer(1e-3)\n",
    "gvs = optimizer.compute_gradients(cost)\n",
    "capped_gvs = [(tf.clip_by_norm(grad, 0.2), var) for grad, var in gvs]\n",
    "train_step = optimizer.apply_gradients(capped_gvs)"
   ]
  },
  {
   "cell_type": "code",
   "execution_count": null,
   "metadata": {
    "collapsed": true
   },
   "outputs": [],
   "source": [
    "saver = tf.train.Saver()\n",
    "sess = tf.Session()\n",
    "sess.run(tf.global_variables_initializer())"
   ]
  },
  {
   "cell_type": "code",
   "execution_count": null,
   "metadata": {
    "collapsed": true
   },
   "outputs": [],
   "source": [
    "def eval_valid_loss():\n",
    "    valid_loss = 0\n",
    "    valid_batch = 1024\n",
    "    batch_num = valid_data_loader.data_num // valid_batch\n",
    "    for i in range(batch_num):\n",
    "        b_x1, b_x2, b_y = valid_data_loader.next_batch(valid_batch, max_seq_len, pad_word_id)\n",
    "        now_loss = sess.run(cost, {wa: [1e-4], x1: b_x1, x2: b_x2, y: b_y})\n",
    "        valid_loss += now_loss / (batch_num * valid_batch)\n",
    "    return valid_loss"
   ]
  },
  {
   "cell_type": "code",
   "execution_count": null,
   "metadata": {
    "scrolled": true
   },
   "outputs": [],
   "source": [
    "batch_size = 256\n",
    "epoch_num = 2\n",
    "log_interval = 200\n",
    "save_interval = 1000\n",
    "\n",
    "train_batch_loss = 0\n",
    "start_time = time.time()\n",
    "for i_batch in range(epoch_num * train_data_loader.data_num // batch_size):\n",
    "    b_x1, b_x2, b_y = train_data_loader.next_batch(batch_size, max_seq_len, pad_word_id)\n",
    "    _, now_loss = sess.run([train_step, cost], {wa: [1e-4], x1: b_x1, x2: b_x2, y: b_y})\n",
    "    train_batch_loss += now_loss / (log_interval * batch_size)\n",
    "    if (i_batch+1) % log_interval == 0:\n",
    "        valid_loss = eval_valid_loss()\n",
    "        print('train batch loss %10f / valid loss %10f / elapsed time %.f' % (\n",
    "            train_batch_loss, valid_loss, time.time()-start_time), flush=True)\n",
    "        train_batch_loss = 0\n",
    "    if save_interval is not None and (i_batch+1) % save_interval == 0:\n",
    "        saver.save(sess, 'models/Attack-sentence-embedding/s_emb', global_step=i_batch+1)\n",
    "        print('model saved (latest)', flush=True)\n",
    "\n",
    "saver.save(sess, 'models/Attack-sentence-embedding/s_emb_final')"
   ]
  },
  {
   "cell_type": "markdown",
   "metadata": {
    "collapsed": true
   },
   "source": [
    "------------------------------\n",
    "## Evaluating"
   ]
  },
  {
   "cell_type": "code",
   "execution_count": null,
   "metadata": {},
   "outputs": [],
   "source": [
    "import jieba\n",
    "jieba.set_dictionary('datas/dict/dict.txt.big')\n",
    "jieba.load_userdict('datas/dict/edu_dict.txt')"
   ]
  },
  {
   "cell_type": "code",
   "execution_count": null,
   "metadata": {
    "collapsed": true
   },
   "outputs": [],
   "source": [
    "sample = pd.read_csv('datas/sample_test_data.txt')\n",
    "\n",
    "sample_x1 = [[s for s in re.sub('[A-Z]:', '\\t', _).split('\\t') if len(s.strip())] for _ in sample.dialogue.values]\n",
    "sample_x2 = [[s for s in re.sub('[A-Z]:', '\\t', _).split('\\t') if len(s.strip())] for _ in sample.options.values]\n",
    "sample_y = sample.answer.values\n",
    "assert(np.sum([len(_)!=6 for _ in sample_x2]) == 0)\n",
    "\n",
    "sample_x1 = [[word for word in jieba.cut(' '.join(s)) if word != ' '] for s in sample_x1]\n",
    "sample_x2 = [[[word for word in jieba.cut(r) if word != ' '] for r in rs] for rs in sample_x2]"
   ]
  },
  {
   "cell_type": "code",
   "execution_count": null,
   "metadata": {
    "collapsed": true
   },
   "outputs": [],
   "source": [
    "test_datas = pd.read_csv('datas/AIFirstProblem.txt')\n",
    "\n",
    "test_x1 = [[s for s in re.sub('[A-Z]:', '\\t', _).split('\\t') if len(s.strip())] for _ in test_datas.dialogue.values]\n",
    "test_x2 = [[s for s in re.sub('[A-Z]:', '\\t', _).split('\\t') if len(s.strip())] for _ in test_datas.options.values]\n",
    "assert(np.sum([len(_)!=6 for _ in test_x2]) == 0)\n",
    "\n",
    "test_x1 = [[word for word in jieba.cut(' '.join(s)) if word != ' '] for s in test_x1]\n",
    "test_x2 = [[[word for word in jieba.cut(r) if word != ' '] for r in rs] for rs in test_x2]"
   ]
  },
  {
   "cell_type": "code",
   "execution_count": null,
   "metadata": {
    "collapsed": true
   },
   "outputs": [],
   "source": [
    "def word_lst_2_id_lst(lst):\n",
    "    return [word2id[lst[i]] if i<len(lst) and lst[i] in word2id else pad_word_id for i in range(max_seq_len)]"
   ]
  },
  {
   "cell_type": "code",
   "execution_count": null,
   "metadata": {
    "collapsed": true
   },
   "outputs": [],
   "source": [
    "sample_id1 = np.array([word_lst_2_id_lst(s) for s in sample_x1])\n",
    "sample_id2 = np.array([[word_lst_2_id_lst(r) for r in rs] for rs in sample_x2])\n",
    "test_id1 = np.array([word_lst_2_id_lst(s) for s in test_x1])\n",
    "test_id2 = np.array([[word_lst_2_id_lst(r) for r in rs] for rs in test_x2])"
   ]
  },
  {
   "cell_type": "code",
   "execution_count": null,
   "metadata": {
    "collapsed": true
   },
   "outputs": [],
   "source": [
    "def eval_ans(lst_id1, lst_id2):\n",
    "    score = sess.run(tf_score, {\n",
    "        wa: [1e-4],\n",
    "        x1: np.repeat(lst_id1, 6, axis=0),\n",
    "        x2: lst_id2.reshape(-1, max_seq_len)})\n",
    "    score = score.reshape(-1, 6)\n",
    "    return np.argmax(score, axis=1)"
   ]
  },
  {
   "cell_type": "code",
   "execution_count": null,
   "metadata": {
    "collapsed": true
   },
   "outputs": [],
   "source": [
    "def eval_on_sample():\n",
    "    my_ans = eval_ans(sample_id1, sample_id2)\n",
    "    return np.sum(my_ans == sample_y)"
   ]
  },
  {
   "cell_type": "code",
   "execution_count": null,
   "metadata": {},
   "outputs": [],
   "source": [
    "saver = tf.train.Saver()\n",
    "sess = tf.Session()\n",
    "saver.restore(sess, 'models/Attack-sentence-embedding/s_emb-24000')"
   ]
  },
  {
   "cell_type": "code",
   "execution_count": null,
   "metadata": {},
   "outputs": [],
   "source": [
    "sample_correct = eval_on_sample()\n",
    "my_sample_ans = eval_ans(sample_id1, sample_id2)\n",
    "my_test_ans = eval_ans(test_id1, test_id2)\n",
    "print('sample correct %4d' % (sample_correct))"
   ]
  },
  {
   "cell_type": "code",
   "execution_count": null,
   "metadata": {
    "collapsed": true
   },
   "outputs": [],
   "source": [
    "# with open('answer/attack-sentence-embedding.txt', 'w') as f:\n",
    "#     f.write('id,ans\\n')\n",
    "#     f.write('\\n'.join(['%d,%d' % (i+1, a) for i, a in enumerate(selected_test_ans)]))\n",
    "#     f.write('\\n')"
   ]
  },
  {
   "cell_type": "code",
   "execution_count": null,
   "metadata": {
    "collapsed": true
   },
   "outputs": [],
   "source": []
  },
  {
   "cell_type": "code",
   "execution_count": null,
   "metadata": {
    "collapsed": true
   },
   "outputs": [],
   "source": []
  },
  {
   "cell_type": "code",
   "execution_count": null,
   "metadata": {
    "collapsed": true
   },
   "outputs": [],
   "source": []
  }
 ],
 "metadata": {
  "kernelspec": {
   "display_name": "Python 3",
   "language": "python",
   "name": "python3"
  },
  "language_info": {
   "codemirror_mode": {
    "name": "ipython",
    "version": 3
   },
   "file_extension": ".py",
   "mimetype": "text/x-python",
   "name": "python",
   "nbconvert_exporter": "python",
   "pygments_lexer": "ipython3",
   "version": "3.5.2"
  }
 },
 "nbformat": 4,
 "nbformat_minor": 2
}
