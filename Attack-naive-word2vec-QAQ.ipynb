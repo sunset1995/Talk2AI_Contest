{
 "cells": [
  {
   "cell_type": "markdown",
   "metadata": {
    "deletable": true,
    "editable": true
   },
   "source": [
    "# naive word2vec"
   ]
  },
  {
   "cell_type": "code",
   "execution_count": 1,
   "metadata": {
    "collapsed": false,
    "deletable": true,
    "editable": true
   },
   "outputs": [
    {
     "name": "stderr",
     "output_type": "stream",
     "text": [
      "Building prefix dict from /Users/sunset/Talk2AI_Contest/datas/dict/dict.txt.big ...\n",
      "Loading model from cache /var/folders/43/l4vp_w_x4wb11mmy_bb1jrkc0000gn/T/jieba.u857f67a870683287981bc6f5b9493ffc.cache\n",
      "Loading model cost 1.848 seconds.\n",
      "Prefix dict has been built succesfully.\n"
     ]
    }
   ],
   "source": [
    "from gensim.models.keyedvectors import KeyedVectors\n",
    "import numpy as np\n",
    "from scipy import spatial\n",
    "from scipy import stats\n",
    "\n",
    "# Import & Init jieba\n",
    "import jieba\n",
    "jieba.set_dictionary('datas/dict/dict.txt.big')\n",
    "jieba.load_userdict('datas/dict/edu_dict.txt')\n",
    "\n",
    "# Import pandas\n",
    "import pandas as pd\n",
    "from pandas import Series, DataFrame\n",
    "\n",
    "# Import util\n",
    "import time\n",
    "import re"
   ]
  },
  {
   "cell_type": "markdown",
   "metadata": {
    "deletable": true,
    "editable": true
   },
   "source": [
    "### Load datasets"
   ]
  },
  {
   "cell_type": "code",
   "execution_count": 2,
   "metadata": {
    "collapsed": false,
    "deletable": true,
    "editable": true,
    "scrolled": true
   },
   "outputs": [],
   "source": [
    "sample = pd.read_csv('datas/sample_test_data.txt')\n",
    "x1 = [[s for s in re.sub('[A-Z]:', '\\t', _).split('\\t') if len(s.strip())] for _ in sample.dialogue.values]\n",
    "x2 = [[s for s in re.sub('[A-Z]:', '\\t', _).split('\\t') if len(s.strip())] for _ in sample.options.values]\n",
    "y = sample.answer.values\n",
    "assert(np.sum([len(_)!=6 for _ in x2]) == 0)\n",
    "\n",
    "test_datas = pd.read_csv('datas/AIFirstProblem.txt')\n",
    "test_x1 = [[s for s in re.sub('[A-Z]:', '\\t', _).split('\\t') if len(s.strip())] for _ in test_datas.dialogue.values]\n",
    "test_x2 = [[s for s in re.sub('[A-Z]:', '\\t', _).split('\\t') if len(s.strip())] for _ in test_datas.options.values]\n",
    "assert(np.sum([len(_)!=6 for _ in test_x2]) == 0)"
   ]
  },
  {
   "cell_type": "markdown",
   "metadata": {
    "deletable": true,
    "editable": true
   },
   "source": [
    "### word2vec model"
   ]
  },
  {
   "cell_type": "code",
   "execution_count": 58,
   "metadata": {
    "collapsed": false,
    "deletable": true,
    "editable": true,
    "scrolled": true
   },
   "outputs": [
    {
     "data": {
      "text/plain": [
       "65865"
      ]
     },
     "execution_count": 58,
     "metadata": {},
     "output_type": "execute_result"
    }
   ],
   "source": [
    "word_vectors = KeyedVectors.load_word2vec_format('models/word2vec/dual-lstm-12-newest.txt', binary=False)\n",
    "len(word_vectors.vocab)\n",
    "# word_vectors = KeyedVectors.load_word2vec_format('models/word2vec/vec200_win40_iter15_mincnt1.bin', binary=True)\n",
    "# len(word_vectors.vocab)"
   ]
  },
  {
   "cell_type": "code",
   "execution_count": 37,
   "metadata": {
    "collapsed": false,
    "deletable": true,
    "editable": true
   },
   "outputs": [
    {
     "data": {
      "text/plain": [
       "64"
      ]
     },
     "execution_count": 37,
     "metadata": {},
     "output_type": "execute_result"
    }
   ],
   "source": [
    "unk_cnt = 0\n",
    "for a, b in zip(x1, x2):\n",
    "    a_sentence = [word for s in a for word in jieba.cut(s) if word.strip() != '']\n",
    "    b_sentences = [[word for word in jieba.cut(s) if word.strip() != ''] for s in b]\n",
    "    \n",
    "    unk_cnt += len([w for w in a_sentence if w not in word_vectors.vocab])\n",
    "    unk_cnt += len([w for s in b_sentences for w in s if w not in word_vectors.vocab])\n",
    "unk_cnt"
   ]
  },
  {
   "cell_type": "code",
   "execution_count": 38,
   "metadata": {
    "collapsed": true,
    "deletable": true,
    "editable": true
   },
   "outputs": [],
   "source": [
    "def la_score(x1, x2):\n",
    "    lascore = []\n",
    "    for a, b in zip(x1, x2):\n",
    "        q = set()\n",
    "        for s in a:\n",
    "            for word in jieba.cut(s):\n",
    "                q.add(word)\n",
    "        for r in b:\n",
    "            lascore.append(0)\n",
    "            for word in jieba.cut(r):\n",
    "                if word in q:\n",
    "                    lascore[-1] += 1\n",
    "    return np.array(lascore).reshape(-1, 6)"
   ]
  },
  {
   "cell_type": "markdown",
   "metadata": {
    "collapsed": true,
    "deletable": true,
    "editable": true
   },
   "source": [
    "### Naive trial - centroid"
   ]
  },
  {
   "cell_type": "code",
   "execution_count": 39,
   "metadata": {
    "collapsed": true,
    "deletable": true,
    "editable": true
   },
   "outputs": [],
   "source": [
    "def unitvec(vec):\n",
    "    l = np.linalg.norm(vec)\n",
    "    return vec / l if l != 0 else vec"
   ]
  },
  {
   "cell_type": "code",
   "execution_count": 40,
   "metadata": {
    "collapsed": true,
    "deletable": true,
    "editable": true
   },
   "outputs": [],
   "source": [
    "def centroid(sentence):\n",
    "    _ = [word_vectors.word_vec(word) for word in sentence if word in word_vectors.vocab]\n",
    "    return np.mean(_, axis=0) if len(_) > 0 else np.zeros(word_vectors.vector_size)"
   ]
  },
  {
   "cell_type": "code",
   "execution_count": 41,
   "metadata": {
    "collapsed": true,
    "deletable": true,
    "editable": true
   },
   "outputs": [],
   "source": [
    "def centroid_score(x1, x2):\n",
    "    cos_score = []\n",
    "    dot_score = []\n",
    "    for a, b in zip(x1, x2):\n",
    "        a_sentence = [word for s in a for word in jieba.cut(s) if word.strip() != '']\n",
    "        b_sentences = [[word for word in jieba.cut(s) if word.strip() != ''] for s in b]\n",
    "\n",
    "        a_center = centroid(a_sentence)\n",
    "        b_centers = [centroid(s) for s in b_sentences]\n",
    "\n",
    "        cos_score.append([np.dot(unitvec(a_center), unitvec(bc)) for bc in b_centers])\n",
    "        dot_score.append([np.dot(a_center, bc) for bc in b_centers])\n",
    "    return np.array(cos_score).reshape(-1, 6), np.array(dot_score).reshape(-1, 6)"
   ]
  },
  {
   "cell_type": "code",
   "execution_count": 42,
   "metadata": {
    "collapsed": true,
    "deletable": true,
    "editable": true
   },
   "outputs": [],
   "source": [
    "def attack_naive_centroid(x1, x2):\n",
    "    my_cos_ans, my_dot_ans = centroid_score(x1, x2)\n",
    "    return np.argmax(my_cos_ans, axis=1), np.argmax(my_dot_ans, axis=1)"
   ]
  },
  {
   "cell_type": "code",
   "execution_count": 43,
   "metadata": {
    "collapsed": false,
    "deletable": true,
    "editable": true
   },
   "outputs": [
    {
     "name": "stdout",
     "output_type": "stream",
     "text": [
      "      centroid (cos):  33 /  50\n",
      "      centroid (dot):  30 /  50\n"
     ]
    }
   ],
   "source": [
    "cos_ans, dot_ans = attack_naive_centroid(x1, x2)\n",
    "\n",
    "correct = np.sum(cos_ans == y)\n",
    "print('%20s: %3d / %3d' % ('centroid (cos)', correct, len(y)))\n",
    "\n",
    "correct = np.sum(dot_ans == y)\n",
    "print('%20s: %3d / %3d' % ('centroid (dot)', correct, len(y)))"
   ]
  },
  {
   "cell_type": "code",
   "execution_count": null,
   "metadata": {
    "collapsed": true,
    "deletable": true,
    "editable": true
   },
   "outputs": [],
   "source": []
  },
  {
   "cell_type": "code",
   "execution_count": 44,
   "metadata": {
    "collapsed": true,
    "deletable": true,
    "editable": true
   },
   "outputs": [],
   "source": [
    "def wvdis_score(x1, x2):\n",
    "    wvdis = []\n",
    "    for a, b in zip(x1, x2):\n",
    "        a_sentence = [word for s in a for word in jieba.cut(s) if word.strip() != '']\n",
    "        b_sentences = [[word for word in jieba.cut(s) if word.strip() != ''] for s in b]\n",
    "\n",
    "        wvdis.append([])\n",
    "        for r in b_sentences:\n",
    "            wvdis[-1].append(word_vectors.wmdistance(a_sentence, r))\n",
    "    wvdis = np.array(wvdis).reshape(-1, 6)\n",
    "    return np.array(wvdis).reshape(-1, 6)"
   ]
  },
  {
   "cell_type": "code",
   "execution_count": 45,
   "metadata": {
    "collapsed": false,
    "deletable": true,
    "editable": true
   },
   "outputs": [
    {
     "name": "stdout",
     "output_type": "stream",
     "text": [
      "             wvm dis:  24 /  50\n"
     ]
    }
   ],
   "source": [
    "wvdis = wvdis_score(x1, x2)\n",
    "wvdis_ans = np.argmin(wvdis, axis=1)\n",
    "correct = np.sum(wvdis_ans == y)\n",
    "print('%20s: %3d / %3d' % ('wvm dis', correct, len(y)))"
   ]
  },
  {
   "cell_type": "code",
   "execution_count": null,
   "metadata": {
    "collapsed": true,
    "deletable": true,
    "editable": true
   },
   "outputs": [],
   "source": []
  },
  {
   "cell_type": "code",
   "execution_count": 46,
   "metadata": {
    "collapsed": false,
    "deletable": true,
    "editable": true
   },
   "outputs": [
    {
     "data": {
      "text/plain": [
       "33"
      ]
     },
     "execution_count": 46,
     "metadata": {},
     "output_type": "execute_result"
    }
   ],
   "source": [
    "def my_method(x1, x2):\n",
    "    return centroid_score(x1, x2)[0] + 0.2 * la_score(x1, x2)\n",
    "\n",
    "my_score = my_method(x1, x2)\n",
    "np.sum(np.argmax(my_score, axis=1) == y)"
   ]
  },
  {
   "cell_type": "markdown",
   "metadata": {
    "deletable": true,
    "editable": true
   },
   "source": [
    "### Try bagging"
   ]
  },
  {
   "cell_type": "code",
   "execution_count": null,
   "metadata": {
    "collapsed": true,
    "deletable": true,
    "editable": true
   },
   "outputs": [],
   "source": [
    "sample_ans_bag = []\n",
    "test_ans_bag = []"
   ]
  },
  {
   "cell_type": "code",
   "execution_count": null,
   "metadata": {
    "collapsed": true,
    "deletable": true,
    "editable": true
   },
   "outputs": [],
   "source": [
    "m_txt = [\n",
    "    'models/word2vec/fine-tuned.txt',\n",
    "    'models/word2vec/fine-tuned-2.txt',\n",
    "    'models/word2vec/fine-tuned-3.txt',\n",
    "    'models/word2vec/fine-tuned-5.txt',\n",
    "    'models/word2vec/vec200_win40_iter15_mincnt1.txt',\n",
    "    'models/word2vec/word2vec-dual-lstm-8.txt',\n",
    "]\n",
    "\n",
    "m_bin = [\n",
    "    'models/word2vec/vec200_win100_iter15_mincnt5.bin',\n",
    "    'models/word2vec/vec200_win10_iter15_mincnt5.bin',\n",
    "    'models/word2vec/vec200_win15_iter15_mincnt5.bin',\n",
    "    'models/word2vec/vec200_win15_iter15_mincnt7.bin',\n",
    "    'models/word2vec/vec200_win15_iter50_mincnt5.bin',\n",
    "    'models/word2vec/vec200_win20_iter15_mincnt5.bin',\n",
    "    'models/word2vec/vec200_win30_iter15_mincnt5.bin',\n",
    "    'models/word2vec/vec200_win40_iter15_mincnt5.bin',\n",
    "    'models/word2vec/vec200_win60_iter15_mincnt5.bin',\n",
    "    'models/word2vec/vec512_win15_iter15_mincnt5.bin',\n",
    "    'models/word2vec/vec512_win40_iter15_mincnt5.bin',\n",
    "]"
   ]
  },
  {
   "cell_type": "code",
   "execution_count": null,
   "metadata": {
    "collapsed": false,
    "deletable": true,
    "editable": true
   },
   "outputs": [],
   "source": [
    "for fname in m_txt:\n",
    "    print(fname)\n",
    "    word_vectors = KeyedVectors.load_word2vec_format(fname, binary=False)\n",
    "    cos_ans, dot_ans = attack_naive_centroid(x1, x2)\n",
    "    if np.sum(cos_ans == y) < 30:\n",
    "        continue\n",
    "\n",
    "    my_test_ans, _ = attack_naive_centroid(test_x1, test_x2)\n",
    "    sample_ans_bag.append(cos_ans)\n",
    "    test_ans_bag.append(my_test_ans)\n",
    "\n",
    "for fname in m_txt:\n",
    "    print(fname)\n",
    "    word_vectors = KeyedVectors.load_word2vec_format(fname, binary=True)\n",
    "    cos_ans, dot_ans = attack_naive_centroid(x1, x2)\n",
    "    if np.sum(cos_ans == y) < 30:\n",
    "        continue\n",
    "\n",
    "    my_test_ans, _ = attack_naive_centroid(test_x1, test_x2)\n",
    "    sample_ans_bag.append(cos_ans)\n",
    "    test_ans_bag.append(my_test_ans)"
   ]
  },
  {
   "cell_type": "code",
   "execution_count": null,
   "metadata": {
    "collapsed": true,
    "deletable": true,
    "editable": true
   },
   "outputs": [],
   "source": [
    "sample_ans_bag = np.array(sample_ans_bag)\n",
    "test_ans_bag = np.array(test_ans_bag)"
   ]
  },
  {
   "cell_type": "code",
   "execution_count": null,
   "metadata": {
    "collapsed": false,
    "deletable": true,
    "editable": true
   },
   "outputs": [],
   "source": [
    "sample_bag_mode = stats.mode(sample_ans_bag).mode[0]\n",
    "np.sum(sample_bag_mode == y)"
   ]
  },
  {
   "cell_type": "markdown",
   "metadata": {
    "collapsed": true,
    "deletable": true,
    "editable": true
   },
   "source": [
    "## Output answer on testing datas"
   ]
  },
  {
   "cell_type": "code",
   "execution_count": 59,
   "metadata": {
    "collapsed": false,
    "deletable": true,
    "editable": true
   },
   "outputs": [],
   "source": [
    "my_test_ans, _ = attack_naive_centroid(test_x1, test_x2)\n",
    "# my_test_ans = np.argmax(my_method(test_x1, test_x2), axis=1)\n",
    "# my_test_ans = stats.mode(test_ans_bag).mode[0]\n",
    "# my_test_ans.shape"
   ]
  },
  {
   "cell_type": "code",
   "execution_count": 60,
   "metadata": {
    "collapsed": false,
    "deletable": true,
    "editable": true
   },
   "outputs": [],
   "source": [
    "# with open('answer/dual-lstm-newest.txt', 'w') as fo:\n",
    "#     fo.write('id,ans\\n')\n",
    "#     fo.write('\\n'.join(['%d,%s' % (i+1, ans) for i, ans in enumerate(my_test_ans)]))\n",
    "#     fo.write('\\n')"
   ]
  },
  {
   "cell_type": "code",
   "execution_count": 61,
   "metadata": {
    "collapsed": false,
    "deletable": true,
    "editable": true
   },
   "outputs": [
    {
     "data": {
      "text/plain": [
       "array([0, 0, 3, 2, 1, 4, 0, 1, 1, 4, 3, 2, 4, 0, 5, 1, 3, 4, 3, 0, 0, 2, 3,\n",
       "       1, 3, 1, 4, 5, 4, 1, 3, 2, 5, 4, 4, 0, 5, 4, 1, 1, 1, 4, 3, 0, 2, 5,\n",
       "       4, 2, 0, 3, 3, 3, 5, 0, 1, 1, 5, 0, 5, 4, 0, 2, 4, 0, 5, 4, 0, 2, 0,\n",
       "       3, 0, 5, 0, 1, 0, 0, 0, 4, 1, 5, 0, 2, 2, 3, 3, 0, 5, 1, 0, 0, 5, 1,\n",
       "       2, 5, 3, 1, 4, 5, 3, 0, 3, 2, 0, 0, 0, 2, 1, 2, 2, 5, 4, 1, 4, 0, 5,\n",
       "       3, 1, 0, 3, 4, 2, 2, 3, 2, 0, 4, 3, 5, 3, 3, 1, 1, 2, 2, 3, 0, 0, 1,\n",
       "       3, 5, 3, 4, 4, 0, 3, 4, 0, 4, 1, 2, 1, 0, 5, 0, 1, 1, 0, 0, 5, 2, 2,\n",
       "       4, 1, 5, 5, 3, 0, 0, 5, 3, 1, 1, 4, 2, 0, 0, 3, 4, 2, 5, 1, 5, 2, 1,\n",
       "       2, 4, 3, 3, 0, 4, 3, 2, 1, 5, 1, 5, 3, 4, 2, 2, 3, 4, 4, 0, 5, 1, 3,\n",
       "       0, 1, 5, 3, 1, 3, 1, 3, 0, 1, 0, 5, 3, 3, 1, 1, 3, 2, 2, 5, 2, 5, 1,\n",
       "       0, 5, 0, 0, 3, 4, 3, 5, 5, 0, 4, 5, 4, 0, 1, 5, 5, 3, 1, 5, 3, 2, 4,\n",
       "       3, 4, 5, 2, 3, 1, 4, 1, 0, 1, 1, 4, 3, 3, 4, 4, 1, 0, 2, 1, 0, 1, 2,\n",
       "       3, 2, 4, 2, 3, 3, 2, 4, 3, 2, 0, 4, 3, 0, 2, 5, 2, 1, 1, 3, 4, 4, 0,\n",
       "       0, 0, 5, 0, 0, 4, 5, 5, 2, 0, 3, 3, 5, 5, 5, 5, 5, 0, 1, 3, 0, 3, 5,\n",
       "       1, 1, 3, 1, 1, 5, 0, 5, 4, 2, 1, 1, 5, 0, 0, 3, 2, 5, 3, 5, 1, 3, 0,\n",
       "       5, 4, 3, 0, 0, 5, 3, 1, 2, 2, 2, 0, 5, 4, 0, 3, 1, 1, 5, 5, 1, 4, 0,\n",
       "       2, 3, 0, 5, 4, 4, 1, 2, 3, 0, 1, 4, 3, 0, 0, 3, 3, 0, 5, 4, 2, 3, 2,\n",
       "       4, 5, 1, 5, 4, 0, 1, 2, 3, 5, 4, 2, 1, 3, 2, 3, 1, 1, 1, 0, 5, 2, 5,\n",
       "       3, 5, 3, 0, 1, 0, 1, 1, 3, 5, 2, 4, 2, 2, 2, 4, 5, 1, 2, 2, 0, 4, 5,\n",
       "       4, 4, 5, 3, 2, 0, 4, 1, 3, 3, 2, 0, 4, 4, 5, 5, 5, 0, 2, 2, 4, 4, 1,\n",
       "       3, 3, 4, 2, 4, 2, 1, 0, 1, 3, 0, 0, 4, 5, 3, 2, 5, 0, 1, 2, 4, 1, 5,\n",
       "       5, 3, 2, 5, 2, 2, 4, 3, 3, 3, 5, 4, 5, 4, 0, 2, 4])"
      ]
     },
     "execution_count": 61,
     "metadata": {},
     "output_type": "execute_result"
    }
   ],
   "source": [
    "my_test_ans"
   ]
  },
  {
   "cell_type": "code",
   "execution_count": null,
   "metadata": {
    "collapsed": true,
    "deletable": true,
    "editable": true
   },
   "outputs": [],
   "source": []
  },
  {
   "cell_type": "code",
   "execution_count": null,
   "metadata": {
    "collapsed": true,
    "deletable": true,
    "editable": true
   },
   "outputs": [],
   "source": []
  },
  {
   "cell_type": "code",
   "execution_count": null,
   "metadata": {
    "collapsed": true,
    "deletable": true,
    "editable": true
   },
   "outputs": [],
   "source": []
  }
 ],
 "metadata": {
  "kernelspec": {
   "display_name": "Python 3",
   "language": "python",
   "name": "python3"
  },
  "language_info": {
   "codemirror_mode": {
    "name": "ipython",
    "version": 3
   },
   "file_extension": ".py",
   "mimetype": "text/x-python",
   "name": "python",
   "nbconvert_exporter": "python",
   "pygments_lexer": "ipython3",
   "version": "3.6.0"
  }
 },
 "nbformat": 4,
 "nbformat_minor": 2
}
