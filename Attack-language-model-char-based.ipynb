{
 "cells": [
  {
   "cell_type": "code",
   "execution_count": 1,
   "metadata": {
    "collapsed": false,
    "deletable": true,
    "editable": true
   },
   "outputs": [],
   "source": [
    "import numpy as np\n",
    "from scipy import spatial\n",
    "import tensorflow as tf\n",
    "import pandas as pd\n",
    "\n",
    "# Import util\n",
    "import time\n",
    "import re\n",
    "import sys\n",
    "import gc\n",
    "\n",
    "# Self define module\n",
    "from mini_batch_helper import rnn_minibatch_sequencer"
   ]
  },
  {
   "cell_type": "markdown",
   "metadata": {
    "deletable": true,
    "editable": true
   },
   "source": [
    "## Loading corpus and forming dict"
   ]
  },
  {
   "cell_type": "code",
   "execution_count": null,
   "metadata": {
    "collapsed": false,
    "deletable": true,
    "editable": true
   },
   "outputs": [],
   "source": [
    "corpus_fnames = [\n",
    "    'datas/training_data/no_TC_下課花路米.txt',\n",
    "    'datas/training_data/no_TC_誰來晚餐.txt',\n",
    "    'datas/training_data/no_TC_公視藝文大道.txt',\n",
    "    'datas/training_data/no_TC_成語賽恩思.txt',\n",
    "    'datas/training_data/no_TC_我的這一班.txt',\n",
    "    'datas/training_data/no_TC_流言追追追.txt',\n",
    "    'datas/training_data/no_TC_人生劇展.txt',\n",
    "    'datas/training_data/no_TC_聽聽看.txt',\n",
    "]\n",
    "sample_rate_on_training_datas = 1\n",
    "valid_cp_num_of_each = 1\n",
    "\n",
    "def word_tok_lst_2_ch_lst(s):\n",
    "    return ['<bos>'] + [ch.strip() for word in s for ch in word if ch.strip() != ''] + ['<eos>']\n",
    "\n",
    "def corpus_flatten(now_corpus):\n",
    "    return [ch for line in now_corpus for s in line.strip().split('\\t') for ch in word_tok_lst_2_ch_lst(s)]\n",
    "\n",
    "corpus = []\n",
    "corpus_valid = []\n",
    "for fname in corpus_fnames:\n",
    "    with open(fname, 'r') as f:\n",
    "        now_corpus = np.array([line for line in f])\n",
    "        now_corpus_valid = now_corpus[:valid_cp_num_of_each]\n",
    "        now_corpus = now_corpus[valid_cp_num_of_each:]\n",
    "        if sample_rate_on_training_datas < 1:\n",
    "            sample_num = int(max(len(now_corpus)*sample_rate_on_training_datas, 5))\n",
    "            rnd_idx = np.arange(len(now_corpus))\n",
    "            np.random.shuffle(rnd_idx)\n",
    "            now_corpus = now_corpus[rnd_idx[:sample_num]]\n",
    "        \n",
    "        corpus.extend(corpus_flatten(now_corpus))\n",
    "        corpus_valid.extend(corpus_flatten(now_corpus_valid))\n",
    "\n",
    "# id2ch = list(set(corpus + corpus_valid))\n",
    "# ch2id = dict([(ch, i) for i, ch in enumerate(id2ch)])\n",
    "# with open('datas/dict/id2ch.txt', 'w') as f:\n",
    "#     f.write(' '.join([ch for ch in id2ch]))\n",
    "#     f.write('\\n')\n",
    "with open('datas/dict/id2ch.txt') as f:\n",
    "    id2ch = f.read().strip().split()\n",
    "ch2id = dict([(ch, i) for i, ch in enumerate(id2ch)])\n",
    "traintext = np.array([ch2id[ch] for ch in corpus])\n",
    "validtext = np.array([ch2id[ch] for ch in corpus_valid])\n",
    "validtext_num = len(validtext)\n",
    "del(corpus)\n",
    "del(corpus_valid)\n",
    "\n",
    "print('%20s: %s' % ('traintext length', len(traintext)))\n",
    "print('%20s: %s' % ('validtext length', len(validtext)))\n",
    "print('%20s: %s' % ('vocab size', len(id2ch)))"
   ]
  },
  {
   "cell_type": "code",
   "execution_count": 3,
   "metadata": {
    "collapsed": true
   },
   "outputs": [],
   "source": [
    "with open('datas/dict/id2ch.txt') as f:\n",
    "    id2ch = f.read().strip().split()\n",
    "ch2id = dict([(ch, i) for i, ch in enumerate(id2ch)])"
   ]
  },
  {
   "cell_type": "code",
   "execution_count": 4,
   "metadata": {
    "collapsed": false,
    "deletable": true,
    "editable": true
   },
   "outputs": [
    {
     "name": "stdout",
     "output_type": "stream",
     "text": [
      "              SEQLEN: 35\n",
      "           BATCHSIZE: 256\n",
      "            EPOCHNUM: 40\n",
      "           ALPHASIZE: 5756\n",
      "        INTERNALSIZE: 200\n",
      "             NLAYERS: 2\n",
      "       LEARNING_RATE: 0.001\n",
      "      LEARNING_DECAY: 4\n",
      "       DROPOUT_PKEEP: 0.8\n",
      "         LOGINTERVAL: 50\n",
      "        SAVEINTERVAL: 1000\n",
      "                CLIP: 0.25\n"
     ]
    }
   ],
   "source": [
    "SEQLEN = 35\n",
    "BATCHSIZE = 256\n",
    "EPOCHNUM = 40\n",
    "ALPHASIZE = len(id2ch)\n",
    "INTERNALSIZE = 200\n",
    "EMBEDDINGSIZE = 200      # Must be that EmbeddingSize == INTERNALSIZE\n",
    "NLAYERS = 2\n",
    "LEARNING_RATE = 1e-3\n",
    "LEARNING_DECAY = 4\n",
    "DROPOUT_PKEEP = 0.8\n",
    "LOGINTERVAL = 50\n",
    "SAVEINTERVAL= 1000\n",
    "CLIP = 0.25\n",
    "\n",
    "print('%20s: %s' % ('SEQLEN', SEQLEN))\n",
    "print('%20s: %s' % ('BATCHSIZE', BATCHSIZE))\n",
    "print('%20s: %s' % ('EPOCHNUM', EPOCHNUM))\n",
    "print('%20s: %s' % ('ALPHASIZE', ALPHASIZE))\n",
    "print('%20s: %s' % ('INTERNALSIZE', INTERNALSIZE))\n",
    "print('%20s: %s' % ('NLAYERS', NLAYERS))\n",
    "print('%20s: %s' % ('LEARNING_RATE', LEARNING_RATE))\n",
    "print('%20s: %s' % ('LEARNING_DECAY', LEARNING_DECAY))\n",
    "print('%20s: %s' % ('DROPOUT_PKEEP', DROPOUT_PKEEP))\n",
    "print('%20s: %s' % ('LOGINTERVAL', LOGINTERVAL))\n",
    "print('%20s: %s' % ('SAVEINTERVAL', SAVEINTERVAL))\n",
    "print('%20s: %s' % ('CLIP', CLIP))"
   ]
  },
  {
   "cell_type": "markdown",
   "metadata": {
    "deletable": true,
    "editable": true
   },
   "source": [
    "-----------------------------\n",
    "## Define model\n",
    "Modified from [here](https://github.com/martin-gorner/tensorflow-rnn-shakespeare/blob/master/rnn_train.py)"
   ]
  },
  {
   "cell_type": "code",
   "execution_count": 5,
   "metadata": {
    "collapsed": true,
    "deletable": true,
    "editable": true
   },
   "outputs": [],
   "source": [
    "# inputs\n",
    "X = tf.placeholder(tf.int32, [None, None])    # [ BATCHSIZE, SEQLEN ]\n",
    "Y_ = tf.placeholder(tf.int32, [None, None])   # [ BATCHSIZE, SEQLEN ]\n",
    "Yo_ = tf.one_hot(Y_, ALPHASIZE, 1.0, 0.0)     # [ BATCHSIZE, SEQLEN, ALPHASIZE ]\n",
    "\n",
    "# inputs info\n",
    "lr = tf.placeholder(tf.float32)\n",
    "pkeep = tf.placeholder(tf.float32)\n",
    "batchsize = tf.placeholder(tf.int32)\n",
    "\n",
    "# embedding layer\n",
    "embeddings_w = tf.Variable(\n",
    "    np.random.uniform(-6/EMBEDDINGSIZE, 6/EMBEDDINGSIZE, [ALPHASIZE, EMBEDDINGSIZE]).astype(np.float32)\n",
    ")\n",
    "\n",
    "# input state\n",
    "Xemb = tf.gather(embeddings_w, X)                               # [ BATCHSIZE, SEQLEN, EMBEDDINGSIZE ]\n",
    "Hin = tf.placeholder(tf.float32, [None, INTERNALSIZE*NLAYERS])  # [ BATCHSIZE, INTERNALSIZE * NLAYERS]\n",
    "\n",
    "cells = [tf.contrib.rnn.GRUCell(INTERNALSIZE) for _ in range(NLAYERS)]\n",
    "dropcells = [tf.contrib.rnn.DropoutWrapper(cell, input_keep_prob=pkeep) for cell in cells]\n",
    "multicell = tf.contrib.rnn.MultiRNNCell(dropcells, state_is_tuple=False)\n",
    "multicell = tf.contrib.rnn.DropoutWrapper(multicell, output_keep_prob=pkeep)\n",
    "\n",
    "# Yr: [ BATCHSIZE, SEQLEN, INTERNALSIZE ]\n",
    "# H:  [ BATCHSIZE, INTERNALSIZE*NLAYERS ] (last state in the sequence)\n",
    "Yr, H = tf.nn.dynamic_rnn(multicell, Xemb, dtype=tf.float32, initial_state=Hin)\n",
    "\n",
    "Yflat = tf.reshape(Yr, [-1, INTERNALSIZE])               # [ BATCHSIZE x SEQLEN, INTERNALSIZE ]\n",
    "Yflat = Yflat @ tf.transpose(embeddings_w)               # [ BATCHSIZE x SEQLEN, ALPHASIZE ]\n",
    "Yflat_ = tf.reshape(Yo_, [-1, ALPHASIZE])                # [ BATCHSIZE x SEQLEN, ALPHASIZE ]\n",
    "loss = tf.nn.softmax_cross_entropy_with_logits(logits=Yflat, labels=Yflat_)  # [ BATCHSIZE x SEQLEN ]\n",
    "loss = tf.reshape(loss, [batchsize, -1])      # [ BATCHSIZE, SEQLEN ]\n",
    "\n",
    "# Gradient clipping\n",
    "optimizer = tf.train.AdamOptimizer(lr)\n",
    "gvs = optimizer.compute_gradients(loss)\n",
    "capped_gvs = [(tf.clip_by_norm(grad, CLIP), var) for grad, var in gvs]\n",
    "train_step = optimizer.apply_gradients(capped_gvs)"
   ]
  },
  {
   "cell_type": "markdown",
   "metadata": {
    "deletable": true,
    "editable": true
   },
   "source": [
    "----------------------------------\n",
    "## Training"
   ]
  },
  {
   "cell_type": "code",
   "execution_count": null,
   "metadata": {
    "collapsed": true,
    "deletable": true,
    "editable": true
   },
   "outputs": [],
   "source": [
    "saver = tf.train.Saver()\n",
    "sess = tf.Session()\n",
    "sess.run(tf.global_variables_initializer())"
   ]
  },
  {
   "cell_type": "code",
   "execution_count": 6,
   "metadata": {
    "collapsed": true,
    "deletable": true,
    "editable": true
   },
   "outputs": [],
   "source": [
    "def eval_valid_loss():\n",
    "    valid_seq_len = 2000\n",
    "    istate = np.zeros([1, INTERNALSIZE*NLAYERS])\n",
    "    valid_loss = []\n",
    "    for i in range(0, validtext_num, valid_seq_len):\n",
    "        nowtext = validtext[i:i+valid_seq_len]\n",
    "        if len(nowtext) == 1:\n",
    "            continue\n",
    "        now_x = [nowtext[:-1]]\n",
    "        now_y = [nowtext[1:]]\n",
    "        now_loss, istate = sess.run([loss, H], {\n",
    "            X: now_x,\n",
    "            Y_: now_y,\n",
    "            Hin: istate,\n",
    "            pkeep: 1,\n",
    "            batchsize: 1,\n",
    "        })\n",
    "        valid_loss.append((np.mean(now_loss), len(now_loss)))\n",
    "    valid_loss = np.array(valid_loss)\n",
    "    return np.sum(valid_loss[:, 0] * valid_loss[:, 1]) / np.sum(valid_loss[:, 1])"
   ]
  },
  {
   "cell_type": "code",
   "execution_count": 7,
   "metadata": {
    "collapsed": true,
    "deletable": true,
    "editable": true
   },
   "outputs": [],
   "source": [
    "def generate_text(pre_s, deterministic=True, max_output_len=35):\n",
    "    pre_s = ['<bos>'] + list(pre_s)\n",
    "    pre_id = [ch2id[w] for w in pre_s if w in ch2id]\n",
    "    istate = np.zeros([1, INTERNALSIZE*NLAYERS])  # initial zero input state\n",
    "    istate = sess.run(H, {X: [pre_id[:-1]], Hin: istate, pkeep: 1})\n",
    "    now_word_id = pre_id[-1]\n",
    "    output_lst = []\n",
    "    while now_word_id != ch2id['<eos>'] and len(output_lst) < max_output_len:\n",
    "        next_word_prob, istate = sess.run([Yflat, H], {X: [[now_word_id]], Hin: istate, pkeep: 1})\n",
    "        next_word_prob = next_word_prob.astype(np.float64)\n",
    "        next_word_prob = np.exp(next_word_prob[0]) / np.sum(np.exp(next_word_prob[0]))\n",
    "        if deterministic:\n",
    "            next_word_id = np.argmax(next_word_prob)\n",
    "        else:\n",
    "            next_word_id = np.argmax(np.random.multinomial(1, next_word_prob))\n",
    "        output_lst.append(id2ch[next_word_id])\n",
    "        now_word_id = next_word_id\n",
    "    return ''.join(output_lst)"
   ]
  },
  {
   "cell_type": "code",
   "execution_count": 8,
   "metadata": {
    "collapsed": true,
    "deletable": true,
    "editable": true
   },
   "outputs": [],
   "source": [
    "def run_validation(valid_text='你'):\n",
    "    print('%20s: %s' % ('Valid loss', eval_valid_loss()))\n",
    "    print('%20s -> %s' % (valid_text, generate_text(valid_text, deterministic=False)))"
   ]
  },
  {
   "cell_type": "code",
   "execution_count": null,
   "metadata": {
    "collapsed": false,
    "deletable": true,
    "editable": true,
    "scrolled": false
   },
   "outputs": [],
   "source": [
    "step= 0\n",
    "start_time = time.time()\n",
    "istate = np.zeros([BATCHSIZE, INTERNALSIZE*NLAYERS])  # initial zero input state\n",
    "batch_loss = 0\n",
    "\n",
    "last_epoch = None\n",
    "best_valid_loss = None\n",
    "for x, y_, epoch in rnn_minibatch_sequencer(traintext, BATCHSIZE, SEQLEN, EPOCHNUM):\n",
    "    if last_epoch is None or last_epoch != epoch:\n",
    "        last_epoch = epoch\n",
    "        now_valid_loss = eval_valid_loss()\n",
    "        print('Start epoch %d' % epoch)\n",
    "        print('Current validation loss %f' % now_valid_loss)\n",
    "        if best_valid_loss is None or now_valid_loss < best_valid_loss:\n",
    "            best_valid_loss = now_valid_loss\n",
    "        else:\n",
    "            LEARNING_RATE /= LEARNING_DECAY\n",
    "            print('No improvement in validation loss after epoch QwQ')\n",
    "        print('Learning rate: %f' % LEARNING_RATE, flush=True)\n",
    "    step += 1\n",
    "    _, now_loss, istate = sess.run([train_step, loss, H], {\n",
    "        X: x,\n",
    "        Y_: y_,\n",
    "        Hin: istate,\n",
    "        lr: LEARNING_RATE,\n",
    "        pkeep: DROPOUT_PKEEP,\n",
    "        batchsize: BATCHSIZE,\n",
    "    })\n",
    "    batch_loss += np.mean(now_loss) / LOGINTERVAL\n",
    "    if step % LOGINTERVAL == 0:\n",
    "        print('batch loss %10f / elapsed time %.f' % (batch_loss, time.time() - start_time), flush=True)\n",
    "        batch_loss = 0\n",
    "    if step % SAVEINTERVAL == 0:\n",
    "        run_validation()\n",
    "        saver.save(sess, 'models/Attack-language-model/lm', global_step=step)\n",
    "        print('Saved model', flush=True)"
   ]
  },
  {
   "cell_type": "code",
   "execution_count": null,
   "metadata": {
    "collapsed": true,
    "deletable": true,
    "editable": true
   },
   "outputs": [],
   "source": [
    "saver.save(sess, 'models/Attack-language-model/lm-final')"
   ]
  },
  {
   "cell_type": "markdown",
   "metadata": {
    "collapsed": true,
    "deletable": true,
    "editable": true
   },
   "source": [
    "------------------------------\n",
    "## Evaluating"
   ]
  },
  {
   "cell_type": "code",
   "execution_count": 9,
   "metadata": {
    "collapsed": false,
    "deletable": true,
    "editable": true
   },
   "outputs": [
    {
     "name": "stdout",
     "output_type": "stream",
     "text": [
      "INFO:tensorflow:Restoring parameters from models/Attack-language-model-char-based/lm-50000\n"
     ]
    }
   ],
   "source": [
    "saver = tf.train.Saver()\n",
    "sess = tf.Session()\n",
    "saver.restore(sess, 'models/Attack-language-model-char-based/lm-50000')"
   ]
  },
  {
   "cell_type": "code",
   "execution_count": 51,
   "metadata": {
    "collapsed": false,
    "deletable": true,
    "editable": true
   },
   "outputs": [
    {
     "data": {
      "text/plain": [
       "'投資料回來<eos>'"
      ]
     },
     "execution_count": 51,
     "metadata": {},
     "output_type": "execute_result"
    }
   ],
   "source": [
    "generate_text('你欠', deterministic=False, max_output_len=35)"
   ]
  },
  {
   "cell_type": "code",
   "execution_count": 11,
   "metadata": {
    "collapsed": true
   },
   "outputs": [],
   "source": [
    "sample = pd.read_csv('datas/sample_test_data.txt')\n",
    "\n",
    "sample_x1 = [[s for s in re.sub('[A-Z]:', '\\t', _).split('\\t') if len(s.strip())] for _ in sample.dialogue.values]\n",
    "sample_x2 = [[s for s in re.sub('[A-Z]:', '\\t', _).split('\\t') if len(s.strip())] for _ in sample.options.values]\n",
    "sample_y = sample.answer.values\n",
    "\n",
    "def str_2_idlst(s):\n",
    "    idlst = [ch2id[ch] for ch in s if ch in ch2id]\n",
    "    return [ch2id['<bos>']] + idlst + [ch2id['<eos>']]\n",
    "\n",
    "sample_id1 = []\n",
    "for q in sample_x1:\n",
    "    sample_id1.append([])\n",
    "    for qq in q:\n",
    "        sample_id1[-1].extend(str_2_idlst(qq))\n",
    "\n",
    "sample_id2 = []\n",
    "for rs in sample_x2:\n",
    "    sample_id2.append([])\n",
    "    for r in rs:\n",
    "        sample_id2[-1].append(str_2_idlst(r))"
   ]
  },
  {
   "cell_type": "code",
   "execution_count": 12,
   "metadata": {
    "collapsed": false
   },
   "outputs": [],
   "source": [
    "score = []\n",
    "for q, rs in zip(sample_id1, sample_id2):\n",
    "    score.append([])\n",
    "    for r in rs:\n",
    "        now_s = q + r\n",
    "        now_x = now_s[:-1]\n",
    "        now_y = now_s[1:]\n",
    "        now_score = sess.run(loss, {\n",
    "            X: [now_x],\n",
    "            Y_: [now_y],\n",
    "            Hin: np.zeros([1, INTERNALSIZE*NLAYERS]),\n",
    "            pkeep: 1,\n",
    "            batchsize: 1\n",
    "        })[0]\n",
    "        score[-1].append(now_score)"
   ]
  },
  {
   "cell_type": "code",
   "execution_count": 43,
   "metadata": {
    "collapsed": false,
    "scrolled": false
   },
   "outputs": [
    {
     "data": {
      "text/plain": [
       "10"
      ]
     },
     "execution_count": 43,
     "metadata": {},
     "output_type": "execute_result"
    }
   ],
   "source": [
    "sample_correct = np.sum([np.argmin([np.mean(vec) for vec in s]) for s in score] == sample_y)\n",
    "sample_correct"
   ]
  },
  {
   "cell_type": "code",
   "execution_count": 14,
   "metadata": {
    "collapsed": false
   },
   "outputs": [],
   "source": [
    "cossim = []\n",
    "l2dis = []\n",
    "for q, rs in zip(sample_id1, sample_id2):\n",
    "    cossim.append([])\n",
    "    l2dis.append([])\n",
    "    q_center = sess.run(H, {\n",
    "        X: [q],\n",
    "        Hin: np.zeros([1, INTERNALSIZE*NLAYERS]),\n",
    "        pkeep: 1,\n",
    "    })[0]\n",
    "    for r in rs:\n",
    "        r_center = sess.run(H, {\n",
    "            X: [r],\n",
    "            Hin: [q_center],\n",
    "            pkeep: 1,\n",
    "        })[0]\n",
    "        cossim[-1].append(spatial.distance.cosine(q_center, r_center))\n",
    "        l2dis[-1].append(np.linalg.norm(q_center - r_center))\n",
    "\n",
    "cossim = np.array(cossim).reshape(-1, 6)\n",
    "l2dis = np.array(l2dis).reshape(-1, 6)"
   ]
  },
  {
   "cell_type": "code",
   "execution_count": 15,
   "metadata": {
    "collapsed": false
   },
   "outputs": [
    {
     "data": {
      "text/plain": [
       "13"
      ]
     },
     "execution_count": 15,
     "metadata": {},
     "output_type": "execute_result"
    }
   ],
   "source": [
    "cossim_sample_correct = np.sum(np.argmin(cossim, axis=1) == sample_y)\n",
    "cossim_sample_correct"
   ]
  },
  {
   "cell_type": "code",
   "execution_count": 16,
   "metadata": {
    "collapsed": false
   },
   "outputs": [
    {
     "data": {
      "text/plain": [
       "14"
      ]
     },
     "execution_count": 16,
     "metadata": {},
     "output_type": "execute_result"
    }
   ],
   "source": [
    "l2dis_sample_correct = np.sum(np.argmin(l2dis, axis=1) == sample_y)\n",
    "l2dis_sample_correct"
   ]
  },
  {
   "cell_type": "code",
   "execution_count": null,
   "metadata": {
    "collapsed": true
   },
   "outputs": [],
   "source": []
  }
 ],
 "metadata": {
  "kernelspec": {
   "display_name": "Python 3",
   "language": "python",
   "name": "python3"
  },
  "language_info": {
   "codemirror_mode": {
    "name": "ipython",
    "version": 3
   },
   "file_extension": ".py",
   "mimetype": "text/x-python",
   "name": "python",
   "nbconvert_exporter": "python",
   "pygments_lexer": "ipython3",
   "version": "3.6.0"
  }
 },
 "nbformat": 4,
 "nbformat_minor": 2
}
