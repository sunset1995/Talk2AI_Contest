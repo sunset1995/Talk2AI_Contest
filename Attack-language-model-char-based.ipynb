{
 "cells": [
  {
   "cell_type": "code",
   "execution_count": 1,
   "metadata": {},
   "outputs": [
    {
     "name": "stderr",
     "output_type": "stream",
     "text": [
      "Using TensorFlow backend.\n"
     ]
    }
   ],
   "source": [
    "import numpy as np\n",
    "import tensorflow as tf\n",
    "\n",
    "# Import util\n",
    "import time\n",
    "import re\n",
    "import sys\n",
    "import gc\n",
    "\n",
    "# Self define module\n",
    "from mini_batch_helper import rnn_minibatch_sequencer"
   ]
  },
  {
   "cell_type": "markdown",
   "metadata": {},
   "source": [
    "## Loading corpus and forming dict"
   ]
  },
  {
   "cell_type": "code",
   "execution_count": 2,
   "metadata": {},
   "outputs": [
    {
     "name": "stdout",
     "output_type": "stream",
     "text": [
      "    traintext length: 22687760\n",
      "    validtext length: 79702\n",
      "          vocab size: 5756\n"
     ]
    }
   ],
   "source": [
    "corpus_fnames = [\n",
    "    'datas/training_data/no_TC_下課花路米.txt',\n",
    "    'datas/training_data/no_TC_誰來晚餐.txt',\n",
    "    'datas/training_data/no_TC_公視藝文大道.txt',\n",
    "    'datas/training_data/no_TC_成語賽恩思.txt',\n",
    "    'datas/training_data/no_TC_我的這一班.txt',\n",
    "    'datas/training_data/no_TC_流言追追追.txt',\n",
    "    'datas/training_data/no_TC_人生劇展.txt',\n",
    "    'datas/training_data/no_TC_聽聽看.txt',\n",
    "]\n",
    "sample_rate_on_training_datas = 1\n",
    "valid_cp_num_of_each = 1\n",
    "\n",
    "def word_tok_lst_2_ch_lst(s):\n",
    "    return ['<bos>'] + [ch.strip() for word in s for ch in word if ch.strip() != ''] + ['<eos>']\n",
    "\n",
    "def corpus_flatten(now_corpus):\n",
    "    return [ch for line in now_corpus for s in line.strip().split('\\t') for ch in word_tok_lst_2_ch_lst(s)]\n",
    "\n",
    "corpus = []\n",
    "corpus_valid = []\n",
    "for fname in corpus_fnames:\n",
    "    with open(fname, 'r') as f:\n",
    "        now_corpus = np.array([line for line in f])\n",
    "        now_corpus_valid = now_corpus[:valid_cp_num_of_each]\n",
    "        now_corpus = now_corpus[valid_cp_num_of_each:]\n",
    "        if sample_rate_on_training_datas < 1:\n",
    "            sample_num = int(max(len(now_corpus)*sample_rate_on_training_datas, 5))\n",
    "            rnd_idx = np.arange(len(now_corpus))\n",
    "            np.random.shuffle(rnd_idx)\n",
    "            now_corpus = now_corpus[rnd_idx[:sample_num]]\n",
    "        \n",
    "        corpus.extend(corpus_flatten(now_corpus))\n",
    "        corpus_valid.extend(corpus_flatten(now_corpus_valid))\n",
    "\n",
    "id2ch = list(set(corpus + corpus_valid))\n",
    "ch2id = dict([(ch, i) for i, ch in enumerate(id2ch)])\n",
    "traintext = np.array([ch2id[ch] for ch in corpus])\n",
    "validtext = np.array([ch2id[ch] for ch in corpus_valid])\n",
    "validtext_num = len(validtext)\n",
    "del(corpus)\n",
    "del(corpus_valid)\n",
    "\n",
    "print('%20s: %s' % ('traintext length', len(traintext)))\n",
    "print('%20s: %s' % ('validtext length', len(validtext)))\n",
    "print('%20s: %s' % ('vocab size', len(id2ch)))"
   ]
  },
  {
   "cell_type": "code",
   "execution_count": 3,
   "metadata": {
    "collapsed": true
   },
   "outputs": [],
   "source": [
    "with open('datas/dict/id2ch.txt', 'w') as f:\n",
    "    f.write(' '.join([ch for ch in id2ch]))\n",
    "    f.write('\\n')"
   ]
  },
  {
   "cell_type": "code",
   "execution_count": null,
   "metadata": {},
   "outputs": [],
   "source": [
    "SEQLEN = 35\n",
    "BATCHSIZE = 256\n",
    "EPOCHNUM = 40\n",
    "ALPHASIZE = len(id2ch)\n",
    "INTERNALSIZE = 200\n",
    "EMBEDDINGSIZE = 200      # Must be that EmbeddingSize == INTERNALSIZE\n",
    "NLAYERS = 2\n",
    "LEARNING_RATE = 1e-3\n",
    "DROPOUT_PKEEP = 0.8\n",
    "LOGINTERVAL = 50\n",
    "SAVEINTERVAL= 1000\n",
    "CLIP = 0.25\n",
    "\n",
    "print('%20s: %s' % ('SEQLEN', SEQLEN))\n",
    "print('%20s: %s' % ('BATCHSIZE', BATCHSIZE))\n",
    "print('%20s: %s' % ('EPOCHNUM', EPOCHNUM))\n",
    "print('%20s: %s' % ('ALPHASIZE', ALPHASIZE))\n",
    "print('%20s: %s' % ('INTERNALSIZE', INTERNALSIZE))\n",
    "print('%20s: %s' % ('NLAYERS', NLAYERS))\n",
    "print('%20s: %s' % ('LEARNING_RATE', LEARNING_RATE))\n",
    "print('%20s: %s' % ('DROPOUT_PKEEP', DROPOUT_PKEEP))\n",
    "print('%20s: %s' % ('LOGINTERVAL', LOGINTERVAL))\n",
    "print('%20s: %s' % ('SAVEINTERVAL', SAVEINTERVAL))\n",
    "print('%20s: %s' % ('CLIP', CLIP))"
   ]
  },
  {
   "cell_type": "markdown",
   "metadata": {},
   "source": [
    "-----------------------------\n",
    "## Define model\n",
    "Modified from [here](https://github.com/martin-gorner/tensorflow-rnn-shakespeare/blob/master/rnn_train.py)"
   ]
  },
  {
   "cell_type": "code",
   "execution_count": null,
   "metadata": {
    "collapsed": true
   },
   "outputs": [],
   "source": [
    "# inputs\n",
    "X = tf.placeholder(tf.int32, [None, None])    # [ BATCHSIZE, SEQLEN ]\n",
    "Y_ = tf.placeholder(tf.int32, [None, None])   # [ BATCHSIZE, SEQLEN ]\n",
    "Yo_ = tf.one_hot(Y_, ALPHASIZE, 1.0, 0.0)     # [ BATCHSIZE, SEQLEN, ALPHASIZE ]\n",
    "\n",
    "# inputs info\n",
    "lr = tf.placeholder(tf.float32)\n",
    "pkeep = tf.placeholder(tf.float32)\n",
    "batchsize = tf.placeholder(tf.int32)\n",
    "\n",
    "# embedding layer\n",
    "embeddings_w = tf.Variable(\n",
    "    np.random.uniform(-6/EMBEDDINGSIZE, 6/EMBEDDINGSIZE, [ALPHASIZE, EMBEDDINGSIZE]).astype(np.float32)\n",
    ")\n",
    "\n",
    "# input state\n",
    "Xemb = tf.gather(embeddings_w, X)                               # [ BATCHSIZE, SEQLEN, EMBEDDINGSIZE ]\n",
    "Hin = tf.placeholder(tf.float32, [None, INTERNALSIZE*NLAYERS])  # [ BATCHSIZE, INTERNALSIZE * NLAYERS]\n",
    "\n",
    "cells = [tf.contrib.rnn.GRUCell(INTERNALSIZE) for _ in range(NLAYERS)]\n",
    "dropcells = [tf.contrib.rnn.DropoutWrapper(cell, input_keep_prob=pkeep) for cell in cells]\n",
    "multicell = tf.contrib.rnn.MultiRNNCell(dropcells, state_is_tuple=False)\n",
    "multicell = tf.contrib.rnn.DropoutWrapper(multicell, output_keep_prob=pkeep)\n",
    "\n",
    "# Yr: [ BATCHSIZE, SEQLEN, INTERNALSIZE ]\n",
    "# H:  [ BATCHSIZE, INTERNALSIZE*NLAYERS ] (last state in the sequence)\n",
    "Yr, H = tf.nn.dynamic_rnn(multicell, Xemb, dtype=tf.float32, initial_state=Hin)\n",
    "\n",
    "Yflat = tf.reshape(Yr, [-1, INTERNALSIZE])               # [ BATCHSIZE x SEQLEN, INTERNALSIZE ]\n",
    "Yflat = Yflat @ tf.transpose(embeddings_w)               # [ BATCHSIZE x SEQLEN, ALPHASIZE ]\n",
    "Yflat_ = tf.reshape(Yo_, [-1, ALPHASIZE])                # [ BATCHSIZE x SEQLEN, ALPHASIZE ]\n",
    "loss = tf.nn.softmax_cross_entropy_with_logits(logits=Yflat, labels=Yflat_)  # [ BATCHSIZE x SEQLEN ]\n",
    "loss = tf.reshape(loss, [batchsize, -1])      # [ BATCHSIZE, SEQLEN ]\n",
    "\n",
    "# Gradient clipping\n",
    "optimizer = tf.train.AdamOptimizer(lr)\n",
    "gvs = optimizer.compute_gradients(loss)\n",
    "capped_gvs = [(tf.clip_by_norm(grad, CLIP), var) for grad, var in gvs]\n",
    "train_step = optimizer.apply_gradients(capped_gvs)"
   ]
  },
  {
   "cell_type": "markdown",
   "metadata": {},
   "source": [
    "----------------------------------\n",
    "## Training"
   ]
  },
  {
   "cell_type": "code",
   "execution_count": null,
   "metadata": {
    "collapsed": true
   },
   "outputs": [],
   "source": [
    "saver = tf.train.Saver()\n",
    "sess = tf.Session()\n",
    "sess.run(tf.global_variables_initializer())"
   ]
  },
  {
   "cell_type": "code",
   "execution_count": null,
   "metadata": {
    "collapsed": true
   },
   "outputs": [],
   "source": [
    "def eval_valid_loss():\n",
    "    valid_seq_len = 2000\n",
    "    istate = np.zeros([1, INTERNALSIZE*NLAYERS])\n",
    "    valid_loss = []\n",
    "    for i in range(0, validtext_num, valid_seq_len):\n",
    "        nowtext = validtext[i:i+valid_seq_len]\n",
    "        if len(nowtext) == 1:\n",
    "            continue\n",
    "        now_x = [nowtext[:-1]]\n",
    "        now_y = [nowtext[1:]]\n",
    "        now_loss, istate = sess.run([loss, H], {\n",
    "            X: now_x,\n",
    "            Y_: now_y,\n",
    "            Hin: istate,\n",
    "            pkeep: 1,\n",
    "            batchsize: 1,\n",
    "        })\n",
    "        valid_loss.append((np.mean(now_loss), len(now_loss)))\n",
    "    valid_loss = np.array(valid_loss)\n",
    "    return np.sum(valid_loss[:, 0] * valid_loss[:, 1]) / np.sum(valid_loss[:, 1])"
   ]
  },
  {
   "cell_type": "code",
   "execution_count": null,
   "metadata": {
    "collapsed": true
   },
   "outputs": [],
   "source": [
    "def generate_text(pre_s, deterministic=True, max_output_len=35):\n",
    "    pre_s = ['<bos>'] + list(pre_s)\n",
    "    pre_id = [ch2id[w] for w in pre_s if w in ch2id]\n",
    "    istate = np.zeros([1, INTERNALSIZE*NLAYERS])  # initial zero input state\n",
    "    istate = sess.run(H, {X: [pre_id[:-1]], Hin: istate, pkeep: 1})\n",
    "    now_word_id = pre_id[-1]\n",
    "    output_lst = []\n",
    "    while now_word_id != ch2id['<eos>'] and len(output_lst) < max_output_len:\n",
    "        next_word_prob, istate = sess.run([Yflat, H], {X: [[now_word_id]], Hin: istate, pkeep: 1})\n",
    "        next_word_prob = np.exp(next_word_prob[0]) / np.sum(np.exp(next_word_prob[0]))\n",
    "        if deterministic:\n",
    "            next_word_id = np.argmax(next_word_prob)\n",
    "        else:\n",
    "            next_word_id = np.argmax(np.random.multinomial(1, next_word_prob))\n",
    "        output_lst.append(id2ch[next_word_id])\n",
    "        now_word_id = next_word_id\n",
    "    return ''.join(output_lst)"
   ]
  },
  {
   "cell_type": "code",
   "execution_count": null,
   "metadata": {
    "collapsed": true
   },
   "outputs": [],
   "source": [
    "def run_validation(valid_text='今天的天'):\n",
    "    print('%20s: %s' % ('Valid loss', eval_valid_loss()))\n",
    "    print('%20s -> %s' % (valid_text, generate_text(valid_text)))"
   ]
  },
  {
   "cell_type": "code",
   "execution_count": null,
   "metadata": {
    "collapsed": true,
    "scrolled": false
   },
   "outputs": [],
   "source": [
    "step= 0\n",
    "start_time = time.time()\n",
    "istate = np.zeros([BATCHSIZE, INTERNALSIZE*NLAYERS])  # initial zero input state\n",
    "batch_loss = 0\n",
    "\n",
    "# run_validation()\n",
    "\n",
    "for x, y_, epoch in rnn_minibatch_sequencer(traintext, BATCHSIZE, SEQLEN, EPOCHNUM):\n",
    "    step += 1\n",
    "    _, now_loss, istate = sess.run([train_step, loss, H], {\n",
    "        X: x,\n",
    "        Y_: y_,\n",
    "        Hin: istate,\n",
    "        lr: LEARNING_RATE,\n",
    "        pkeep: DROPOUT_PKEEP,\n",
    "        batchsize: BATCHSIZE,\n",
    "    })\n",
    "    batch_loss += np.mean(now_loss) / LOGINTERVAL\n",
    "    if step % LOGINTERVAL == 0:\n",
    "        print('epoch %2d: batch loss %10f / elapsed time %.f' % (epoch, batch_loss, time.time() - start_time), flush=True)\n",
    "        batch_loss = 0\n",
    "    if step % SAVEINTERVAL == 0:\n",
    "        run_validation()\n",
    "        saver.save(sess, 'models/Attack-language-model/lm', global_step=step)\n",
    "        print('Saved model', flush=True)"
   ]
  },
  {
   "cell_type": "code",
   "execution_count": null,
   "metadata": {
    "collapsed": true
   },
   "outputs": [],
   "source": [
    "saver.save(sess, 'models/Attack-language-model/lm-final')"
   ]
  },
  {
   "cell_type": "markdown",
   "metadata": {
    "collapsed": true
   },
   "source": [
    "------------------------------\n",
    "## Evaluating"
   ]
  },
  {
   "cell_type": "code",
   "execution_count": null,
   "metadata": {},
   "outputs": [],
   "source": [
    "saver = tf.train.Saver()\n",
    "sess = tf.Session()\n",
    "saver.restore(sess, 'models/Attack-language-model/lm-8000')"
   ]
  },
  {
   "cell_type": "code",
   "execution_count": null,
   "metadata": {},
   "outputs": [],
   "source": [
    "generate_text('你好嗎', deterministic=True, max_output_len=10)"
   ]
  },
  {
   "cell_type": "code",
   "execution_count": null,
   "metadata": {
    "collapsed": true
   },
   "outputs": [],
   "source": []
  }
 ],
 "metadata": {
  "kernelspec": {
   "display_name": "Python 3",
   "language": "python",
   "name": "python3"
  },
  "language_info": {
   "codemirror_mode": {
    "name": "ipython",
    "version": 3
   },
   "file_extension": ".py",
   "mimetype": "text/x-python",
   "name": "python",
   "nbconvert_exporter": "python",
   "pygments_lexer": "ipython3",
   "version": "3.5.2"
  }
 },
 "nbformat": 4,
 "nbformat_minor": 2
}
