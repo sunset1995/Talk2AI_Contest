{
 "cells": [
  {
   "cell_type": "code",
   "execution_count": null,
   "metadata": {},
   "outputs": [],
   "source": [
    "import numpy as np\n",
    "import tensorflow as tf\n",
    "\n",
    "# Import util\n",
    "import time\n",
    "import re\n",
    "import sys\n",
    "import gc\n",
    "\n",
    "# Self define module\n",
    "from mini_batch_helper import rnn_minibatch_sequencer"
   ]
  },
  {
   "cell_type": "markdown",
   "metadata": {},
   "source": [
    "## Loading corpus and forming dict"
   ]
  },
  {
   "cell_type": "code",
   "execution_count": null,
   "metadata": {
    "collapsed": true
   },
   "outputs": [],
   "source": [
    "corpus_fnames = [\n",
    "    'datas/training_data/no_TC_下課花路米.txt',\n",
    "    'datas/training_data/no_TC_誰來晚餐.txt',\n",
    "    'datas/training_data/no_TC_公視藝文大道.txt',\n",
    "    'datas/training_data/no_TC_成語賽恩思.txt',\n",
    "    'datas/training_data/no_TC_我的這一班.txt',\n",
    "    'datas/training_data/no_TC_流言追追追.txt',\n",
    "    'datas/training_data/no_TC_人生劇展.txt',\n",
    "    'datas/training_data/no_TC_聽聽看.txt',\n",
    "]\n",
    "sample_rate_on_training_datas = 0.3\n",
    "\n",
    "def word_tok_lst_2_ch_lst(s):\n",
    "    return ['<bos>'] + [ch.strip() for word in s for ch in word if ch.strip() != ''] + ['<eos>']\n",
    "\n",
    "corpus = []\n",
    "for fname in corpus_fnames:\n",
    "    with open(fname, 'r') as f:\n",
    "        now_corpus = np.array([line for line in f])\n",
    "        sample_num = int(max(len(now_corpus)*sample_rate_on_training_datas, 5))\n",
    "        rnd_idx = np.arange(len(now_corpus))\n",
    "        np.random.shuffle(rnd_idx)\n",
    "        now_corpus = now_corpus[rnd_idx[:sample_num]]\n",
    "        corpus.extend([ch for line in now_corpus for s in line.strip().split('\\t') for ch in word_tok_lst_2_ch_lst(s)])\n",
    "\n",
    "id2ch = list(set(corpus))\n",
    "ch2id = dict([(ch, i) for i, ch in enumerate(id2ch)])\n",
    "\n",
    "corpus_id = np.array([ch2id[ch] for ch in corpus])\n",
    "del(corpus)"
   ]
  },
  {
   "cell_type": "code",
   "execution_count": null,
   "metadata": {
    "collapsed": true
   },
   "outputs": [],
   "source": [
    "len(corpus_id)"
   ]
  },
  {
   "cell_type": "code",
   "execution_count": null,
   "metadata": {
    "collapsed": true
   },
   "outputs": [],
   "source": [
    "SEQLEN = 10\n",
    "BATCHSIZE = 32\n",
    "EPOCHNUM = 10\n",
    "ALPHASIZE = len(id2ch)\n",
    "INTERNALSIZE = 200         # InternalSize == EmbeddingSize\n",
    "NLAYERS = 2\n",
    "LEARNING_RATE = 0.001\n",
    "DROPOUT_PKEEP = 0.8\n",
    "LOGINTERVAL = 10\n",
    "SAVEINTERVAL= 100\n",
    "# CLIP = 0.2\n",
    "\n",
    "print('%20s: %s' % ('SEQLEN', SEQLEN))\n",
    "print('%20s: %s' % ('BATCHSIZE', BATCHSIZE))\n",
    "print('%20s: %s' % ('EPOCHNUM', EPOCHNUM))\n",
    "print('%20s: %s' % ('ALPHASIZE', ALPHASIZE))\n",
    "print('%20s: %s' % ('INTERNALSIZE', INTERNALSIZE))\n",
    "print('%20s: %s' % ('NLAYERS', NLAYERS))\n",
    "print('%20s: %s' % ('LEARNING_RATE', LEARNING_RATE))\n",
    "print('%20s: %s' % ('DROPOUT_PKEEP', DROPOUT_PKEEP))\n",
    "print('%20s: %s' % ('LOGINTERVAL', LOGINTERVAL))\n",
    "print('%20s: %s' % ('SAVEINTERVAL', SAVEINTERVAL))\n",
    "print('%20s: %s' % ('CLIP', CLIP))"
   ]
  },
  {
   "cell_type": "markdown",
   "metadata": {},
   "source": [
    "-----------------------------\n",
    "## Define model\n",
    "Modified (mostly copy OuOb) from [here](https://github.com/martin-gorner/tensorflow-rnn-shakespeare/blob/master/rnn_train.py)"
   ]
  },
  {
   "cell_type": "code",
   "execution_count": null,
   "metadata": {
    "collapsed": true
   },
   "outputs": [],
   "source": [
    "# inputs\n",
    "X = tf.placeholder(tf.int32, [None, None])    # [ BATCHSIZE, SEQLEN ]\n",
    "Xo = tf.one_hot(X, ALPHASIZE, 1.0, 0.0)       # [ BATCHSIZE, SEQLEN, ALPHASIZE ]\n",
    "Y_ = tf.placeholder(tf.int32, [None, None])   # [ BATCHSIZE, SEQLEN ]\n",
    "Yo_ = tf.one_hot(Y_, ALPHASIZE)               # [ BATCHSIZE, SEQLEN, ALPHASIZE ]\n",
    "\n",
    "# inputs info\n",
    "batchsize = tf.placeholder(tf.int32)\n",
    "\n",
    "# input state\n",
    "Hin = tf.placeholder(tf.float32, [None, INTERNALSIZE*NLAYERS])  # [ BATCHSIZE, INTERNALSIZE * NLAYERS]\n",
    "\n",
    "cells = [tf.contrib.rnn.GRUCell(INTERNALSIZE) for _ in range(NLAYERS)]\n",
    "dropcells = [tf.contrib.rnn.DropoutWrapper(cell, input_keep_prob=DROPOUT_PKEEP) for cell in cells]\n",
    "multicell = tf.contrib.rnn.MultiRNNCell(dropcells, state_is_tuple=False)\n",
    "multicell = tf.contrib.rnn.DropoutWrapper(multicell, output_keep_prob=DROPOUT_PKEEP)\n",
    "\n",
    "# Yr: [ BATCHSIZE, SEQLEN, INTERNALSIZE ]\n",
    "# H:  [ BATCHSIZE, INTERNALSIZE*NLAYERS ] (last state in the sequence)\n",
    "Yr, H = tf.nn.dynamic_rnn(multicell, Xo, dtype=tf.float32, initial_state=Hin)\n",
    "\n",
    "Yflat = tf.reshape(Yr, [-1, INTERNALSIZE])               # [ BATCHSIZE x SEQLEN, INTERNALSIZE ]\n",
    "Ylogits = tf.contrib.layers.linear(Yflat, ALPHASIZE)     # [ BATCHSIZE x SEQLEN, ALPHASIZE ]\n",
    "Yflat_ = tf.reshape(Yo_, [-1, ALPHASIZE])                # [ BATCHSIZE x SEQLEN, ALPHASIZE ]\n",
    "loss = tf.nn.softmax_cross_entropy_with_logits(logits=Ylogits, labels=Yflat_)  # [ BATCHSIZE x SEQLEN ]\n",
    "loss = tf.reshape(loss, [batchsize, -1])      # [ BATCHSIZE, SEQLEN ]\n",
    "Yo = tf.nn.softmax(Ylogits)                   # [ BATCHSIZE x SEQLEN, ALPHASIZE ]\n",
    "\n",
    "# Gradient clipping\n",
    "# optimizer = tf.train.AdamOptimizer(LEARNING_RATE)\n",
    "# gvs = optimizer.compute_gradients(loss)\n",
    "# capped_gvs = [(tf.clip_by_norm(grad, CLIP), var) for grad, var in gvs]\n",
    "# train_step = optimizer.apply_gradients(capped_gvs)\n",
    "train_step = tf.train.AdamOptimizer(LEARNING_RATE).minimize(loss)"
   ]
  },
  {
   "cell_type": "markdown",
   "metadata": {},
   "source": [
    "----------------------------------\n",
    "## Training"
   ]
  },
  {
   "cell_type": "code",
   "execution_count": null,
   "metadata": {
    "collapsed": true
   },
   "outputs": [],
   "source": [
    "saver = tf.train.Saver()\n",
    "sess = tf.Session()\n",
    "sess.run(tf.global_variables_initializer())"
   ]
  },
  {
   "cell_type": "code",
   "execution_count": null,
   "metadata": {
    "collapsed": true
   },
   "outputs": [],
   "source": [
    "step= 0\n",
    "start_time = time.time()\n",
    "istate = np.zeros([BATCHSIZE, INTERNALSIZE*NLAYERS])  # initial zero input state\n",
    "batch_loss = 0\n",
    "\n",
    "for x, y_, epoch in rnn_minibatch_sequencer(traintext, BATCHSIZE, SEQLEN, EPOCHNUM):\n",
    "    step += 1\n",
    "    _, now_loss, istate = sess.run([train_step, loss, H], {\n",
    "        X: x,\n",
    "        Y_: y_,\n",
    "        Hin: istate,\n",
    "        batchsize: BATCHSIZE,\n",
    "    })\n",
    "    batch_loss += np.mean(now_loss) / LOGINTERVAL\n",
    "    if step % LOGINTERVAL == 0:\n",
    "        print('epoch %2d: batch loss %10f / elapsed time %.f' % (epoch, batch_loss, time.time() - start_time), flush=True)\n",
    "        batch_loss = 0\n",
    "    if step % SAVEINTERVAL == 0:\n",
    "        saver.save(sess, 'models/Attack-language-model/lm', global_step=step)\n",
    "        print('Saved model', flush=True)"
   ]
  },
  {
   "cell_type": "code",
   "execution_count": null,
   "metadata": {
    "collapsed": true
   },
   "outputs": [],
   "source": [
    "saver.save(sess, 'models/Attack-language-model/lm-final')"
   ]
  },
  {
   "cell_type": "markdown",
   "metadata": {
    "collapsed": true
   },
   "source": [
    "------------------------------\n",
    "## Evaluating"
   ]
  },
  {
   "cell_type": "code",
   "execution_count": null,
   "metadata": {
    "collapsed": true
   },
   "outputs": [],
   "source": []
  }
 ],
 "metadata": {
  "kernelspec": {
   "display_name": "Python 3",
   "language": "python",
   "name": "python3"
  },
  "language_info": {
   "codemirror_mode": {
    "name": "ipython",
    "version": 3
   },
   "file_extension": ".py",
   "mimetype": "text/x-python",
   "name": "python",
   "nbconvert_exporter": "python",
   "pygments_lexer": "ipython3",
   "version": "3.5.2"
  }
 },
 "nbformat": 4,
 "nbformat_minor": 2
}
