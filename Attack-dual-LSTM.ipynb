{
 "cells": [
  {
   "cell_type": "markdown",
   "metadata": {},
   "source": [
    "# Dual LSTM"
   ]
  },
  {
   "cell_type": "code",
   "execution_count": 1,
   "metadata": {},
   "outputs": [
    {
     "name": "stderr",
     "output_type": "stream",
     "text": [
      "Building prefix dict from /home/sunset/word_contest/datas/dict/dict.txt.big ...\n",
      "Loading model from cache /tmp/jieba.u849ecfdca27003d306f39ca004b82b5b.cache\n",
      "Loading model cost 1.146 seconds.\n",
      "Prefix dict has been built succesfully.\n",
      "Using TensorFlow backend.\n"
     ]
    }
   ],
   "source": [
    "import pandas as pd\n",
    "import numpy as np\n",
    "import re\n",
    "import jieba\n",
    "jieba.set_dictionary('datas/dict/dict.txt.big')\n",
    "jieba.load_userdict('datas/dict/edu_dict.txt')\n",
    "import os\n",
    "import time\n",
    "import gc\n",
    "import json\n",
    "from mini_batch_helper import extractor, MiniBatchCorpus"
   ]
  },
  {
   "cell_type": "markdown",
   "metadata": {},
   "source": [
    "## Read in  training data"
   ]
  },
  {
   "cell_type": "code",
   "execution_count": 2,
   "metadata": {
    "collapsed": true
   },
   "outputs": [],
   "source": [
    "# Read in  training data\n",
    "word2vec_fname = 'models/word2vec_no_tc_offitial_200.model.bin'\n",
    "corpus_fnames = [\n",
    "    'datas/training_data/no_TC_下課花路米.txt',\n",
    "    'datas/training_data/no_TC_人生劇展.txt',\n",
    "    'datas/training_data/no_TC_公視藝文大道.txt',\n",
    "    'datas/training_data/no_TC_成語賽恩思.txt',\n",
    "    'datas/training_data/no_TC_我的這一班.txt',\n",
    "    'datas/training_data/no_TC_流言追追追.txt',\n",
    "    'datas/training_data/no_TC_聽聽看.txt',\n",
    "    'datas/training_data/no_TC_誰來晚餐.txt',\n",
    "]\n",
    "sample_rate_on_training_datas = 0.3  # 1.0\n",
    "extra_words = ['<pad>']\n",
    "unknown_word = '<pad>'\n",
    "\n",
    "word2id, id2word, word_p, embedding_matrix, corpus, corpus_id = extractor(word2vec_fname, corpus_fnames, sample_rate_on_training_datas, extra_words, unknown_word)"
   ]
  },
  {
   "cell_type": "code",
   "execution_count": 3,
   "metadata": {},
   "outputs": [
    {
     "name": "stdout",
     "output_type": "stream",
     "text": [
      "train datas num: 685204\n",
      "valid datas num: 12854\n"
     ]
    }
   ],
   "source": [
    "# Data split\n",
    "rnd_idx = np.arange(len(corpus_id))\n",
    "np.random.shuffle(rnd_idx)\n",
    "corpus_id = corpus_id[rnd_idx[:len(corpus_id)//2]]\n",
    "valid_corpus_num = 10\n",
    "\n",
    "train_data_loader = MiniBatchCorpus(corpus_id[valid_corpus_num:])\n",
    "valid_data_loader = MiniBatchCorpus(corpus_id[:valid_corpus_num])\n",
    "print('train datas num:', train_data_loader.data_num, flush=True)\n",
    "print('valid datas num:', valid_data_loader.data_num, flush=True)"
   ]
  },
  {
   "cell_type": "code",
   "execution_count": 4,
   "metadata": {
    "collapsed": true
   },
   "outputs": [],
   "source": [
    "from pandas import Series"
   ]
  },
  {
   "cell_type": "code",
   "execution_count": 5,
   "metadata": {},
   "outputs": [
    {
     "data": {
      "text/plain": [
       "count    349453.000000\n",
       "mean          4.672185\n",
       "std           2.165904\n",
       "min           1.000000\n",
       "25%           3.000000\n",
       "50%           5.000000\n",
       "75%           6.000000\n",
       "max          15.000000\n",
       "dtype: float64"
      ]
     },
     "execution_count": 5,
     "metadata": {},
     "output_type": "execute_result"
    }
   ],
   "source": [
    "Series([len(sentence) for episode in corpus_id for sentence in episode]).describe()"
   ]
  },
  {
   "cell_type": "code",
   "execution_count": 6,
   "metadata": {},
   "outputs": [
    {
     "data": {
      "text/plain": [
       "0"
      ]
     },
     "execution_count": 6,
     "metadata": {},
     "output_type": "execute_result"
    }
   ],
   "source": [
    "max_seq_len = max([len(sentence) for episode in corpus_id for sentence in episode])\n",
    "max_seq_len\n",
    "\n",
    "del(corpus)\n",
    "gc.collect()"
   ]
  },
  {
   "cell_type": "markdown",
   "metadata": {},
   "source": [
    "## Model ( tf )"
   ]
  },
  {
   "cell_type": "code",
   "execution_count": 7,
   "metadata": {
    "collapsed": true
   },
   "outputs": [],
   "source": [
    "# reference: https://github.com/dennybritz/chatbot-retrieval/blob/8b1be4c2e63631b1180b97ef927dc2c1f7fe9bea/udc_hparams.py\n",
    "exp_name = 'dual_lstm_3'\n",
    "# Model Parameters\n",
    "params = {}\n",
    "save_params_dir = 'models/%s/' %exp_name\n",
    "params['word2vec_model_name'] = word2vec_fname\n",
    "params['word2vec_vocab_size'] = embedding_matrix.shape[0]\n",
    "params['word2vec_dim'] = embedding_matrix.shape[1]\n",
    "params['rnn_dim'] = 256  # 256, 384, 512\n",
    "params['n_layers'] = 1\n",
    "\n",
    "# Training Parameters\n",
    "params['learning_rate'] = 1e-4\n",
    "params['keep_prob_train'] = 0.8\n",
    "params['keep_prob_valid'] = 1.0\n",
    "params['l1_loss'] = 1e-4 # regularize M\n",
    "params['clip'] = 0.25\n",
    "params['batch_size'] = 256\n",
    "params['eval_batch_size'] = 16\n",
    "params['n_iterations'] = int(40 * train_data_loader.data_num / params['batch_size'])"
   ]
  },
  {
   "cell_type": "code",
   "execution_count": 8,
   "metadata": {
    "collapsed": true
   },
   "outputs": [],
   "source": [
    "if not os.path.exists(save_params_dir):\n",
    "    os.makedirs(save_params_dir)\n",
    "with open(save_params_dir+'model_parameters.json', 'w') as f:\n",
    "    json.dump(params, f, indent=1)"
   ]
  },
  {
   "cell_type": "code",
   "execution_count": 9,
   "metadata": {
    "collapsed": true
   },
   "outputs": [],
   "source": [
    "record = {}\n",
    "save_record_dir = 'models/%s/' %exp_name\n",
    "record['newest_model_dir'] = 'models/' + exp_name +'/newest/'\n",
    "record['best_model_dir'] = 'models/' + exp_name +'/best/'\n",
    "record['loss_train'] = []\n",
    "record['loss_valid'] = []\n",
    "record['accuracy_valid'] = []\n",
    "record['best_iter'] = 0\n",
    "record['sample_correct'] = 0"
   ]
  },
  {
   "cell_type": "markdown",
   "metadata": {},
   "source": [
    "## TODO: Embedding 後可以考慮加一層 Dropout"
   ]
  },
  {
   "cell_type": "code",
   "execution_count": 10,
   "metadata": {
    "collapsed": true
   },
   "outputs": [],
   "source": [
    "# Define model\n",
    "import tensorflow as tf\n",
    "\n",
    "# Input\n",
    "#context = tf.placeholder(dtype=tf.int64, shape=(None, max_seq_len), name='context')\n",
    "#response = tf.placeholder(dtype=tf.int64, shape=(None, max_seq_len), name='response')\n",
    "context = tf.placeholder(dtype=tf.int64, shape=(None, None), name='context')\n",
    "response = tf.placeholder(dtype=tf.int64, shape=(None, None), name='response')\n",
    "target = tf.placeholder(dtype=tf.int64, shape=(None, ), name='target')\n",
    "keep_prob = tf.placeholder(dtype=tf.float32, name='keep_prob')\n",
    "\n",
    "\n",
    "#with tf.device('/gpu:0'):\n",
    "# Embedding\n",
    "init_embedding_W = tf.constant_initializer(embedding_matrix)\n",
    "embeddings_W = tf.get_variable('embeddings_W', shape=[embedding_matrix.shape[0], embedding_matrix.shape[1]], initializer=init_embedding_W)\n",
    "context_embedded = tf.nn.embedding_lookup(embeddings_W, context, name=\"embed_context\")\n",
    "response_embedded = tf.nn.embedding_lookup(embeddings_W, response, name=\"embed_response\")\n",
    "\n",
    "if params['n_layers'] == 1:\n",
    "# shared LSTM encoder\n",
    "    cell = tf.nn.rnn_cell.LSTMCell(num_units=params['rnn_dim'], forget_bias=2.0, \n",
    "                use_peepholes=True, state_is_tuple=True, reuse=tf.get_variable_scope().reuse)\n",
    "    cell = tf.contrib.rnn.DropoutWrapper(cell, input_keep_prob=keep_prob, output_keep_prob=keep_prob)\n",
    "    c_outputs, c_states = tf.nn.dynamic_rnn(cell, context_embedded, dtype=tf.float32)\n",
    "    encoding_context = c_states.h\n",
    "    r_outputs, r_states = tf.nn.dynamic_rnn(cell, response_embedded, dtype=tf.float32)\n",
    "    encoding_response = r_states.h\n",
    "else:\n",
    "    cells = [tf.nn.rnn_cell.LSTMCell(num_units=params['rnn_dim'], forget_bias=2.0, use_peepholes=True, state_is_tuple=False, reuse=tf.get_variable_scope().reuse) \n",
    "                for _ in range(params['n_layers'])]\n",
    "    dropcells = [tf.contrib.rnn.DropoutWrapper(cell,input_keep_prob=keep_prob) for cell in cells]\n",
    "    multicell = tf.contrib.rnn.MultiRNNCell(dropcells, state_is_tuple=False)\n",
    "    multicell = tf.contrib.rnn.DropoutWrapper(multicell, output_keep_prob=keep_prob)\n",
    "    c_outputs, c_states = tf.nn.dynamic_rnn(multicell, context_embedded, dtype=tf.float32)\n",
    "    encoding_context = c_states.h\n",
    "    r_outputs, r_states = tf.nn.dynamic_rnn(multicell, response_embedded, dtype=tf.float32)\n",
    "    encoding_response = r_states.h\n",
    "\n",
    "# σ(cMr)\n",
    "M = tf.get_variable('M', shape=[params['rnn_dim'], params['rnn_dim']], initializer=tf.truncated_normal_initializer(stddev=0.01))\n",
    "\n",
    "# \"Predict\" a  response: c * M\n",
    "generated_response = tf.matmul(encoding_context, M)\n",
    "generated_response = tf.expand_dims(generated_response, 2)\n",
    "encoding_response = tf.expand_dims(encoding_response, 2)\n",
    "\n",
    "# Dot product between generated response and actual response\n",
    "logits = tf.matmul(generated_response, encoding_response, True)\n",
    "logits = tf.reshape(logits, [-1])\n",
    "\n",
    "# Apply sigmoid to convert logits to probabilities (for prediction, not for loss)\n",
    "probs = tf.sigmoid(logits)\n",
    "correct_prediction = tf.logical_or( tf.logical_and(tf.equal(target,1), tf.greater_equal(probs,0.5)), tf.logical_and(tf.equal(target,0), tf.less(probs,0.5)))\n",
    "accuracy = tf.reduce_mean(tf.cast(correct_prediction, tf.float32))\n",
    "# Calculate the binary cross-entropy loss\n",
    "loss = tf.reduce_mean(tf.nn.sigmoid_cross_entropy_with_logits(logits=logits, labels=tf.to_float(target)))\n",
    "loss = loss + params['l1_loss'] * tf.reduce_sum(tf.abs(M))\n",
    "\n",
    "#train_step = tf.train.AdamOptimizer(params['learning_rate']).minimize(loss)\n",
    "optimizer = tf.train.AdamOptimizer(params['learning_rate'])\n",
    "gvs = optimizer.compute_gradients(loss)\n",
    "capped_gvs = [(tf.clip_by_norm(grad, params['clip']), var) for grad, var in gvs]\n",
    "train_step = optimizer.apply_gradients(capped_gvs)"
   ]
  },
  {
   "cell_type": "code",
   "execution_count": null,
   "metadata": {
    "collapsed": true
   },
   "outputs": [],
   "source": [
    "def get_valid_loss_accuracy(sess):\n",
    "    valid_loss = 0\n",
    "    valid_accuracy = 0\n",
    "    n_iter = int(valid_data_loader.data_num/params['batch_size'])\n",
    "    for iter in range(n_iter):\n",
    "        next_x1, next_x2, next_y = valid_data_loader.next_batch(batch_size=params['batch_size'], pad_to_length=max_seq_len)\n",
    "        new_accuracy, new_loss = sess.run([accuracy, loss], feed_dict={context: next_x1, response: next_x2, target: next_y, keep_prob: params['keep_prob_valid']}) \n",
    "        valid_accuracy += new_accuracy\n",
    "        valid_loss += new_loss\n",
    "    valid_loss /= n_iter\n",
    "    valid_accuracy /= n_iter\n",
    "    print('Valid loss = %.5f, accuracy = %.5f' % (valid_loss, valid_accuracy), flush=True)\n",
    "    record['loss_valid'].append( valid_loss.tolist() )\n",
    "    record['accuracy_valid'].append( valid_accuracy.tolist() )\n",
    "    return valid_loss"
   ]
  },
  {
   "cell_type": "code",
   "execution_count": null,
   "metadata": {
    "scrolled": true
   },
   "outputs": [
    {
     "name": "stdout",
     "output_type": "stream",
     "text": [
      "Iterations    1:\tloss of batch = 0.74121 / elapsed time 1\n",
      "Valid loss = 0.73944, accuracy = 0.51641\n",
      "Best model save in 0 iteration\n",
      "Iterations    2:\tloss of batch = 0.74038 / elapsed time 9\n",
      "Iterations    3:\tloss of batch = 0.73951 / elapsed time 12\n",
      "Iterations    4:\tloss of batch = 0.73789 / elapsed time 16\n",
      "Iterations    5:\tloss of batch = 0.73788 / elapsed time 19\n",
      "Iterations    6:\tloss of batch = 0.73935 / elapsed time 22\n",
      "Iterations    7:\tloss of batch = 0.73679 / elapsed time 26\n",
      "Iterations    8:\tloss of batch = 0.73239 / elapsed time 29\n",
      "Iterations    9:\tloss of batch = 0.73672 / elapsed time 32\n",
      "Iterations   10:\tloss of batch = 0.73611 / elapsed time 36\n"
     ]
    }
   ],
   "source": [
    "# Train\n",
    "start_time = time.time()\n",
    "saver = tf.train.Saver()\n",
    "with tf.Session() as sess:\n",
    "    init = tf.global_variables_initializer()\n",
    "    sess.run(init)\n",
    "    \n",
    "    # Restore model\n",
    "    # saver.restore(sess, record['best_model_dir']+'model.ckpt')\n",
    "    # print('Retrain model.', flush=True)\n",
    "    best_valid_loss = 0\n",
    "    for it in range(params['n_iterations']):\n",
    "        print('Iterations %4d:\\t' %(it+1) , end='', flush=True)\n",
    "        # Train next batch\n",
    "        next_x1, next_x2, next_y = train_data_loader.next_batch(batch_size=params['batch_size'], pad_to_length=max_seq_len)\n",
    "        batch_loss, _ = sess.run([loss, train_step], feed_dict={context: next_x1, response: next_x2, target: next_y, keep_prob: params['keep_prob_train']})\n",
    "        print('loss of batch = %.5f / elapsed time %.f' % (batch_loss, time.time() - start_time), flush=True)\n",
    "        record['loss_train'].append( batch_loss.tolist() )\n",
    "        if it % 10 == 0:\n",
    "            # Save the model if has smaller loss\n",
    "            current_valid_loss = get_valid_loss_accuracy(sess)\n",
    "            if current_valid_loss >= best_valid_loss:\n",
    "                best_valid_loss = current_valid_loss\n",
    "                if not os.path.exists(record['best_model_dir']):\n",
    "                    os.makedirs(record['best_model_dir'])\n",
    "                save_path = saver.save(sess, record['best_model_dir']+'model.ckpt')\n",
    "                record['best_iter'] = it\n",
    "                print('Best model save in %d iteration' %it, flush=True)\n",
    "        if not os.path.exists(record['newest_model_dir']):\n",
    "            os.makedirs(record['newest_model_dir'])\n",
    "        save_path = saver.save(sess, record['newest_model_dir']+'model.ckpt')"
   ]
  },
  {
   "cell_type": "code",
   "execution_count": null,
   "metadata": {
    "collapsed": true
   },
   "outputs": [],
   "source": [
    "# Validation\n",
    "saver = tf.train.Saver()\n",
    "with tf.Session() as sess:\n",
    "    # Restore model\n",
    "    saver.restore(sess, record['best_model_dir']+'model.ckpt')\n",
    "    get_valid_loss_accuracy(sess)"
   ]
  },
  {
   "cell_type": "code",
   "execution_count": null,
   "metadata": {
    "collapsed": true
   },
   "outputs": [],
   "source": [
    "# Validation\n",
    "saver = tf.train.Saver()\n",
    "with tf.Session() as sess:\n",
    "    # Restore model\n",
    "    saver.restore(sess, record['best_model_dir']+'model.ckpt')\n",
    "    get_valid_loss_accuracy(sess)"
   ]
  }
 ],
 "metadata": {
  "kernelspec": {
   "display_name": "Python 3",
   "language": "python",
   "name": "python3"
  },
  "language_info": {
   "codemirror_mode": {
    "name": "ipython",
    "version": 3
   },
   "file_extension": ".py",
   "mimetype": "text/x-python",
   "name": "python",
   "nbconvert_exporter": "python",
   "pygments_lexer": "ipython3",
   "version": "3.5.2"
  }
 },
 "nbformat": 4,
 "nbformat_minor": 2
}
